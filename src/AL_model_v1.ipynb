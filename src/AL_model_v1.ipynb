{
 "cells": [
  {
   "cell_type": "code",
   "execution_count": 1,
   "metadata": {},
   "outputs": [
    {
     "name": "stdout",
     "output_type": "stream",
     "text": [
      "TF version: 2.3.0\n"
     ]
    }
   ],
   "source": [
    "# import the general stuff\n",
    "import os\n",
    "from os import getcwd\n",
    "import matplotlib.pyplot as plt\n",
    "import pandas as pd \n",
    "import numpy as np\n",
    "from sklearn import metrics\n",
    "import math\n",
    "\n",
    "#import stuff for gradCAM\n",
    "import matplotlib.cm as cm\n",
    "from IPython.display import Image\n",
    "\n",
    "#import the tf stuff\n",
    "import tensorflow as tf\n",
    "from tensorflow.keras import layers\n",
    "from tensorflow.keras import Model\n",
    "\n",
    "from tensorflow.keras.preprocessing.image import ImageDataGenerator\n",
    "\n",
    "#Check TensorFlow Version\n",
    "print('TF version: {}' .format(tf.__version__))"
   ]
  },
  {
   "cell_type": "code",
   "execution_count": 2,
   "metadata": {},
   "outputs": [
    {
     "name": "stdout",
     "output_type": "stream",
     "text": [
      " GPU: /device:GPU:0\n"
     ]
    }
   ],
   "source": [
    "#Check for GPU utilization\n",
    "if tf.test.gpu_device_name():\n",
    "    print(' GPU: {}'.format(tf.test.gpu_device_name()))\n",
    "else:\n",
    "    print(\"No GPU\")"
   ]
  },
  {
   "cell_type": "code",
   "execution_count": 3,
   "metadata": {},
   "outputs": [],
   "source": [
    "# define a callback\n",
    "\n",
    "callbacks = tf.keras.callbacks.EarlyStopping(monitor = 'val_acc', \n",
    "                                             patience = 30, \n",
    "                                             restore_best_weights = True)"
   ]
  },
  {
   "cell_type": "code",
   "execution_count": 4,
   "metadata": {},
   "outputs": [
    {
     "name": "stdout",
     "output_type": "stream",
     "text": [
      "Found 548 images belonging to 2 classes.\n",
      "Found 136 images belonging to 2 classes.\n"
     ]
    }
   ],
   "source": [
    "#build data generators for training and validaton\n",
    "\n",
    "split = 0.2\n",
    "\n",
    "total_train = 548\n",
    "total_val = 136\n",
    "\n",
    "\n",
    "# Define dirs and files\n",
    "train_data_dir = '../data/pics/labelertoModel/AllRounds'\n",
    "\n",
    "# Add our data-augmentation parameters to ImageDataGenerator and split data\n",
    "train_datagen = ImageDataGenerator(rescale =1./255.,\n",
    "                                   rotation_range = 90,\n",
    "                                   width_shift_range = 0.5,\n",
    "                                   height_shift_range = 0.5,\n",
    "                                   shear_range = 0.45,\n",
    "                                   zoom_range = 0.2,\n",
    "                                   horizontal_flip = True,\n",
    "                                   vertical_flip = True,\n",
    "                                   validation_split = split)\n",
    "\n",
    "\n",
    "#set batch Size\n",
    "batch_size = 8\n",
    "\n",
    "#set Image size (RGB so imshape is 3)\n",
    "pix_dim = 416\n",
    "imsize = (pix_dim,pix_dim) \n",
    "imshape = (pix_dim,pix_dim,3)\n",
    "\n",
    "# Flow training images in batches \n",
    "train_generator = train_datagen.flow_from_directory(train_data_dir,\n",
    "                                                    batch_size = batch_size,\n",
    "                                                    class_mode = 'binary',\n",
    "                                                    target_size = imsize,\n",
    "                                                    subset='training')\n",
    "\n",
    "# Flow validation images in batches \n",
    "validation_generator =  train_datagen.flow_from_directory(train_data_dir, # same directory as training data,\n",
    "                                                        batch_size = batch_size,\n",
    "                                                        class_mode = 'binary',\n",
    "                                                        target_size = imsize,\n",
    "                                                        subset='validation')"
   ]
  },
  {
   "cell_type": "code",
   "execution_count": 5,
   "metadata": {},
   "outputs": [],
   "source": [
    "#weights for imbalanced data\n",
    "#https://keras.io/examples/vision/xray_classification_with_tpus/\n",
    "\n",
    "#initial_bias = np.log([total_nowash / total_wash])\n",
    "#print(\"Initial bias: {:.5f}\".format(initial_bias[0]))\n",
    "\n",
    "#total_images = total_wash + total_nowash\n",
    "#weight_for_0 = (1 / total_nowash) * (total_images) / 2.0\n",
    "#weight_for_1 = (1 / total_wash) * (total_images) / 2.0\n",
    "\n",
    "#class_weight = {0: weight_for_0, 1: weight_for_1}\n",
    "\n",
    "#print(\"Weight for class 0: {:.2f}\".format(weight_for_0))\n",
    "#print(\"Weight for class 1: {:.2f}\".format(weight_for_1))"
   ]
  },
  {
   "cell_type": "code",
   "execution_count": 6,
   "metadata": {},
   "outputs": [],
   "source": [
    "# define the metrics\n",
    "acc_metric = tf.keras.metrics.BinaryAccuracy(name='acc')"
   ]
  },
  {
   "cell_type": "code",
   "execution_count": 8,
   "metadata": {},
   "outputs": [
    {
     "name": "stdout",
     "output_type": "stream",
     "text": [
      "shape of last layer is  (None, 13, 13, 512)\n",
      "Model: \"functional_3\"\n",
      "_________________________________________________________________\n",
      "Layer (type)                 Output Shape              Param #   \n",
      "=================================================================\n",
      "input_2 (InputLayer)         [(None, 416, 416, 3)]     0         \n",
      "_________________________________________________________________\n",
      "block1_conv1 (Conv2D)        (None, 416, 416, 64)      1792      \n",
      "_________________________________________________________________\n",
      "block1_conv2 (Conv2D)        (None, 416, 416, 64)      36928     \n",
      "_________________________________________________________________\n",
      "block1_pool (MaxPooling2D)   (None, 208, 208, 64)      0         \n",
      "_________________________________________________________________\n",
      "block2_conv1 (Conv2D)        (None, 208, 208, 128)     73856     \n",
      "_________________________________________________________________\n",
      "block2_conv2 (Conv2D)        (None, 208, 208, 128)     147584    \n",
      "_________________________________________________________________\n",
      "block2_pool (MaxPooling2D)   (None, 104, 104, 128)     0         \n",
      "_________________________________________________________________\n",
      "block3_conv1 (Conv2D)        (None, 104, 104, 256)     295168    \n",
      "_________________________________________________________________\n",
      "block3_conv2 (Conv2D)        (None, 104, 104, 256)     590080    \n",
      "_________________________________________________________________\n",
      "block3_conv3 (Conv2D)        (None, 104, 104, 256)     590080    \n",
      "_________________________________________________________________\n",
      "block3_pool (MaxPooling2D)   (None, 52, 52, 256)       0         \n",
      "_________________________________________________________________\n",
      "block4_conv1 (Conv2D)        (None, 52, 52, 512)       1180160   \n",
      "_________________________________________________________________\n",
      "block4_conv2 (Conv2D)        (None, 52, 52, 512)       2359808   \n",
      "_________________________________________________________________\n",
      "block4_conv3 (Conv2D)        (None, 52, 52, 512)       2359808   \n",
      "_________________________________________________________________\n",
      "block4_pool (MaxPooling2D)   (None, 26, 26, 512)       0         \n",
      "_________________________________________________________________\n",
      "block5_conv1 (Conv2D)        (None, 26, 26, 512)       2359808   \n",
      "_________________________________________________________________\n",
      "block5_conv2 (Conv2D)        (None, 26, 26, 512)       2359808   \n",
      "_________________________________________________________________\n",
      "block5_conv3 (Conv2D)        (None, 26, 26, 512)       2359808   \n",
      "_________________________________________________________________\n",
      "block5_pool (MaxPooling2D)   (None, 13, 13, 512)       0         \n",
      "_________________________________________________________________\n",
      "flatten_1 (Flatten)          (None, 86528)             0         \n",
      "_________________________________________________________________\n",
      "dense_2 (Dense)              (None, 1024)              88605696  \n",
      "_________________________________________________________________\n",
      "dropout_1 (Dropout)          (None, 1024)              0         \n",
      "_________________________________________________________________\n",
      "dense_3 (Dense)              (None, 1)                 1025      \n",
      "=================================================================\n",
      "Total params: 103,321,409\n",
      "Trainable params: 103,321,409\n",
      "Non-trainable params: 0\n",
      "_________________________________________________________________\n"
     ]
    }
   ],
   "source": [
    "#load or build model\n",
    "##########\n",
    "'''\n",
    "#model path\n",
    "model_path = './models/saved_VGG16_retrain'\n",
    "\n",
    "#load it in to tf\n",
    "model = tf.keras.models.load_model(model_path, compile = True)\n",
    "############\n",
    "'''\n",
    "#from scratch:\n",
    "#base model, no top layer, w/ imagenet weights\n",
    "base_model = tf.keras.applications.VGG16(input_shape = imshape, \n",
    "                                             include_top = False, \n",
    "                                             weights = 'imagenet')\n",
    "\n",
    "base_model.trainable = True\n",
    "# add a new classifcation layer\n",
    "\n",
    "final_layer = base_model.get_layer('block5_pool')\n",
    "print('shape of last layer is ', final_layer.output_shape)\n",
    "final_base_output = final_layer.output\n",
    "\n",
    "\n",
    "#add the last layer\n",
    "# Flatten the output layer to 1 dimension\n",
    "x = layers.Flatten()(final_base_output )\n",
    "# Add a fully connected layer with 1,024 hidden units and ReLU activation\n",
    "x = layers.Dense(1024, activation='relu', kernel_regularizer = tf.keras.regularizers.l2(1e-4))(x)\n",
    "# Add a dropout rate of 0.5\n",
    "x = layers.Dropout(0.5)(x)                  \n",
    "# Add a final sigmoid layer for classification\n",
    "x = layers.Dense(1, activation='sigmoid')(x)           \n",
    "\n",
    "model = Model(base_model.input, x) \n",
    "#############\n",
    "model.summary()"
   ]
  },
  {
   "cell_type": "code",
   "execution_count": 9,
   "metadata": {},
   "outputs": [],
   "source": [
    "# layers in the base model\n",
    "#print(\"Number of layers in model: \", len(model.layers))"
   ]
  },
  {
   "cell_type": "code",
   "execution_count": 10,
   "metadata": {},
   "outputs": [],
   "source": [
    "#finetuning\n",
    "#model.trainable = True\n",
    "\n",
    "# Fine-tune from this layer onwards (16 is Block5 Conv1)\n",
    "#fine_tune_at = 20\n",
    "\n",
    "# Freeze all the layers before the `fine_tune_at` layer\n",
    "#for layer in model.layers[:fine_tune_at]:\n",
    "#  layer.trainable =  False\n"
   ]
  },
  {
   "cell_type": "code",
   "execution_count": 11,
   "metadata": {},
   "outputs": [],
   "source": [
    "#build the model\n",
    "model.compile(loss = 'binary_crossentropy',\n",
    "              optimizer = tf.keras.optimizers.RMSprop(lr = 1e-5, decay = 1e-5),\n",
    "              metrics = acc_metric)"
   ]
  },
  {
   "cell_type": "code",
   "execution_count": 12,
   "metadata": {
    "scrolled": true
   },
   "outputs": [
    {
     "name": "stdout",
     "output_type": "stream",
     "text": [
      "Epoch 1/200\n",
      " 2/68 [..............................] - ETA: 14s - loss: 1.6088 - acc: 0.4375WARNING:tensorflow:Callbacks method `on_train_batch_end` is slow compared to the batch time (batch time: 0.1417s vs `on_train_batch_end` time: 0.3056s). Check your callbacks.\n",
      "68/68 [==============================] - 138s 2s/step - loss: 0.9423 - acc: 0.5463 - val_loss: 0.6851 - val_acc: 0.5956\n",
      "Epoch 2/200\n",
      "68/68 [==============================] - 137s 2s/step - loss: 0.8219 - acc: 0.6148 - val_loss: 0.4316 - val_acc: 0.9632\n",
      "Epoch 3/200\n",
      "68/68 [==============================] - 137s 2s/step - loss: 0.7300 - acc: 0.6963 - val_loss: 0.3966 - val_acc: 0.9265\n",
      "Epoch 4/200\n",
      "68/68 [==============================] - 138s 2s/step - loss: 0.7041 - acc: 0.7222 - val_loss: 0.3567 - val_acc: 0.9485\n",
      "Epoch 5/200\n",
      "68/68 [==============================] - 137s 2s/step - loss: 0.6627 - acc: 0.7111 - val_loss: 0.2979 - val_acc: 0.9559\n",
      "Epoch 6/200\n",
      "68/68 [==============================] - 138s 2s/step - loss: 0.6002 - acc: 0.7630 - val_loss: 0.3505 - val_acc: 0.9265\n",
      "Epoch 7/200\n",
      "68/68 [==============================] - 137s 2s/step - loss: 0.5904 - acc: 0.7574 - val_loss: 0.3663 - val_acc: 0.8750\n",
      "Epoch 8/200\n",
      "68/68 [==============================] - 137s 2s/step - loss: 0.5834 - acc: 0.7722 - val_loss: 0.2929 - val_acc: 0.9412\n",
      "Epoch 9/200\n",
      "68/68 [==============================] - 139s 2s/step - loss: 0.5689 - acc: 0.7759 - val_loss: 0.2473 - val_acc: 0.9412\n",
      "Epoch 10/200\n",
      "68/68 [==============================] - 137s 2s/step - loss: 0.5134 - acc: 0.7815 - val_loss: 0.2292 - val_acc: 0.9485\n",
      "Epoch 11/200\n",
      "68/68 [==============================] - 138s 2s/step - loss: 0.5248 - acc: 0.7759 - val_loss: 0.2528 - val_acc: 0.9412\n",
      "Epoch 12/200\n",
      "68/68 [==============================] - 140s 2s/step - loss: 0.4511 - acc: 0.8185 - val_loss: 0.2382 - val_acc: 0.9559\n",
      "Epoch 13/200\n",
      "68/68 [==============================] - 139s 2s/step - loss: 0.4948 - acc: 0.7963 - val_loss: 0.2331 - val_acc: 0.9412\n",
      "Epoch 14/200\n",
      "68/68 [==============================] - 141s 2s/step - loss: 0.4894 - acc: 0.7815 - val_loss: 0.1769 - val_acc: 0.9706\n",
      "Epoch 15/200\n",
      "68/68 [==============================] - 140s 2s/step - loss: 0.4506 - acc: 0.8241 - val_loss: 0.1419 - val_acc: 0.9632\n",
      "Epoch 16/200\n",
      "68/68 [==============================] - 139s 2s/step - loss: 0.4649 - acc: 0.7944 - val_loss: 0.1575 - val_acc: 0.9632\n",
      "Epoch 17/200\n",
      "68/68 [==============================] - 139s 2s/step - loss: 0.4500 - acc: 0.8037 - val_loss: 0.1641 - val_acc: 0.9559\n",
      "Epoch 18/200\n",
      "68/68 [==============================] - 139s 2s/step - loss: 0.4310 - acc: 0.8185 - val_loss: 0.1868 - val_acc: 0.9559\n",
      "Epoch 19/200\n",
      "68/68 [==============================] - 138s 2s/step - loss: 0.4085 - acc: 0.8185 - val_loss: 0.2165 - val_acc: 0.9632\n",
      "Epoch 20/200\n",
      "68/68 [==============================] - 138s 2s/step - loss: 0.4200 - acc: 0.8167 - val_loss: 0.1972 - val_acc: 0.9706\n",
      "Epoch 21/200\n",
      "68/68 [==============================] - 138s 2s/step - loss: 0.4047 - acc: 0.8148 - val_loss: 0.1551 - val_acc: 0.9632\n",
      "Epoch 22/200\n",
      "68/68 [==============================] - 139s 2s/step - loss: 0.4284 - acc: 0.8148 - val_loss: 0.1538 - val_acc: 0.9632\n",
      "Epoch 23/200\n",
      "68/68 [==============================] - 138s 2s/step - loss: 0.3962 - acc: 0.8426 - val_loss: 0.2021 - val_acc: 0.9632\n",
      "Epoch 24/200\n",
      "68/68 [==============================] - 138s 2s/step - loss: 0.4001 - acc: 0.8241 - val_loss: 0.2453 - val_acc: 0.9632\n",
      "Epoch 25/200\n",
      "68/68 [==============================] - 138s 2s/step - loss: 0.4068 - acc: 0.8426 - val_loss: 0.1848 - val_acc: 0.9632\n",
      "Epoch 26/200\n",
      "68/68 [==============================] - 139s 2s/step - loss: 0.4055 - acc: 0.8111 - val_loss: 0.2910 - val_acc: 0.9191\n",
      "Epoch 27/200\n",
      "68/68 [==============================] - 138s 2s/step - loss: 0.3620 - acc: 0.8370 - val_loss: 0.4517 - val_acc: 0.9044\n",
      "Epoch 28/200\n",
      "68/68 [==============================] - 138s 2s/step - loss: 0.3868 - acc: 0.8315 - val_loss: 0.1405 - val_acc: 0.9559\n",
      "Epoch 29/200\n",
      "68/68 [==============================] - 139s 2s/step - loss: 0.3882 - acc: 0.8389 - val_loss: 0.2158 - val_acc: 0.9412\n",
      "Epoch 30/200\n",
      "68/68 [==============================] - 138s 2s/step - loss: 0.3363 - acc: 0.8574 - val_loss: 0.0943 - val_acc: 0.9706\n",
      "Epoch 31/200\n",
      "68/68 [==============================] - 138s 2s/step - loss: 0.3740 - acc: 0.8529 - val_loss: 0.2179 - val_acc: 0.9485\n",
      "Epoch 32/200\n",
      "68/68 [==============================] - 138s 2s/step - loss: 0.3854 - acc: 0.8222 - val_loss: 0.1629 - val_acc: 0.9632\n",
      "Epoch 33/200\n",
      "68/68 [==============================] - 139s 2s/step - loss: 0.3691 - acc: 0.8456 - val_loss: 0.1472 - val_acc: 0.9632\n",
      "Epoch 34/200\n",
      "68/68 [==============================] - 138s 2s/step - loss: 0.3637 - acc: 0.8426 - val_loss: 0.2770 - val_acc: 0.9118\n",
      "Epoch 35/200\n",
      "68/68 [==============================] - 138s 2s/step - loss: 0.4112 - acc: 0.8241 - val_loss: 0.1482 - val_acc: 0.9412\n",
      "Epoch 36/200\n",
      "68/68 [==============================] - 138s 2s/step - loss: 0.3621 - acc: 0.8704 - val_loss: 0.1632 - val_acc: 0.9706\n",
      "Epoch 37/200\n",
      "68/68 [==============================] - 139s 2s/step - loss: 0.3686 - acc: 0.8389 - val_loss: 0.3368 - val_acc: 0.9338\n",
      "Epoch 38/200\n",
      "68/68 [==============================] - 140s 2s/step - loss: 0.3502 - acc: 0.8574 - val_loss: 0.1853 - val_acc: 0.9338\n",
      "Epoch 39/200\n",
      "68/68 [==============================] - 140s 2s/step - loss: 0.3716 - acc: 0.8593 - val_loss: 0.2972 - val_acc: 0.9559\n",
      "Epoch 40/200\n",
      "68/68 [==============================] - 138s 2s/step - loss: 0.3284 - acc: 0.8704 - val_loss: 0.2571 - val_acc: 0.9485\n",
      "Epoch 41/200\n",
      "68/68 [==============================] - 140s 2s/step - loss: 0.3480 - acc: 0.8640 - val_loss: 0.1609 - val_acc: 0.9706\n",
      "Epoch 42/200\n",
      "68/68 [==============================] - 138s 2s/step - loss: 0.3390 - acc: 0.8444 - val_loss: 0.1511 - val_acc: 0.9706\n",
      "Epoch 43/200\n",
      "68/68 [==============================] - 138s 2s/step - loss: 0.3474 - acc: 0.8389 - val_loss: 0.1718 - val_acc: 0.9706\n",
      "Epoch 44/200\n",
      "68/68 [==============================] - 142s 2s/step - loss: 0.3610 - acc: 0.8463 - val_loss: 0.0999 - val_acc: 0.9706\n"
     ]
    }
   ],
   "source": [
    "#train the model\n",
    "history = model.fit(train_generator,\n",
    "                    steps_per_epoch = total_train // batch_size,\n",
    "                    validation_data = validation_generator,\n",
    "                    epochs= 200,\n",
    "                    validation_steps =  total_val // batch_size,\n",
    "                    callbacks =[callbacks])"
   ]
  },
  {
   "cell_type": "code",
   "execution_count": 13,
   "metadata": {},
   "outputs": [
    {
     "data": {
      "image/png": "[encoded data removed]",
      "text/plain": [
       "<Figure size 432x288 with 1 Axes>"
      ]
     },
     "metadata": {
      "needs_background": "light"
     },
     "output_type": "display_data"
    },
    {
     "data": {
      "text/plain": [
       "<Figure size 432x288 with 0 Axes>"
      ]
     },
     "metadata": {},
     "output_type": "display_data"
    },
    {
     "data": {
      "image/png": "[encoded data removed]",
      "text/plain": [
       "<Figure size 432x288 with 1 Axes>"
      ]
     },
     "metadata": {
      "needs_background": "light"
     },
     "output_type": "display_data"
    },
    {
     "data": {
      "text/plain": [
       "<Figure size 432x288 with 0 Axes>"
      ]
     },
     "metadata": {},
     "output_type": "display_data"
    }
   ],
   "source": [
    "#look at the metrics from training\n",
    "%matplotlib inline\n",
    "\n",
    "acc = history.history['acc']\n",
    "val_acc = history.history['val_acc']\n",
    "loss = history.history['loss']\n",
    "val_loss = history.history['val_loss']\n",
    "\n",
    "epochs = range(len(acc))\n",
    "\n",
    "plt.plot(epochs, acc, 'r', label='Training accuracy')\n",
    "plt.plot(epochs, val_acc, 'b', label='Validation accuracy')\n",
    "\n",
    "plt.title('Training and validation accuracy')\n",
    "plt.legend(loc=0)\n",
    "plt.figure()\n",
    "plt.show()\n",
    "\n",
    "plt.plot(epochs, loss, 'r--', label='Training loss')\n",
    "plt.plot(epochs, val_loss, 'b--', label='Validation loss')\n",
    "plt.title('Training and validation loss') \n",
    "plt.legend(loc=0)\n",
    "plt.figure()\n",
    "plt.show()"
   ]
  },
  {
   "cell_type": "code",
   "execution_count": 14,
   "metadata": {},
   "outputs": [
    {
     "name": "stdout",
     "output_type": "stream",
     "text": [
      "WARNING:tensorflow:From /usr/lib/python3/dist-packages/tensorflow/python/training/tracking/tracking.py:111: Model.state_updates (from tensorflow.python.keras.engine.training) is deprecated and will be removed in a future version.\n",
      "Instructions for updating:\n",
      "This property should not be used in TensorFlow 2.0, as updates are applied automatically.\n",
      "WARNING:tensorflow:From /usr/lib/python3/dist-packages/tensorflow/python/training/tracking/tracking.py:111: Layer.updates (from tensorflow.python.keras.engine.base_layer) is deprecated and will be removed in a future version.\n",
      "Instructions for updating:\n",
      "This property should not be used in TensorFlow 2.0, as updates are applied automatically.\n",
      "INFO:tensorflow:Assets written to: ./models/saved_VGG16_AL_fullretrainFinal/assets\n"
     ]
    }
   ],
   "source": [
    "#save the model\n",
    "filepath = './models/saved_VGG16_AL_fullretrainFinal'\n",
    "model.save(filepath)\n",
    "\n",
    "#load model\n",
    "#model = tf.keras.models.load_model(filepath, compile = True)"
   ]
  },
  {
   "cell_type": "code",
   "execution_count": null,
   "metadata": {},
   "outputs": [],
   "source": []
  }
 ],
 "metadata": {
  "kernelspec": {
   "display_name": "Python 3",
   "language": "python",
   "name": "python3"
  },
  "language_info": {
   "codemirror_mode": {
    "name": "ipython",
    "version": 3
   },
   "file_extension": ".py",
   "mimetype": "text/x-python",
   "name": "python",
   "nbconvert_exporter": "python",
   "pygments_lexer": "ipython3",
   "version": "3.8.5"
  }
 },
 "nbformat": 4,
 "nbformat_minor": 2
}
