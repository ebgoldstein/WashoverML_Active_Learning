{
 "cells": [
  {
   "cell_type": "code",
   "execution_count": 1,
   "metadata": {},
   "outputs": [
    {
     "name": "stdout",
     "output_type": "stream",
     "text": [
      "TF version: 2.3.2\n"
     ]
    }
   ],
   "source": [
    "# import the general stuff\n",
    "import os\n",
    "from os import getcwd\n",
    "import matplotlib.pyplot as plt\n",
    "import pandas as pd \n",
    "import numpy as np\n",
    "from sklearn import metrics\n",
    "import math\n",
    "\n",
    "#import stuff for gradCAM\n",
    "import matplotlib.cm as cm\n",
    "from IPython.display import Image\n",
    "\n",
    "#Set GPU to use\n",
    "os.environ[\"CUDA_DEVICE_ORDER\"] = \"PCI_BUS_ID\"\n",
    "os.environ[\"CUDA_VISIBLE_DEVICES\"] = \"0\"\n",
    "\n",
    "#import the tf stuff\n",
    "import tensorflow as tf\n",
    "from tensorflow.keras import layers\n",
    "from tensorflow.keras import Model\n",
    "\n",
    "from tensorflow.keras.preprocessing.image import ImageDataGenerator\n",
    "\n",
    "#Check TensorFlow Version\n",
    "print('TF version: {}' .format(tf.__version__))"
   ]
  },
  {
   "cell_type": "code",
   "execution_count": 2,
   "metadata": {},
   "outputs": [
    {
     "name": "stdout",
     "output_type": "stream",
     "text": [
      " GPU: /device:GPU:0\n"
     ]
    }
   ],
   "source": [
    "#Check for GPU utilization\n",
    "if tf.test.gpu_device_name():\n",
    "    print(' GPU: {}'.format(tf.test.gpu_device_name()))\n",
    "else:\n",
    "    print(\"No GPU\")"
   ]
  },
  {
   "cell_type": "code",
   "execution_count": 3,
   "metadata": {},
   "outputs": [],
   "source": [
    "# define a callback\n",
    "\n",
    "callbacks = tf.keras.callbacks.EarlyStopping(monitor = 'val_loss', \n",
    "                                             patience = 30, \n",
    "                                             restore_best_weights = True)"
   ]
  },
  {
   "cell_type": "code",
   "execution_count": 9,
   "metadata": {},
   "outputs": [
    {
     "name": "stdout",
     "output_type": "stream",
     "text": [
      "Found 1508 images belonging to 2 classes.\n",
      "Found 376 images belonging to 2 classes.\n"
     ]
    }
   ],
   "source": [
    "#build data generators for training and validaton\n",
    "\n",
    "split = 0.2\n",
    "\n",
    "total_train = 1508\n",
    "total_val = 376\n",
    "\n",
    "\n",
    "# Define dirs and files\n",
    "train_data_dir = '../data/pics/labelertoModel/AllRoundsFour'\n",
    "\n",
    "# Add our data-augmentation parameters to ImageDataGenerator and split data\n",
    "train_datagen = ImageDataGenerator(rescale =1./255.,\n",
    "                                   rotation_range = 90,\n",
    "                                   width_shift_range = 0.5,\n",
    "                                   height_shift_range = 0.5,\n",
    "                                   shear_range = 0.45,\n",
    "                                   zoom_range = 0.2,\n",
    "                                   horizontal_flip = True,\n",
    "                                   vertical_flip = True,\n",
    "                                   validation_split = split)\n",
    "\n",
    "\n",
    "#set batch Size\n",
    "batch_size = 16\n",
    "\n",
    "#set Image size (RGB so imshape is 3)\n",
    "pix_dim = 512\n",
    "imsize = (pix_dim,pix_dim) \n",
    "imshape = (pix_dim,pix_dim,3)\n",
    "\n",
    "# Flow training images in batches \n",
    "train_generator = train_datagen.flow_from_directory(train_data_dir,\n",
    "                                                    batch_size = batch_size,\n",
    "                                                    class_mode = 'binary',\n",
    "                                                    target_size = imsize,\n",
    "                                                    subset='training')\n",
    "\n",
    "# Flow validation images in batches \n",
    "validation_generator =  train_datagen.flow_from_directory(train_data_dir, # same directory as training data,\n",
    "                                                        batch_size = batch_size,\n",
    "                                                        class_mode = 'binary',\n",
    "                                                        target_size = imsize,\n",
    "                                                        subset='validation')"
   ]
  },
  {
   "cell_type": "code",
   "execution_count": 10,
   "metadata": {},
   "outputs": [],
   "source": [
    "# define the metrics\n",
    "acc_metric = tf.keras.metrics.BinaryAccuracy(name='acc')"
   ]
  },
  {
   "cell_type": "code",
   "execution_count": 11,
   "metadata": {},
   "outputs": [
    {
     "name": "stdout",
     "output_type": "stream",
     "text": [
      "shape of last layer is  (None, 16, 16, 512)\n",
      "Model: \"functional_3\"\n",
      "_________________________________________________________________\n",
      "Layer (type)                 Output Shape              Param #   \n",
      "=================================================================\n",
      "input_2 (InputLayer)         [(None, 512, 512, 3)]     0         \n",
      "_________________________________________________________________\n",
      "block1_conv1 (Conv2D)        (None, 512, 512, 64)      1792      \n",
      "_________________________________________________________________\n",
      "block1_conv2 (Conv2D)        (None, 512, 512, 64)      36928     \n",
      "_________________________________________________________________\n",
      "block1_pool (MaxPooling2D)   (None, 256, 256, 64)      0         \n",
      "_________________________________________________________________\n",
      "block2_conv1 (Conv2D)        (None, 256, 256, 128)     73856     \n",
      "_________________________________________________________________\n",
      "block2_conv2 (Conv2D)        (None, 256, 256, 128)     147584    \n",
      "_________________________________________________________________\n",
      "block2_pool (MaxPooling2D)   (None, 128, 128, 128)     0         \n",
      "_________________________________________________________________\n",
      "block3_conv1 (Conv2D)        (None, 128, 128, 256)     295168    \n",
      "_________________________________________________________________\n",
      "block3_conv2 (Conv2D)        (None, 128, 128, 256)     590080    \n",
      "_________________________________________________________________\n",
      "block3_conv3 (Conv2D)        (None, 128, 128, 256)     590080    \n",
      "_________________________________________________________________\n",
      "block3_pool (MaxPooling2D)   (None, 64, 64, 256)       0         \n",
      "_________________________________________________________________\n",
      "block4_conv1 (Conv2D)        (None, 64, 64, 512)       1180160   \n",
      "_________________________________________________________________\n",
      "block4_conv2 (Conv2D)        (None, 64, 64, 512)       2359808   \n",
      "_________________________________________________________________\n",
      "block4_conv3 (Conv2D)        (None, 64, 64, 512)       2359808   \n",
      "_________________________________________________________________\n",
      "block4_pool (MaxPooling2D)   (None, 32, 32, 512)       0         \n",
      "_________________________________________________________________\n",
      "block5_conv1 (Conv2D)        (None, 32, 32, 512)       2359808   \n",
      "_________________________________________________________________\n",
      "block5_conv2 (Conv2D)        (None, 32, 32, 512)       2359808   \n",
      "_________________________________________________________________\n",
      "block5_conv3 (Conv2D)        (None, 32, 32, 512)       2359808   \n",
      "_________________________________________________________________\n",
      "block5_pool (MaxPooling2D)   (None, 16, 16, 512)       0         \n",
      "_________________________________________________________________\n",
      "flatten_1 (Flatten)          (None, 131072)            0         \n",
      "_________________________________________________________________\n",
      "dense_2 (Dense)              (None, 1024)              134218752 \n",
      "_________________________________________________________________\n",
      "dropout_1 (Dropout)          (None, 1024)              0         \n",
      "_________________________________________________________________\n",
      "dense_3 (Dense)              (None, 1)                 1025      \n",
      "=================================================================\n",
      "Total params: 148,934,465\n",
      "Trainable params: 148,934,465\n",
      "Non-trainable params: 0\n",
      "_________________________________________________________________\n"
     ]
    }
   ],
   "source": [
    "#load or build model\n",
    "##########\n",
    "\n",
    "#from scratch:\n",
    "#base model, no top layer, w/ imagenet weights\n",
    "base_model = tf.keras.applications.VGG16(input_shape = imshape, \n",
    "                                             include_top = False, \n",
    "                                             weights = 'imagenet')\n",
    "\n",
    "base_model.trainable = True\n",
    "# add a new classifcation layer\n",
    "\n",
    "final_layer = base_model.get_layer('block5_pool')\n",
    "print('shape of last layer is ', final_layer.output_shape)\n",
    "final_base_output = final_layer.output\n",
    "\n",
    "\n",
    "#add the last layer\n",
    "# Flatten the output layer to 1 dimension\n",
    "x = layers.Flatten()(final_base_output )\n",
    "# Add a fully connected layer with 1,024 hidden units and ReLU activation\n",
    "x = layers.Dense(1024, activation='relu', kernel_regularizer = tf.keras.regularizers.l2(1e-4))(x)\n",
    "# Add a dropout rate of 0.5\n",
    "x = layers.Dropout(0.5)(x)                  \n",
    "# Add a final sigmoid layer for classification\n",
    "x = layers.Dense(1, activation='sigmoid')(x)           \n",
    "\n",
    "model = Model(base_model.input, x) \n",
    "#############\n",
    "model.summary()"
   ]
  },
  {
   "cell_type": "code",
   "execution_count": 12,
   "metadata": {},
   "outputs": [],
   "source": [
    "#build the model\n",
    "model.compile(loss = 'binary_crossentropy',\n",
    "              optimizer = tf.keras.optimizers.RMSprop(lr = 1e-5),\n",
    "              metrics = acc_metric)"
   ]
  },
  {
   "cell_type": "code",
   "execution_count": 13,
   "metadata": {
    "scrolled": true
   },
   "outputs": [
    {
     "name": "stdout",
     "output_type": "stream",
     "text": [
      "Epoch 1/140\n",
      " 2/94 [..............................] - ETA: 14s - loss: 1.2414 - acc: 0.3750WARNING:tensorflow:Callbacks method `on_train_batch_end` is slow compared to the batch time (batch time: 0.0907s vs `on_train_batch_end` time: 0.2140s). Check your callbacks.\n",
      "94/94 [==============================] - 317s 3s/step - loss: 0.9398 - acc: 0.5576 - val_loss: 0.8686 - val_acc: 0.5054\n",
      "Epoch 2/140\n",
      "94/94 [==============================] - 311s 3s/step - loss: 0.7821 - acc: 0.6394 - val_loss: 0.6281 - val_acc: 0.7228\n",
      "Epoch 3/140\n",
      "94/94 [==============================] - 310s 3s/step - loss: 0.6976 - acc: 0.6877 - val_loss: 0.5783 - val_acc: 0.7527\n",
      "Epoch 4/140\n",
      "94/94 [==============================] - 311s 3s/step - loss: 0.6634 - acc: 0.6917 - val_loss: 0.5449 - val_acc: 0.7745\n",
      "Epoch 5/140\n",
      "94/94 [==============================] - 309s 3s/step - loss: 0.6036 - acc: 0.7406 - val_loss: 0.5457 - val_acc: 0.7609\n",
      "Epoch 6/140\n",
      "94/94 [==============================] - 308s 3s/step - loss: 0.5975 - acc: 0.7299 - val_loss: 0.4734 - val_acc: 0.8152\n",
      "Epoch 7/140\n",
      "94/94 [==============================] - 307s 3s/step - loss: 0.5670 - acc: 0.7507 - val_loss: 0.6578 - val_acc: 0.7391\n",
      "Epoch 8/140\n",
      "94/94 [==============================] - 313s 3s/step - loss: 0.5589 - acc: 0.7540 - val_loss: 0.4270 - val_acc: 0.7853\n",
      "Epoch 9/140\n",
      "94/94 [==============================] - 312s 3s/step - loss: 0.5379 - acc: 0.7654 - val_loss: 0.4051 - val_acc: 0.8207\n",
      "Epoch 10/140\n",
      "94/94 [==============================] - 312s 3s/step - loss: 0.5266 - acc: 0.7761 - val_loss: 0.4977 - val_acc: 0.7582\n",
      "Epoch 11/140\n",
      "94/94 [==============================] - 313s 3s/step - loss: 0.5227 - acc: 0.7674 - val_loss: 0.4196 - val_acc: 0.8016\n",
      "Epoch 12/140\n",
      "94/94 [==============================] - 310s 3s/step - loss: 0.5235 - acc: 0.7768 - val_loss: 0.4262 - val_acc: 0.7962\n",
      "Epoch 13/140\n",
      "94/94 [==============================] - 308s 3s/step - loss: 0.5105 - acc: 0.7668 - val_loss: 0.6823 - val_acc: 0.7500\n",
      "Epoch 14/140\n",
      "94/94 [==============================] - 312s 3s/step - loss: 0.5064 - acc: 0.7782 - val_loss: 0.4358 - val_acc: 0.8234\n",
      "Epoch 15/140\n",
      "94/94 [==============================] - 309s 3s/step - loss: 0.5126 - acc: 0.7815 - val_loss: 0.4004 - val_acc: 0.8152\n",
      "Epoch 16/140\n",
      "94/94 [==============================] - 314s 3s/step - loss: 0.5000 - acc: 0.7761 - val_loss: 0.3992 - val_acc: 0.8071\n",
      "Epoch 17/140\n",
      "94/94 [==============================] - 316s 3s/step - loss: 0.4772 - acc: 0.7842 - val_loss: 0.3859 - val_acc: 0.7989\n",
      "Epoch 18/140\n",
      "94/94 [==============================] - 313s 3s/step - loss: 0.4622 - acc: 0.8016 - val_loss: 0.4161 - val_acc: 0.8179\n",
      "Epoch 19/140\n",
      "94/94 [==============================] - 313s 3s/step - loss: 0.4735 - acc: 0.7956 - val_loss: 0.4099 - val_acc: 0.8179\n",
      "Epoch 20/140\n",
      "94/94 [==============================] - 312s 3s/step - loss: 0.4683 - acc: 0.7808 - val_loss: 0.4525 - val_acc: 0.7935\n",
      "Epoch 21/140\n",
      "94/94 [==============================] - 310s 3s/step - loss: 0.4657 - acc: 0.7949 - val_loss: 0.3831 - val_acc: 0.8288\n",
      "Epoch 22/140\n",
      "94/94 [==============================] - 308s 3s/step - loss: 0.4671 - acc: 0.7916 - val_loss: 0.3905 - val_acc: 0.8505\n",
      "Epoch 23/140\n",
      "94/94 [==============================] - 312s 3s/step - loss: 0.4471 - acc: 0.8056 - val_loss: 0.4957 - val_acc: 0.7663\n",
      "Epoch 24/140\n",
      "94/94 [==============================] - 316s 3s/step - loss: 0.4498 - acc: 0.8043 - val_loss: 0.4099 - val_acc: 0.7908\n",
      "Epoch 25/140\n",
      "94/94 [==============================] - 312s 3s/step - loss: 0.4544 - acc: 0.8043 - val_loss: 0.4062 - val_acc: 0.8098\n",
      "Epoch 26/140\n",
      "94/94 [==============================] - 320s 3s/step - loss: 0.4409 - acc: 0.8023 - val_loss: 0.3757 - val_acc: 0.8071\n",
      "Epoch 27/140\n",
      "94/94 [==============================] - 318s 3s/step - loss: 0.4360 - acc: 0.8076 - val_loss: 0.3889 - val_acc: 0.8152\n",
      "Epoch 28/140\n",
      "94/94 [==============================] - 316s 3s/step - loss: 0.4348 - acc: 0.8050 - val_loss: 0.4008 - val_acc: 0.7880\n",
      "Epoch 29/140\n",
      "94/94 [==============================] - 318s 3s/step - loss: 0.4461 - acc: 0.8009 - val_loss: 0.3799 - val_acc: 0.8587\n",
      "Epoch 30/140\n",
      "94/94 [==============================] - 318s 3s/step - loss: 0.4266 - acc: 0.7969 - val_loss: 0.4775 - val_acc: 0.8342\n",
      "Epoch 31/140\n",
      "94/94 [==============================] - 323s 3s/step - loss: 0.4326 - acc: 0.8123 - val_loss: 0.3482 - val_acc: 0.8315\n",
      "Epoch 32/140\n",
      "94/94 [==============================] - 323s 3s/step - loss: 0.4237 - acc: 0.8090 - val_loss: 0.4032 - val_acc: 0.8451\n",
      "Epoch 33/140\n",
      "94/94 [==============================] - 323s 3s/step - loss: 0.4167 - acc: 0.8083 - val_loss: 0.4601 - val_acc: 0.8179\n",
      "Epoch 34/140\n",
      "94/94 [==============================] - 323s 3s/step - loss: 0.4465 - acc: 0.8003 - val_loss: 0.3854 - val_acc: 0.8397\n",
      "Epoch 35/140\n",
      "94/94 [==============================] - 321s 3s/step - loss: 0.4219 - acc: 0.8184 - val_loss: 0.4763 - val_acc: 0.8234\n",
      "Epoch 36/140\n",
      "94/94 [==============================] - 316s 3s/step - loss: 0.4301 - acc: 0.8009 - val_loss: 0.4676 - val_acc: 0.7853\n",
      "Epoch 37/140\n",
      "94/94 [==============================] - 318s 3s/step - loss: 0.4155 - acc: 0.8164 - val_loss: 0.4365 - val_acc: 0.8451\n",
      "Epoch 38/140\n",
      "94/94 [==============================] - 322s 3s/step - loss: 0.4220 - acc: 0.8291 - val_loss: 0.5401 - val_acc: 0.7908\n",
      "Epoch 39/140\n",
      "94/94 [==============================] - 321s 3s/step - loss: 0.4240 - acc: 0.8130 - val_loss: 0.5247 - val_acc: 0.7880\n",
      "Epoch 40/140\n",
      "94/94 [==============================] - 319s 3s/step - loss: 0.4384 - acc: 0.8130 - val_loss: 0.4474 - val_acc: 0.8315\n",
      "Epoch 41/140\n",
      "94/94 [==============================] - 319s 3s/step - loss: 0.4281 - acc: 0.8197 - val_loss: 0.4356 - val_acc: 0.8261\n",
      "Epoch 42/140\n",
      "94/94 [==============================] - 321s 3s/step - loss: 0.4165 - acc: 0.8097 - val_loss: 0.5617 - val_acc: 0.8207\n",
      "Epoch 43/140\n",
      "94/94 [==============================] - 321s 3s/step - loss: 0.4135 - acc: 0.8110 - val_loss: 0.5374 - val_acc: 0.8071\n",
      "Epoch 44/140\n",
      "94/94 [==============================] - 320s 3s/step - loss: 0.4224 - acc: 0.8117 - val_loss: 0.5362 - val_acc: 0.7989\n",
      "Epoch 45/140\n",
      "94/94 [==============================] - 319s 3s/step - loss: 0.4509 - acc: 0.8184 - val_loss: 0.4719 - val_acc: 0.8152\n",
      "Epoch 46/140\n",
      "94/94 [==============================] - 320s 3s/step - loss: 0.4237 - acc: 0.8137 - val_loss: 0.5027 - val_acc: 0.8016\n",
      "Epoch 47/140\n",
      "94/94 [==============================] - 315s 3s/step - loss: 0.4305 - acc: 0.8036 - val_loss: 0.4106 - val_acc: 0.8587\n",
      "Epoch 48/140\n",
      "94/94 [==============================] - 321s 3s/step - loss: 0.4091 - acc: 0.8190 - val_loss: 0.5478 - val_acc: 0.8179\n",
      "Epoch 49/140\n",
      "94/94 [==============================] - 321s 3s/step - loss: 0.4196 - acc: 0.8036 - val_loss: 0.4700 - val_acc: 0.8098\n",
      "Epoch 50/140\n",
      "94/94 [==============================] - 319s 3s/step - loss: 0.4099 - acc: 0.8184 - val_loss: 0.3934 - val_acc: 0.8179\n",
      "Epoch 51/140\n",
      "94/94 [==============================] - 319s 3s/step - loss: 0.4151 - acc: 0.8150 - val_loss: 0.4634 - val_acc: 0.8179\n",
      "Epoch 52/140\n",
      "94/94 [==============================] - 311s 3s/step - loss: 0.4049 - acc: 0.8257 - val_loss: 0.4384 - val_acc: 0.8234\n",
      "Epoch 53/140\n",
      "94/94 [==============================] - 316s 3s/step - loss: 0.4207 - acc: 0.8130 - val_loss: 0.4971 - val_acc: 0.8125\n",
      "Epoch 54/140\n",
      "94/94 [==============================] - 319s 3s/step - loss: 0.4098 - acc: 0.8170 - val_loss: 0.3976 - val_acc: 0.8315\n",
      "Epoch 55/140\n",
      "94/94 [==============================] - 320s 3s/step - loss: 0.4230 - acc: 0.8110 - val_loss: 0.5007 - val_acc: 0.8261\n",
      "Epoch 56/140\n",
      "94/94 [==============================] - 320s 3s/step - loss: 0.4121 - acc: 0.8298 - val_loss: 0.4330 - val_acc: 0.8152\n",
      "Epoch 57/140\n",
      "94/94 [==============================] - 320s 3s/step - loss: 0.4229 - acc: 0.8150 - val_loss: 0.4685 - val_acc: 0.8152\n",
      "Epoch 58/140\n",
      "94/94 [==============================] - 307s 3s/step - loss: 0.4070 - acc: 0.8237 - val_loss: 0.3838 - val_acc: 0.8234\n",
      "Epoch 59/140\n",
      "94/94 [==============================] - 309s 3s/step - loss: 0.4061 - acc: 0.8190 - val_loss: 0.4516 - val_acc: 0.8505\n",
      "Epoch 60/140\n",
      "94/94 [==============================] - 313s 3s/step - loss: 0.4179 - acc: 0.8231 - val_loss: 0.4394 - val_acc: 0.8370\n"
     ]
    },
    {
     "name": "stdout",
     "output_type": "stream",
     "text": [
      "Epoch 61/140\n",
      "94/94 [==============================] - 310s 3s/step - loss: 0.4221 - acc: 0.8284 - val_loss: 0.3904 - val_acc: 0.8478\n"
     ]
    }
   ],
   "source": [
    "#train the model\n",
    "history = model.fit(train_generator,\n",
    "                    steps_per_epoch = total_train // batch_size,\n",
    "                    validation_data = validation_generator,\n",
    "                    epochs= 140,\n",
    "                    validation_steps =  total_val // batch_size,\n",
    "                    callbacks =[callbacks])"
   ]
  },
  {
   "cell_type": "code",
   "execution_count": 14,
   "metadata": {},
   "outputs": [
    {
     "data": {
      "image/png": "[encoded data removed]",
      "text/plain": [
       "<Figure size 432x288 with 1 Axes>"
      ]
     },
     "metadata": {
      "needs_background": "light"
     },
     "output_type": "display_data"
    },
    {
     "data": {
      "text/plain": [
       "<Figure size 432x288 with 0 Axes>"
      ]
     },
     "metadata": {},
     "output_type": "display_data"
    },
    {
     "data": {
      "image/png": "[encoded data removed]",
      "text/plain": [
       "<Figure size 432x288 with 1 Axes>"
      ]
     },
     "metadata": {
      "needs_background": "light"
     },
     "output_type": "display_data"
    },
    {
     "data": {
      "text/plain": [
       "<Figure size 432x288 with 0 Axes>"
      ]
     },
     "metadata": {},
     "output_type": "display_data"
    }
   ],
   "source": [
    "#look at the metrics from training\n",
    "%matplotlib inline\n",
    "\n",
    "acc = history.history['acc']\n",
    "val_acc = history.history['val_acc']\n",
    "loss = history.history['loss']\n",
    "val_loss = history.history['val_loss']\n",
    "\n",
    "epochs = range(len(acc))\n",
    "\n",
    "plt.plot(epochs, acc, 'r', label='Training accuracy')\n",
    "plt.plot(epochs, val_acc, 'b', label='Validation accuracy')\n",
    "\n",
    "plt.title('Training and validation accuracy')\n",
    "plt.legend(loc=0)\n",
    "plt.figure()\n",
    "plt.show()\n",
    "\n",
    "plt.plot(epochs, loss, 'r--', label='Training loss')\n",
    "plt.plot(epochs, val_loss, 'b--', label='Validation loss')\n",
    "plt.title('Training and validation loss') \n",
    "plt.legend(loc=0)\n",
    "plt.figure()\n",
    "plt.show()"
   ]
  },
  {
   "cell_type": "code",
   "execution_count": 15,
   "metadata": {},
   "outputs": [
    {
     "name": "stdout",
     "output_type": "stream",
     "text": [
      "WARNING:tensorflow:From /usr/lib/python3/dist-packages/tensorflow/python/training/tracking/tracking.py:111: Model.state_updates (from tensorflow.python.keras.engine.training) is deprecated and will be removed in a future version.\n",
      "Instructions for updating:\n",
      "This property should not be used in TensorFlow 2.0, as updates are applied automatically.\n",
      "WARNING:tensorflow:From /usr/lib/python3/dist-packages/tensorflow/python/training/tracking/tracking.py:111: Layer.updates (from tensorflow.python.keras.engine.base_layer) is deprecated and will be removed in a future version.\n",
      "Instructions for updating:\n",
      "This property should not be used in TensorFlow 2.0, as updates are applied automatically.\n",
      "INFO:tensorflow:Assets written to: ./models/VGG16_model_4_8020split_512px/assets\n"
     ]
    }
   ],
   "source": [
    "#save the model\n",
    "filepath = './models/VGG16_model_4_8020split_512px'\n",
    "model.save(filepath)\n",
    "\n",
    "#load model\n",
    "#model = tf.keras.models.load_model(filepath, compile = True)"
   ]
  },
  {
   "cell_type": "code",
   "execution_count": null,
   "metadata": {},
   "outputs": [],
   "source": []
  }
 ],
 "metadata": {
  "kernelspec": {
   "display_name": "Python 3",
   "language": "python",
   "name": "python3"
  },
  "language_info": {
   "codemirror_mode": {
    "name": "ipython",
    "version": 3
   },
   "file_extension": ".py",
   "mimetype": "text/x-python",
   "name": "python",
   "nbconvert_exporter": "python",
   "pygments_lexer": "ipython3",
   "version": "3.8.5"
  }
 },
 "nbformat": 4,
 "nbformat_minor": 2
}
