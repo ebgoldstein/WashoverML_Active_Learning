{
 "cells": [
  {
   "cell_type": "code",
   "execution_count": 1,
   "metadata": {},
   "outputs": [
    {
     "name": "stdout",
     "output_type": "stream",
     "text": [
      "TF version: 2.3.2\n"
     ]
    }
   ],
   "source": [
    "# import the general stuff\n",
    "import os\n",
    "from os import getcwd\n",
    "import matplotlib.pyplot as plt\n",
    "import pandas as pd \n",
    "import numpy as np\n",
    "from sklearn import metrics\n",
    "import math\n",
    "\n",
    "#import stuff for gradCAM\n",
    "import matplotlib.cm as cm\n",
    "from IPython.display import Image\n",
    "\n",
    "#Set GPU to use\n",
    "os.environ[\"CUDA_DEVICE_ORDER\"] = \"PCI_BUS_ID\"\n",
    "os.environ[\"CUDA_VISIBLE_DEVICES\"] = \"1\"\n",
    "\n",
    "#import the tf stuff\n",
    "import tensorflow as tf\n",
    "from tensorflow.keras import layers\n",
    "from tensorflow.keras import Model\n",
    "\n",
    "from tensorflow.keras.preprocessing.image import ImageDataGenerator\n",
    "\n",
    "#Check TensorFlow Version\n",
    "print('TF version: {}' .format(tf.__version__))"
   ]
  },
  {
   "cell_type": "code",
   "execution_count": 2,
   "metadata": {},
   "outputs": [
    {
     "name": "stdout",
     "output_type": "stream",
     "text": [
      " GPU: /device:GPU:0\n"
     ]
    }
   ],
   "source": [
    "#Check for GPU utilization\n",
    "if tf.test.gpu_device_name():\n",
    "    print(' GPU: {}'.format(tf.test.gpu_device_name()))\n",
    "else:\n",
    "    print(\"No GPU\")"
   ]
  },
  {
   "cell_type": "code",
   "execution_count": 3,
   "metadata": {},
   "outputs": [],
   "source": [
    "# define a callback\n",
    "\n",
    "callbacks = tf.keras.callbacks.EarlyStopping(monitor = 'val_acc', \n",
    "                                             patience = 30, \n",
    "                                             restore_best_weights = True)"
   ]
  },
  {
   "cell_type": "code",
   "execution_count": 4,
   "metadata": {},
   "outputs": [
    {
     "name": "stdout",
     "output_type": "stream",
     "text": [
      "Found 771 images belonging to 2 classes.\n",
      "Found 513 images belonging to 2 classes.\n"
     ]
    }
   ],
   "source": [
    "#build data generators for training and validaton\n",
    "\n",
    "split = 0.4\n",
    "\n",
    "total_train = 771\n",
    "total_val = 513\n",
    "\n",
    "\n",
    "# Define dirs and files\n",
    "train_data_dir = '../data/pics/labelertoModel/AllRoundsThree'\n",
    "\n",
    "# Add our data-augmentation parameters to ImageDataGenerator and split data\n",
    "train_datagen = ImageDataGenerator(rescale =1./255.,\n",
    "                                   rotation_range = 90,\n",
    "                                   width_shift_range = 0.5,\n",
    "                                   height_shift_range = 0.5,\n",
    "                                   shear_range = 0.45,\n",
    "                                   zoom_range = 0.2,\n",
    "                                   horizontal_flip = True,\n",
    "                                   vertical_flip = True,\n",
    "                                   validation_split = split)\n",
    "\n",
    "\n",
    "#set batch Size\n",
    "batch_size = 8\n",
    "\n",
    "#set Image size (RGB so imshape is 3)\n",
    "pix_dim = 500\n",
    "imsize = (pix_dim,pix_dim) \n",
    "imshape = (pix_dim,pix_dim,3)\n",
    "\n",
    "# Flow training images in batches \n",
    "train_generator = train_datagen.flow_from_directory(train_data_dir,\n",
    "                                                    batch_size = batch_size,\n",
    "                                                    class_mode = 'binary',\n",
    "                                                    target_size = imsize,\n",
    "                                                    subset='training')\n",
    "\n",
    "# Flow validation images in batches \n",
    "validation_generator =  train_datagen.flow_from_directory(train_data_dir, # same directory as training data,\n",
    "                                                        batch_size = batch_size,\n",
    "                                                        class_mode = 'binary',\n",
    "                                                        target_size = imsize,\n",
    "                                                        subset='validation')"
   ]
  },
  {
   "cell_type": "code",
   "execution_count": 5,
   "metadata": {},
   "outputs": [],
   "source": [
    "#weights for imbalanced data\n",
    "#https://keras.io/examples/vision/xray_classification_with_tpus/\n",
    "\n",
    "#initial_bias = np.log([total_nowash / total_wash])\n",
    "#print(\"Initial bias: {:.5f}\".format(initial_bias[0]))\n",
    "\n",
    "#total_images = total_wash + total_nowash\n",
    "#weight_for_0 = (1 / total_nowash) * (total_images) / 2.0\n",
    "#weight_for_1 = (1 / total_wash) * (total_images) / 2.0\n",
    "\n",
    "#class_weight = {0: weight_for_0, 1: weight_for_1}\n",
    "\n",
    "#print(\"Weight for class 0: {:.2f}\".format(weight_for_0))\n",
    "#print(\"Weight for class 1: {:.2f}\".format(weight_for_1))"
   ]
  },
  {
   "cell_type": "code",
   "execution_count": 6,
   "metadata": {},
   "outputs": [],
   "source": [
    "# define the metrics\n",
    "acc_metric = tf.keras.metrics.BinaryAccuracy(name='acc')"
   ]
  },
  {
   "cell_type": "code",
   "execution_count": 7,
   "metadata": {},
   "outputs": [
    {
     "name": "stdout",
     "output_type": "stream",
     "text": [
      "shape of last layer is  (None, 15, 15, 512)\n",
      "Model: \"functional_1\"\n",
      "_________________________________________________________________\n",
      "Layer (type)                 Output Shape              Param #   \n",
      "=================================================================\n",
      "input_1 (InputLayer)         [(None, 500, 500, 3)]     0         \n",
      "_________________________________________________________________\n",
      "block1_conv1 (Conv2D)        (None, 500, 500, 64)      1792      \n",
      "_________________________________________________________________\n",
      "block1_conv2 (Conv2D)        (None, 500, 500, 64)      36928     \n",
      "_________________________________________________________________\n",
      "block1_pool (MaxPooling2D)   (None, 250, 250, 64)      0         \n",
      "_________________________________________________________________\n",
      "block2_conv1 (Conv2D)        (None, 250, 250, 128)     73856     \n",
      "_________________________________________________________________\n",
      "block2_conv2 (Conv2D)        (None, 250, 250, 128)     147584    \n",
      "_________________________________________________________________\n",
      "block2_pool (MaxPooling2D)   (None, 125, 125, 128)     0         \n",
      "_________________________________________________________________\n",
      "block3_conv1 (Conv2D)        (None, 125, 125, 256)     295168    \n",
      "_________________________________________________________________\n",
      "block3_conv2 (Conv2D)        (None, 125, 125, 256)     590080    \n",
      "_________________________________________________________________\n",
      "block3_conv3 (Conv2D)        (None, 125, 125, 256)     590080    \n",
      "_________________________________________________________________\n",
      "block3_pool (MaxPooling2D)   (None, 62, 62, 256)       0         \n",
      "_________________________________________________________________\n",
      "block4_conv1 (Conv2D)        (None, 62, 62, 512)       1180160   \n",
      "_________________________________________________________________\n",
      "block4_conv2 (Conv2D)        (None, 62, 62, 512)       2359808   \n",
      "_________________________________________________________________\n",
      "block4_conv3 (Conv2D)        (None, 62, 62, 512)       2359808   \n",
      "_________________________________________________________________\n",
      "block4_pool (MaxPooling2D)   (None, 31, 31, 512)       0         \n",
      "_________________________________________________________________\n",
      "block5_conv1 (Conv2D)        (None, 31, 31, 512)       2359808   \n",
      "_________________________________________________________________\n",
      "block5_conv2 (Conv2D)        (None, 31, 31, 512)       2359808   \n",
      "_________________________________________________________________\n",
      "block5_conv3 (Conv2D)        (None, 31, 31, 512)       2359808   \n",
      "_________________________________________________________________\n",
      "block5_pool (MaxPooling2D)   (None, 15, 15, 512)       0         \n",
      "_________________________________________________________________\n",
      "flatten (Flatten)            (None, 115200)            0         \n",
      "_________________________________________________________________\n",
      "dense (Dense)                (None, 1024)              117965824 \n",
      "_________________________________________________________________\n",
      "dropout (Dropout)            (None, 1024)              0         \n",
      "_________________________________________________________________\n",
      "dense_1 (Dense)              (None, 1)                 1025      \n",
      "=================================================================\n",
      "Total params: 132,681,537\n",
      "Trainable params: 132,681,537\n",
      "Non-trainable params: 0\n",
      "_________________________________________________________________\n"
     ]
    }
   ],
   "source": [
    "#load or build model\n",
    "##########\n",
    "'''\n",
    "#model path\n",
    "model_path = './models/saved_VGG16_retrain'\n",
    "\n",
    "#load it in to tf\n",
    "model = tf.keras.models.load_model(model_path, compile = True)\n",
    "############\n",
    "'''\n",
    "#from scratch:\n",
    "#base model, no top layer, w/ imagenet weights\n",
    "base_model = tf.keras.applications.VGG16(input_shape = imshape, \n",
    "                                             include_top = False, \n",
    "                                             weights = 'imagenet')\n",
    "\n",
    "base_model.trainable = True\n",
    "# add a new classifcation layer\n",
    "\n",
    "final_layer = base_model.get_layer('block5_pool')\n",
    "print('shape of last layer is ', final_layer.output_shape)\n",
    "final_base_output = final_layer.output\n",
    "\n",
    "\n",
    "#add the last layer\n",
    "# Flatten the output layer to 1 dimension\n",
    "x = layers.Flatten()(final_base_output )\n",
    "# Add a fully connected layer with 1,024 hidden units and ReLU activation\n",
    "x = layers.Dense(1024, activation='relu', kernel_regularizer = tf.keras.regularizers.l2(1e-4))(x)\n",
    "# Add a dropout rate of 0.5\n",
    "x = layers.Dropout(0.5)(x)                  \n",
    "# Add a final sigmoid layer for classification\n",
    "x = layers.Dense(1, activation='sigmoid')(x)           \n",
    "\n",
    "model = Model(base_model.input, x) \n",
    "#############\n",
    "model.summary()"
   ]
  },
  {
   "cell_type": "code",
   "execution_count": 8,
   "metadata": {},
   "outputs": [],
   "source": [
    "# layers in the base model\n",
    "#print(\"Number of layers in model: \", len(model.layers))"
   ]
  },
  {
   "cell_type": "code",
   "execution_count": 9,
   "metadata": {},
   "outputs": [],
   "source": [
    "#finetuning\n",
    "#model.trainable = True\n",
    "\n",
    "# Fine-tune from this layer onwards (16 is Block5 Conv1)\n",
    "#fine_tune_at = 20\n",
    "\n",
    "# Freeze all the layers before the `fine_tune_at` layer\n",
    "#for layer in model.layers[:fine_tune_at]:\n",
    "#  layer.trainable =  False\n"
   ]
  },
  {
   "cell_type": "code",
   "execution_count": 10,
   "metadata": {},
   "outputs": [],
   "source": [
    "#build the model\n",
    "model.compile(loss = 'binary_crossentropy',\n",
    "              optimizer = tf.keras.optimizers.RMSprop(lr = 1e-5, decay = 1e-6),\n",
    "              metrics = acc_metric)"
   ]
  },
  {
   "cell_type": "code",
   "execution_count": 11,
   "metadata": {
    "scrolled": true
   },
   "outputs": [
    {
     "name": "stdout",
     "output_type": "stream",
     "text": [
      "Epoch 1/200\n",
      " 2/96 [..............................] - ETA: 7s - loss: 1.0194 - acc: 0.5000WARNING:tensorflow:Callbacks method `on_train_batch_end` is slow compared to the batch time (batch time: 0.0570s vs `on_train_batch_end` time: 0.1123s). Check your callbacks.\n",
      "96/96 [==============================] - 221s 2s/step - loss: 0.9545 - acc: 0.5151 - val_loss: 0.8410 - val_acc: 0.5352\n",
      "Epoch 2/200\n",
      "96/96 [==============================] - 220s 2s/step - loss: 0.8277 - acc: 0.5125 - val_loss: 0.7848 - val_acc: 0.5488\n",
      "Epoch 3/200\n",
      "96/96 [==============================] - 220s 2s/step - loss: 0.7812 - acc: 0.5360 - val_loss: 0.7240 - val_acc: 0.5371\n",
      "Epoch 4/200\n",
      "96/96 [==============================] - 223s 2s/step - loss: 0.7428 - acc: 0.5387 - val_loss: 0.6679 - val_acc: 0.6953\n",
      "Epoch 5/200\n",
      "96/96 [==============================] - 221s 2s/step - loss: 0.7189 - acc: 0.5491 - val_loss: 0.6369 - val_acc: 0.7305\n",
      "Epoch 6/200\n",
      "96/96 [==============================] - 217s 2s/step - loss: 0.7029 - acc: 0.5465 - val_loss: 0.6366 - val_acc: 0.7129\n",
      "Epoch 7/200\n",
      "96/96 [==============================] - 216s 2s/step - loss: 0.6823 - acc: 0.5937 - val_loss: 0.5900 - val_acc: 0.7305\n",
      "Epoch 8/200\n",
      "96/96 [==============================] - 216s 2s/step - loss: 0.6644 - acc: 0.6055 - val_loss: 0.5481 - val_acc: 0.7754\n",
      "Epoch 9/200\n",
      "96/96 [==============================] - 216s 2s/step - loss: 0.6449 - acc: 0.6186 - val_loss: 0.5173 - val_acc: 0.6934\n",
      "Epoch 10/200\n",
      "96/96 [==============================] - 221s 2s/step - loss: 0.6505 - acc: 0.6107 - val_loss: 0.5329 - val_acc: 0.6230\n",
      "Epoch 11/200\n",
      "96/96 [==============================] - 217s 2s/step - loss: 0.6372 - acc: 0.6304 - val_loss: 0.5594 - val_acc: 0.5684\n",
      "Epoch 12/200\n",
      "96/96 [==============================] - 220s 2s/step - loss: 0.6407 - acc: 0.6068 - val_loss: 0.5265 - val_acc: 0.7559\n",
      "Epoch 13/200\n",
      "96/96 [==============================] - 218s 2s/step - loss: 0.6406 - acc: 0.6291 - val_loss: 0.4882 - val_acc: 0.7598\n",
      "Epoch 14/200\n",
      "96/96 [==============================] - 219s 2s/step - loss: 0.6180 - acc: 0.6435 - val_loss: 0.5199 - val_acc: 0.7520\n",
      "Epoch 15/200\n",
      "96/96 [==============================] - 224s 2s/step - loss: 0.6344 - acc: 0.6370 - val_loss: 0.4998 - val_acc: 0.7930\n",
      "Epoch 16/200\n",
      "96/96 [==============================] - 218s 2s/step - loss: 0.6317 - acc: 0.6317 - val_loss: 0.4744 - val_acc: 0.7930\n",
      "Epoch 17/200\n",
      "96/96 [==============================] - 220s 2s/step - loss: 0.6072 - acc: 0.6501 - val_loss: 0.5177 - val_acc: 0.7832\n",
      "Epoch 18/200\n",
      "96/96 [==============================] - 219s 2s/step - loss: 0.6158 - acc: 0.6317 - val_loss: 0.4957 - val_acc: 0.7520\n",
      "Epoch 19/200\n",
      "96/96 [==============================] - 221s 2s/step - loss: 0.6249 - acc: 0.6225 - val_loss: 0.4948 - val_acc: 0.7598\n",
      "Epoch 20/200\n",
      "96/96 [==============================] - 219s 2s/step - loss: 0.6095 - acc: 0.6501 - val_loss: 0.4996 - val_acc: 0.6895\n",
      "Epoch 21/200\n",
      "96/96 [==============================] - 222s 2s/step - loss: 0.6070 - acc: 0.6802 - val_loss: 0.5179 - val_acc: 0.7441\n",
      "Epoch 22/200\n",
      "96/96 [==============================] - 221s 2s/step - loss: 0.6024 - acc: 0.6553 - val_loss: 0.4438 - val_acc: 0.8203\n",
      "Epoch 23/200\n",
      "96/96 [==============================] - 220s 2s/step - loss: 0.6056 - acc: 0.6697 - val_loss: 0.5054 - val_acc: 0.7168\n",
      "Epoch 24/200\n",
      "96/96 [==============================] - 220s 2s/step - loss: 0.5820 - acc: 0.6763 - val_loss: 0.4741 - val_acc: 0.7363\n",
      "Epoch 25/200\n",
      "96/96 [==============================] - 221s 2s/step - loss: 0.5997 - acc: 0.6606 - val_loss: 0.4722 - val_acc: 0.7754\n",
      "Epoch 26/200\n",
      "96/96 [==============================] - 220s 2s/step - loss: 0.5930 - acc: 0.6737 - val_loss: 0.4599 - val_acc: 0.7832\n",
      "Epoch 27/200\n",
      "96/96 [==============================] - 217s 2s/step - loss: 0.5770 - acc: 0.6750 - val_loss: 0.4791 - val_acc: 0.7598\n",
      "Epoch 28/200\n",
      "96/96 [==============================] - 221s 2s/step - loss: 0.5731 - acc: 0.6828 - val_loss: 0.4831 - val_acc: 0.7617\n",
      "Epoch 29/200\n",
      "96/96 [==============================] - 218s 2s/step - loss: 0.5816 - acc: 0.7044 - val_loss: 0.5011 - val_acc: 0.7812\n",
      "Epoch 30/200\n",
      "96/96 [==============================] - 222s 2s/step - loss: 0.5910 - acc: 0.6789 - val_loss: 0.5294 - val_acc: 0.7324\n",
      "Epoch 31/200\n",
      "96/96 [==============================] - 221s 2s/step - loss: 0.5878 - acc: 0.6920 - val_loss: 0.4189 - val_acc: 0.8262\n",
      "Epoch 32/200\n",
      "96/96 [==============================] - 221s 2s/step - loss: 0.5898 - acc: 0.6933 - val_loss: 0.5379 - val_acc: 0.6953\n",
      "Epoch 33/200\n",
      "96/96 [==============================] - 222s 2s/step - loss: 0.5693 - acc: 0.6986 - val_loss: 0.4853 - val_acc: 0.7461\n",
      "Epoch 34/200\n",
      "96/96 [==============================] - 219s 2s/step - loss: 0.5320 - acc: 0.7261 - val_loss: 0.5205 - val_acc: 0.7695\n",
      "Epoch 35/200\n",
      "96/96 [==============================] - 220s 2s/step - loss: 0.5915 - acc: 0.6999 - val_loss: 0.4668 - val_acc: 0.7812\n",
      "Epoch 36/200\n",
      "96/96 [==============================] - 217s 2s/step - loss: 0.5578 - acc: 0.6933 - val_loss: 0.5018 - val_acc: 0.7598\n",
      "Epoch 37/200\n",
      "96/96 [==============================] - 224s 2s/step - loss: 0.5944 - acc: 0.7169 - val_loss: 0.4957 - val_acc: 0.7363\n",
      "Epoch 38/200\n",
      "96/96 [==============================] - 222s 2s/step - loss: 0.5709 - acc: 0.7064 - val_loss: 0.4675 - val_acc: 0.7852\n",
      "Epoch 39/200\n",
      "96/96 [==============================] - 220s 2s/step - loss: 0.5587 - acc: 0.7143 - val_loss: 0.4888 - val_acc: 0.7305\n",
      "Epoch 40/200\n",
      "96/96 [==============================] - 215s 2s/step - loss: 0.5571 - acc: 0.6946 - val_loss: 0.5249 - val_acc: 0.7402\n",
      "Epoch 41/200\n",
      "96/96 [==============================] - 215s 2s/step - loss: 0.5657 - acc: 0.7012 - val_loss: 0.4535 - val_acc: 0.8125\n",
      "Epoch 42/200\n",
      "96/96 [==============================] - 220s 2s/step - loss: 0.5391 - acc: 0.7274 - val_loss: 0.5493 - val_acc: 0.7949\n",
      "Epoch 43/200\n",
      "96/96 [==============================] - 219s 2s/step - loss: 0.5686 - acc: 0.7156 - val_loss: 0.5054 - val_acc: 0.7480\n",
      "Epoch 44/200\n",
      "96/96 [==============================] - 221s 2s/step - loss: 0.5754 - acc: 0.7208 - val_loss: 0.4716 - val_acc: 0.7891\n",
      "Epoch 45/200\n",
      "96/96 [==============================] - 220s 2s/step - loss: 0.5461 - acc: 0.7182 - val_loss: 0.4752 - val_acc: 0.7637\n",
      "Epoch 46/200\n",
      "96/96 [==============================] - 220s 2s/step - loss: 0.5593 - acc: 0.6986 - val_loss: 0.6457 - val_acc: 0.7070\n",
      "Epoch 47/200\n",
      "96/96 [==============================] - 219s 2s/step - loss: 0.5289 - acc: 0.7366 - val_loss: 0.4710 - val_acc: 0.7910\n",
      "Epoch 48/200\n",
      "96/96 [==============================] - 220s 2s/step - loss: 0.5461 - acc: 0.7313 - val_loss: 0.4210 - val_acc: 0.7891\n",
      "Epoch 49/200\n",
      "96/96 [==============================] - 220s 2s/step - loss: 0.5278 - acc: 0.7326 - val_loss: 0.4715 - val_acc: 0.7910\n",
      "Epoch 50/200\n",
      "96/96 [==============================] - 217s 2s/step - loss: 0.5396 - acc: 0.7379 - val_loss: 0.4990 - val_acc: 0.7578\n",
      "Epoch 51/200\n",
      "96/96 [==============================] - 218s 2s/step - loss: 0.5438 - acc: 0.7287 - val_loss: 0.4780 - val_acc: 0.7715\n",
      "Epoch 52/200\n",
      "96/96 [==============================] - 222s 2s/step - loss: 0.5404 - acc: 0.7248 - val_loss: 0.4661 - val_acc: 0.7617\n",
      "Epoch 53/200\n",
      "96/96 [==============================] - 218s 2s/step - loss: 0.5465 - acc: 0.7248 - val_loss: 0.4763 - val_acc: 0.7832\n",
      "Epoch 54/200\n",
      "96/96 [==============================] - 223s 2s/step - loss: 0.5356 - acc: 0.7261 - val_loss: 0.5580 - val_acc: 0.7324\n",
      "Epoch 55/200\n",
      "96/96 [==============================] - 219s 2s/step - loss: 0.5326 - acc: 0.7588 - val_loss: 0.4519 - val_acc: 0.7930\n",
      "Epoch 56/200\n",
      "96/96 [==============================] - 224s 2s/step - loss: 0.5773 - acc: 0.7379 - val_loss: 0.4976 - val_acc: 0.7754\n",
      "Epoch 57/200\n",
      "96/96 [==============================] - 219s 2s/step - loss: 0.5436 - acc: 0.7471 - val_loss: 0.4925 - val_acc: 0.7695\n",
      "Epoch 58/200\n",
      "96/96 [==============================] - 222s 2s/step - loss: 0.5286 - acc: 0.7300 - val_loss: 0.5782 - val_acc: 0.7480\n",
      "Epoch 59/200\n",
      "96/96 [==============================] - 220s 2s/step - loss: 0.5243 - acc: 0.7615 - val_loss: 0.4711 - val_acc: 0.7891\n",
      "Epoch 60/200\n",
      "96/96 [==============================] - 220s 2s/step - loss: 0.5102 - acc: 0.7405 - val_loss: 0.4343 - val_acc: 0.7676\n"
     ]
    },
    {
     "name": "stdout",
     "output_type": "stream",
     "text": [
      "Epoch 61/200\n",
      "96/96 [==============================] - 218s 2s/step - loss: 0.5232 - acc: 0.7444 - val_loss: 0.5509 - val_acc: 0.7832\n"
     ]
    }
   ],
   "source": [
    "#train the model\n",
    "history = model.fit(train_generator,\n",
    "                    steps_per_epoch = total_train // batch_size,\n",
    "                    validation_data = validation_generator,\n",
    "                    epochs= 200,\n",
    "                    validation_steps =  total_val // batch_size,\n",
    "                    callbacks =[callbacks])"
   ]
  },
  {
   "cell_type": "code",
   "execution_count": 12,
   "metadata": {},
   "outputs": [
    {
     "data": {
      "image/png": "[encoded data removed]",
      "text/plain": [
       "<Figure size 432x288 with 1 Axes>"
      ]
     },
     "metadata": {
      "needs_background": "light"
     },
     "output_type": "display_data"
    },
    {
     "data": {
      "text/plain": [
       "<Figure size 432x288 with 0 Axes>"
      ]
     },
     "metadata": {},
     "output_type": "display_data"
    },
    {
     "data": {
      "image/png": "[encoded data removed]",
      "text/plain": [
       "<Figure size 432x288 with 1 Axes>"
      ]
     },
     "metadata": {
      "needs_background": "light"
     },
     "output_type": "display_data"
    },
    {
     "data": {
      "text/plain": [
       "<Figure size 432x288 with 0 Axes>"
      ]
     },
     "metadata": {},
     "output_type": "display_data"
    }
   ],
   "source": [
    "#look at the metrics from training\n",
    "%matplotlib inline\n",
    "\n",
    "acc = history.history['acc']\n",
    "val_acc = history.history['val_acc']\n",
    "loss = history.history['loss']\n",
    "val_loss = history.history['val_loss']\n",
    "\n",
    "epochs = range(len(acc))\n",
    "\n",
    "plt.plot(epochs, acc, 'r', label='Training accuracy')\n",
    "plt.plot(epochs, val_acc, 'b', label='Validation accuracy')\n",
    "\n",
    "plt.title('Training and validation accuracy')\n",
    "plt.legend(loc=0)\n",
    "plt.figure()\n",
    "plt.show()\n",
    "\n",
    "plt.plot(epochs, loss, 'r--', label='Training loss')\n",
    "plt.plot(epochs, val_loss, 'b--', label='Validation loss')\n",
    "plt.title('Training and validation loss') \n",
    "plt.legend(loc=0)\n",
    "plt.figure()\n",
    "plt.show()"
   ]
  },
  {
   "cell_type": "code",
   "execution_count": 13,
   "metadata": {},
   "outputs": [
    {
     "name": "stdout",
     "output_type": "stream",
     "text": [
      "WARNING:tensorflow:From /usr/lib/python3/dist-packages/tensorflow/python/training/tracking/tracking.py:111: Model.state_updates (from tensorflow.python.keras.engine.training) is deprecated and will be removed in a future version.\n",
      "Instructions for updating:\n",
      "This property should not be used in TensorFlow 2.0, as updates are applied automatically.\n",
      "WARNING:tensorflow:From /usr/lib/python3/dist-packages/tensorflow/python/training/tracking/tracking.py:111: Layer.updates (from tensorflow.python.keras.engine.base_layer) is deprecated and will be removed in a future version.\n",
      "Instructions for updating:\n",
      "This property should not be used in TensorFlow 2.0, as updates are applied automatically.\n",
      "INFO:tensorflow:Assets written to: ./models/VGG16_model_3_6040split/assets\n"
     ]
    }
   ],
   "source": [
    "#save the model\n",
    "filepath = './models/VGG16_model_3_6040split'\n",
    "model.save(filepath)\n",
    "\n",
    "#load model\n",
    "#model = tf.keras.models.load_model(filepath, compile = True)"
   ]
  },
  {
   "cell_type": "code",
   "execution_count": null,
   "metadata": {},
   "outputs": [],
   "source": []
  }
 ],
 "metadata": {
  "kernelspec": {
   "display_name": "Python 3",
   "language": "python",
   "name": "python3"
  },
  "language_info": {
   "codemirror_mode": {
    "name": "ipython",
    "version": 3
   },
   "file_extension": ".py",
   "mimetype": "text/x-python",
   "name": "python",
   "nbconvert_exporter": "python",
   "pygments_lexer": "ipython3",
   "version": "3.8.5"
  }
 },
 "nbformat": 4,
 "nbformat_minor": 2
}
