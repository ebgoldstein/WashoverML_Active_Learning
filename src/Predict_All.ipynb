{
 "cells": [
  {
   "cell_type": "markdown",
   "metadata": {},
   "source": [
    "## Code to predict directories of images and create dataframe with results"
   ]
  },
  {
   "cell_type": "code",
   "execution_count": 1,
   "metadata": {},
   "outputs": [
    {
     "name": "stdout",
     "output_type": "stream",
     "text": [
      "TF version: 2.3.2\n",
      " GPU: /device:GPU:0\n"
     ]
    }
   ],
   "source": [
    "#load up the basics\n",
    "import os, shutil\n",
    "import numpy as np\n",
    "import matplotlib.pyplot as plt\n",
    "import pandas as pd\n",
    "\n",
    "#image file issue\n",
    "#https://stackoverflow.com/questions/48395076/keras-giving-oserror-image-file-is-truncated-26-bytes-not-processed\n",
    "from PIL import ImageFile\n",
    "ImageFile.LOAD_TRUNCATED_IMAGES = True\n",
    "\n",
    "\n",
    "#Set GPU to use\n",
    "os.environ[\"CUDA_DEVICE_ORDER\"] = \"PCI_BUS_ID\"\n",
    "os.environ[\"CUDA_VISIBLE_DEVICES\"] = \"0\"\n",
    "\n",
    "#import TF stuff\n",
    "import tensorflow as tf\n",
    "from tensorflow.keras.preprocessing.image import ImageDataGenerator\n",
    "\n",
    "#Check TensorFlow Version\n",
    "print('TF version: {}' .format(tf.__version__))\n",
    "\n",
    "#Check for GPU utilization\n",
    "if tf.test.gpu_device_name():\n",
    "    print(' GPU: {}'.format(tf.test.gpu_device_name()))\n",
    "else:\n",
    "    print(\"No GPU\")\n",
    "    \n",
    "#help w/ predict generator from: \n",
    "#https://stackoverflow.com/questions/57516673/how-to-perform-prediction-using-predict-generator-on-unlabeled-test-data-in-kera"
   ]
  },
  {
   "cell_type": "code",
   "execution_count": 2,
   "metadata": {},
   "outputs": [],
   "source": [
    "#Load up the TF model\n",
    "\n",
    "#model path\n",
    "model_path = './models/VGG16_model_4_8020split_512px'\n",
    "\n",
    "# load model into tf\n",
    "model = tf.keras.models.load_model(model_path, compile = True)"
   ]
  },
  {
   "cell_type": "code",
   "execution_count": 3,
   "metadata": {},
   "outputs": [],
   "source": [
    "#flow from dataframe\n",
    "#https://stackoverflow.com/questions/58116359/is-there-a-simple-way-to-use-only-half-of-the-images-in-underlying-directories-u\n",
    "#https://www.tensorflow.org/api_docs/python/tf/keras/preprocessing/image/ImageDataGenerator"
   ]
  },
  {
   "cell_type": "code",
   "execution_count": 5,
   "metadata": {},
   "outputs": [
    {
     "name": "stdout",
     "output_type": "stream",
     "text": [
      "Found 134624 images belonging to 11 classes.\n"
     ]
    }
   ],
   "source": [
    "# build the generator.\n",
    "\n",
    "# here are the numbers for each storms, if we want to break those out for par. processing.\n",
    "#(vs. running entire dir of all storms).\n",
    "# Barry, 8900\n",
    "# Delta, 9785\n",
    "# Dorian, 24749\n",
    "# Florence, 31434\n",
    "# Gordon, 2019\n",
    "# Isaias, 8938\n",
    "# Laura, 24165\n",
    "# Michael, 9600\n",
    "# Sally, 6390\n",
    "# Zeta, 8644\n",
    "# pred_data_dir = '/data/NOAA_ERI/Florence'\n",
    "\n",
    "\n",
    "#directory\n",
    "pred_data_dir = '/data/NOAA_ERI'\n",
    "\n",
    "batch_size = 32\n",
    "numberofimages = 134624\n",
    "\n",
    "#set Image size based on the model(RGB, so 3 channels)\n",
    "pix_dim = 512\n",
    "imsize = (pix_dim,pix_dim) \n",
    "imshape = (pix_dim,pix_dim,3)\n",
    "\n",
    "#rescale the images\n",
    "pred_datagen = ImageDataGenerator(rescale =1./255.)\n",
    "\n",
    "# Flow images in batches \n",
    "pred_generator = pred_datagen.flow_from_directory(pred_data_dir,\n",
    "                                                    batch_size = batch_size,\n",
    "                                                    class_mode = None,\n",
    "                                                    target_size = imsize,\n",
    "                                                    shuffle = False)\n",
    "#reset the generator counter\n",
    "pred_generator.reset()\n"
   ]
  },
  {
   "cell_type": "code",
   "execution_count": null,
   "metadata": {
    "scrolled": true
   },
   "outputs": [
    {
     "name": "stdout",
     "output_type": "stream",
     "text": [
      " 558/4207 [==>...........................] - ETA: 6:27:18"
     ]
    }
   ],
   "source": [
    "#make the predictions\n",
    "prediction = model.predict(pred_generator,\n",
    "                           verbose=1,\n",
    "                           steps=numberofimages/batch_size)"
   ]
  },
  {
   "cell_type": "code",
   "execution_count": null,
   "metadata": {},
   "outputs": [],
   "source": [
    "#convert the predictions to a list\n",
    "PredList = prediction.tolist()"
   ]
  },
  {
   "cell_type": "code",
   "execution_count": null,
   "metadata": {},
   "outputs": [],
   "source": [
    "#get the filenames\n",
    "filenames = pred_generator.filenames\n",
    "\n",
    "#and make a dataframe with filenames adn predictions\n",
    "PredDF = pd.DataFrame({'Filename': filenames,'Prediction': PredList})\n",
    "\n",
    "#PredDF.head()\n",
    "#PredDF.dtypes"
   ]
  },
  {
   "cell_type": "code",
   "execution_count": null,
   "metadata": {},
   "outputs": [],
   "source": [
    "#remove the brackets from the prediction list\n",
    "PredDF[\"Prediction\"] = PredDF[\"Prediction\"].str[0]\n",
    "\n",
    "#Convert the predcit column to numeric\n",
    "PredDF[\"Prediction\"] = pd.to_numeric(PredDF[\"Prediction\"])\n",
    "\n",
    "#and check to see it worked\n",
    "PredDF.head()"
   ]
  },
  {
   "cell_type": "code",
   "execution_count": null,
   "metadata": {},
   "outputs": [],
   "source": [
    "#save the data\n",
    "\n",
    "#new csv to save\n",
    "newpredcsv = '../data/tables/Model4AllPreds.csv'\n",
    "\n",
    "PredDF.to_csv(newpredcsv, index=False)"
   ]
  },
  {
   "cell_type": "code",
   "execution_count": null,
   "metadata": {},
   "outputs": [],
   "source": []
  }
 ],
 "metadata": {
  "kernelspec": {
   "display_name": "Python 3",
   "language": "python",
   "name": "python3"
  },
  "language_info": {
   "codemirror_mode": {
    "name": "ipython",
    "version": 3
   },
   "file_extension": ".py",
   "mimetype": "text/x-python",
   "name": "python",
   "nbconvert_exporter": "python",
   "pygments_lexer": "ipython3",
   "version": "3.8.5"
  }
 },
 "nbformat": 4,
 "nbformat_minor": 4
}
