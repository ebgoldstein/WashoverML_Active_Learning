{
 "cells": [
  {
   "cell_type": "markdown",
   "metadata": {},
   "source": [
    "## Code to predict directories of images and create dataframe with results"
   ]
  },
  {
   "cell_type": "code",
   "execution_count": 1,
   "metadata": {},
   "outputs": [
    {
     "name": "stdout",
     "output_type": "stream",
     "text": [
      "TF version: 2.3.2\n",
      " GPU: /device:GPU:0\n"
     ]
    }
   ],
   "source": [
    "#load up the basics\n",
    "import os, shutil\n",
    "import numpy as np\n",
    "import matplotlib.pyplot as plt\n",
    "import pandas as pd\n",
    "\n",
    "#image file issue\n",
    "#https://stackoverflow.com/questions/48395076/keras-giving-oserror-image-file-is-truncated-26-bytes-not-processed\n",
    "from PIL import ImageFile, Image\n",
    "ImageFile.LOAD_TRUNCATED_IMAGES = True\n",
    "Image.MAX_IMAGE_PIXELS = None\n",
    "\n",
    "\n",
    "#Set GPU to use\n",
    "os.environ[\"CUDA_DEVICE_ORDER\"] = \"PCI_BUS_ID\"\n",
    "os.environ[\"CUDA_VISIBLE_DEVICES\"] = \"1\"\n",
    "\n",
    "#import TF stuff\n",
    "import tensorflow as tf\n",
    "from tensorflow.keras.preprocessing.image import ImageDataGenerator\n",
    "\n",
    "#Check TensorFlow Version\n",
    "print('TF version: {}' .format(tf.__version__))\n",
    "\n",
    "#Check for GPU utilization\n",
    "if tf.test.gpu_device_name():\n",
    "    print(' GPU: {}'.format(tf.test.gpu_device_name()))\n",
    "else:\n",
    "    print(\"No GPU\")\n",
    "    \n",
    "#help w/ predict generator from: \n",
    "#https://stackoverflow.com/questions/57516673/how-to-perform-prediction-using-predict-generator-on-unlabeled-test-data-in-kera"
   ]
  },
  {
   "cell_type": "code",
   "execution_count": 2,
   "metadata": {},
   "outputs": [],
   "source": [
    "#Load up the TF model\n",
    "\n",
    "#model path\n",
    "model_path = './models/VGG16_model_6_8020split_512px_2stepFT'\n",
    "\n",
    "# load model into tf\n",
    "model = tf.keras.models.load_model(model_path, compile = True)"
   ]
  },
  {
   "cell_type": "code",
   "execution_count": 3,
   "metadata": {},
   "outputs": [],
   "source": [
    "#flow from dataframe\n",
    "#https://stackoverflow.com/questions/58116359/is-there-a-simple-way-to-use-only-half-of-the-images-in-underlying-directories-u\n",
    "#https://www.tensorflow.org/api_docs/python/tf/keras/preprocessing/image/ImageDataGenerator"
   ]
  },
  {
   "cell_type": "code",
   "execution_count": 5,
   "metadata": {},
   "outputs": [
    {
     "name": "stdout",
     "output_type": "stream",
     "text": [
      "Found 135245 images belonging to 13 classes.\n"
     ]
    }
   ],
   "source": [
    "# build the generator.\n",
    "\n",
    "# here are the numbers for each storms, if we want to break those out for par. processing.\n",
    "#(vs. running entire dir of all storms).\n",
    "# Barry, 8900\n",
    "# Delta, 9785\n",
    "# Dorian, 24749\n",
    "# Florence, 31434\n",
    "# Gordon, 2019\n",
    "# Isaias, 8938\n",
    "# Laura, 24165\n",
    "# Michael, 9600\n",
    "# Sally, 6390\n",
    "# Zeta, 8644\n",
    "# Ida\n",
    "# Henri\n",
    "# pred_data_dir = '/data/NOAA_ERI/Florence'\n",
    "\n",
    "\n",
    "#directory\n",
    "pred_data_dir = '/data/NOAA_ERI'\n",
    "\n",
    "batch_size = 32\n",
    "\n",
    "#set Image size based on the model(RGB, so 3 channels)\n",
    "pix_dim = 512\n",
    "imsize = (pix_dim,pix_dim) \n",
    "imshape = (pix_dim,pix_dim,3)\n",
    "\n",
    "#rescale the images\n",
    "pred_datagen = ImageDataGenerator(rescale =1./255.)\n",
    "\n",
    "# Flow images in batches \n",
    "pred_generator = pred_datagen.flow_from_directory(pred_data_dir,\n",
    "                                                    batch_size = batch_size,\n",
    "                                                    class_mode = None,\n",
    "                                                    target_size = imsize,\n",
    "                                                    shuffle = False)\n",
    "#reset the generator counter\n",
    "pred_generator.reset()\n"
   ]
  },
  {
   "cell_type": "code",
   "execution_count": 6,
   "metadata": {
    "scrolled": true
   },
   "outputs": [
    {
     "name": "stdout",
     "output_type": "stream",
     "text": [
      "4227/4226 [==============================] - 26790s 6s/step\n"
     ]
    }
   ],
   "source": [
    "#set number of images based on output of previous cell\n",
    "numberofimages = 135245\n",
    "\n",
    "#make the predictions\n",
    "prediction = model.predict(pred_generator,\n",
    "                           verbose=1,\n",
    "                           steps=numberofimages/batch_size)"
   ]
  },
  {
   "cell_type": "code",
   "execution_count": 7,
   "metadata": {},
   "outputs": [],
   "source": [
    "#get the filenames\n",
    "filenames = pred_generator.filenames\n",
    "\n",
    "#convert the predictions to a list\n",
    "PredList = prediction.tolist()\n",
    "\n",
    "#and make a dataframe with filenames adn predictions\n",
    "PredDF = pd.DataFrame({'Filename': filenames,'Prediction': PredList})\n",
    "\n",
    "#PredDF.head()\n",
    "#PredDF.dtypes"
   ]
  },
  {
   "cell_type": "code",
   "execution_count": 8,
   "metadata": {},
   "outputs": [
    {
     "data": {
      "text/html": [
       "<div>\n",
       "<style scoped>\n",
       "    .dataframe tbody tr th:only-of-type {\n",
       "        vertical-align: middle;\n",
       "    }\n",
       "\n",
       "    .dataframe tbody tr th {\n",
       "        vertical-align: top;\n",
       "    }\n",
       "\n",
       "    .dataframe thead th {\n",
       "        text-align: right;\n",
       "    }\n",
       "</style>\n",
       "<table border=\"1\" class=\"dataframe\">\n",
       "  <thead>\n",
       "    <tr style=\"text-align: right;\">\n",
       "      <th></th>\n",
       "      <th>Filename</th>\n",
       "      <th>Prediction</th>\n",
       "    </tr>\n",
       "  </thead>\n",
       "  <tbody>\n",
       "    <tr>\n",
       "      <th>0</th>\n",
       "      <td>Barry/20190716a_jpgs/jpgs/C19748935.jpg</td>\n",
       "      <td>0.210064</td>\n",
       "    </tr>\n",
       "    <tr>\n",
       "      <th>1</th>\n",
       "      <td>Barry/20190716a_jpgs/jpgs/C19748941.jpg</td>\n",
       "      <td>0.144417</td>\n",
       "    </tr>\n",
       "    <tr>\n",
       "      <th>2</th>\n",
       "      <td>Barry/20190716a_jpgs/jpgs/C19748947.jpg</td>\n",
       "      <td>0.151956</td>\n",
       "    </tr>\n",
       "    <tr>\n",
       "      <th>3</th>\n",
       "      <td>Barry/20190716a_jpgs/jpgs/C19748953.jpg</td>\n",
       "      <td>0.156361</td>\n",
       "    </tr>\n",
       "    <tr>\n",
       "      <th>4</th>\n",
       "      <td>Barry/20190716a_jpgs/jpgs/C19748959.jpg</td>\n",
       "      <td>0.156329</td>\n",
       "    </tr>\n",
       "  </tbody>\n",
       "</table>\n",
       "</div>"
      ],
      "text/plain": [
       "                                  Filename  Prediction\n",
       "0  Barry/20190716a_jpgs/jpgs/C19748935.jpg    0.210064\n",
       "1  Barry/20190716a_jpgs/jpgs/C19748941.jpg    0.144417\n",
       "2  Barry/20190716a_jpgs/jpgs/C19748947.jpg    0.151956\n",
       "3  Barry/20190716a_jpgs/jpgs/C19748953.jpg    0.156361\n",
       "4  Barry/20190716a_jpgs/jpgs/C19748959.jpg    0.156329"
      ]
     },
     "execution_count": 8,
     "metadata": {},
     "output_type": "execute_result"
    }
   ],
   "source": [
    "#remove the brackets from the prediction list\n",
    "PredDF[\"Prediction\"] = PredDF[\"Prediction\"].str[0]\n",
    "\n",
    "#Convert the predcit column to numeric\n",
    "PredDF[\"Prediction\"] = pd.to_numeric(PredDF[\"Prediction\"])\n",
    "\n",
    "#and check to see it worked\n",
    "PredDF.head()"
   ]
  },
  {
   "cell_type": "code",
   "execution_count": 9,
   "metadata": {},
   "outputs": [],
   "source": [
    "#save the data\n",
    "\n",
    "#new csv to save\n",
    "newpredcsv = '../data/tables/Model6AllPreds.csv'\n",
    "\n",
    "PredDF.to_csv(newpredcsv, index=False)"
   ]
  },
  {
   "cell_type": "code",
   "execution_count": 10,
   "metadata": {},
   "outputs": [
    {
     "data": {
      "text/html": [
       "<div>\n",
       "<style scoped>\n",
       "    .dataframe tbody tr th:only-of-type {\n",
       "        vertical-align: middle;\n",
       "    }\n",
       "\n",
       "    .dataframe tbody tr th {\n",
       "        vertical-align: top;\n",
       "    }\n",
       "\n",
       "    .dataframe thead th {\n",
       "        text-align: right;\n",
       "    }\n",
       "</style>\n",
       "<table border=\"1\" class=\"dataframe\">\n",
       "  <thead>\n",
       "    <tr style=\"text-align: right;\">\n",
       "      <th></th>\n",
       "      <th>Filename</th>\n",
       "      <th>Prediction1</th>\n",
       "      <th>Prediction2</th>\n",
       "      <th>Prediction3</th>\n",
       "      <th>Prediction4</th>\n",
       "      <th>Prediction5</th>\n",
       "      <th>archive</th>\n",
       "      <th>date</th>\n",
       "      <th>image</th>\n",
       "      <th>labeled</th>\n",
       "      <th>...</th>\n",
       "      <th>ll_lon</th>\n",
       "      <th>lr_lat</th>\n",
       "      <th>lr_lon</th>\n",
       "      <th>size</th>\n",
       "      <th>storm_id</th>\n",
       "      <th>ul_lat</th>\n",
       "      <th>ul_lon</th>\n",
       "      <th>ur_lat</th>\n",
       "      <th>ur_lon</th>\n",
       "      <th>Prediction6</th>\n",
       "    </tr>\n",
       "  </thead>\n",
       "  <tbody>\n",
       "    <tr>\n",
       "      <th>0</th>\n",
       "      <td>Barry/20190716a_jpgs/jpgs/C19748935.jpg</td>\n",
       "      <td>0.093053</td>\n",
       "      <td>0.458411</td>\n",
       "      <td>0.679300</td>\n",
       "      <td>0.274590</td>\n",
       "      <td>0.021257</td>\n",
       "      <td>20190716a_jpgs</td>\n",
       "      <td>2019-07-16</td>\n",
       "      <td>C19748935.jpg</td>\n",
       "      <td>NaN</td>\n",
       "      <td>...</td>\n",
       "      <td>-92.321909</td>\n",
       "      <td>29.501893</td>\n",
       "      <td>-92.311318</td>\n",
       "      <td>4875221</td>\n",
       "      <td>barry</td>\n",
       "      <td>29.514684</td>\n",
       "      <td>-92.317575</td>\n",
       "      <td>29.509719</td>\n",
       "      <td>-92.306144</td>\n",
       "      <td>0.210064</td>\n",
       "    </tr>\n",
       "    <tr>\n",
       "      <th>1</th>\n",
       "      <td>Barry/20190716a_jpgs/jpgs/C19748941.jpg</td>\n",
       "      <td>0.002945</td>\n",
       "      <td>0.449371</td>\n",
       "      <td>0.456580</td>\n",
       "      <td>0.237515</td>\n",
       "      <td>0.043771</td>\n",
       "      <td>20190716a_jpgs</td>\n",
       "      <td>2019-07-16</td>\n",
       "      <td>C19748941.jpg</td>\n",
       "      <td>NaN</td>\n",
       "      <td>...</td>\n",
       "      <td>-92.319636</td>\n",
       "      <td>29.506580</td>\n",
       "      <td>-92.308422</td>\n",
       "      <td>5842249</td>\n",
       "      <td>barry</td>\n",
       "      <td>29.518644</td>\n",
       "      <td>-92.316049</td>\n",
       "      <td>29.514679</td>\n",
       "      <td>-92.304272</td>\n",
       "      <td>0.144417</td>\n",
       "    </tr>\n",
       "    <tr>\n",
       "      <th>2</th>\n",
       "      <td>Barry/20190716a_jpgs/jpgs/C19748947.jpg</td>\n",
       "      <td>0.002490</td>\n",
       "      <td>0.413135</td>\n",
       "      <td>0.469627</td>\n",
       "      <td>0.226322</td>\n",
       "      <td>0.052162</td>\n",
       "      <td>20190716a_jpgs</td>\n",
       "      <td>2019-07-16</td>\n",
       "      <td>C19748947.jpg</td>\n",
       "      <td>NaN</td>\n",
       "      <td>...</td>\n",
       "      <td>-92.317814</td>\n",
       "      <td>29.511428</td>\n",
       "      <td>-92.306184</td>\n",
       "      <td>6061687</td>\n",
       "      <td>barry</td>\n",
       "      <td>29.522755</td>\n",
       "      <td>-92.314927</td>\n",
       "      <td>29.519666</td>\n",
       "      <td>-92.302932</td>\n",
       "      <td>0.151956</td>\n",
       "    </tr>\n",
       "    <tr>\n",
       "      <th>3</th>\n",
       "      <td>Barry/20190716a_jpgs/jpgs/C19748953.jpg</td>\n",
       "      <td>0.020509</td>\n",
       "      <td>0.361904</td>\n",
       "      <td>0.444304</td>\n",
       "      <td>0.202061</td>\n",
       "      <td>0.065795</td>\n",
       "      <td>20190716a_jpgs</td>\n",
       "      <td>2019-07-16</td>\n",
       "      <td>C19748953.jpg</td>\n",
       "      <td>NaN</td>\n",
       "      <td>...</td>\n",
       "      <td>-92.316963</td>\n",
       "      <td>29.516382</td>\n",
       "      <td>-92.305242</td>\n",
       "      <td>5873595</td>\n",
       "      <td>barry</td>\n",
       "      <td>29.527209</td>\n",
       "      <td>-92.314396</td>\n",
       "      <td>29.524401</td>\n",
       "      <td>-92.302525</td>\n",
       "      <td>0.156361</td>\n",
       "    </tr>\n",
       "    <tr>\n",
       "      <th>4</th>\n",
       "      <td>Barry/20190716a_jpgs/jpgs/C19748959.jpg</td>\n",
       "      <td>0.043591</td>\n",
       "      <td>0.347595</td>\n",
       "      <td>0.443178</td>\n",
       "      <td>0.191845</td>\n",
       "      <td>0.061327</td>\n",
       "      <td>20190716a_jpgs</td>\n",
       "      <td>2019-07-16</td>\n",
       "      <td>C19748959.jpg</td>\n",
       "      <td>NaN</td>\n",
       "      <td>...</td>\n",
       "      <td>-92.315955</td>\n",
       "      <td>29.521040</td>\n",
       "      <td>-92.304028</td>\n",
       "      <td>6159050</td>\n",
       "      <td>barry</td>\n",
       "      <td>29.531420</td>\n",
       "      <td>-92.313768</td>\n",
       "      <td>29.529043</td>\n",
       "      <td>-92.301852</td>\n",
       "      <td>0.156329</td>\n",
       "    </tr>\n",
       "  </tbody>\n",
       "</table>\n",
       "<p>5 rows × 21 columns</p>\n",
       "</div>"
      ],
      "text/plain": [
       "                                  Filename  Prediction1  Prediction2  \\\n",
       "0  Barry/20190716a_jpgs/jpgs/C19748935.jpg     0.093053     0.458411   \n",
       "1  Barry/20190716a_jpgs/jpgs/C19748941.jpg     0.002945     0.449371   \n",
       "2  Barry/20190716a_jpgs/jpgs/C19748947.jpg     0.002490     0.413135   \n",
       "3  Barry/20190716a_jpgs/jpgs/C19748953.jpg     0.020509     0.361904   \n",
       "4  Barry/20190716a_jpgs/jpgs/C19748959.jpg     0.043591     0.347595   \n",
       "\n",
       "   Prediction3  Prediction4  Prediction5         archive        date  \\\n",
       "0     0.679300     0.274590     0.021257  20190716a_jpgs  2019-07-16   \n",
       "1     0.456580     0.237515     0.043771  20190716a_jpgs  2019-07-16   \n",
       "2     0.469627     0.226322     0.052162  20190716a_jpgs  2019-07-16   \n",
       "3     0.444304     0.202061     0.065795  20190716a_jpgs  2019-07-16   \n",
       "4     0.443178     0.191845     0.061327  20190716a_jpgs  2019-07-16   \n",
       "\n",
       "           image  labeled  ...     ll_lon     lr_lat     lr_lon     size  \\\n",
       "0  C19748935.jpg      NaN  ... -92.321909  29.501893 -92.311318  4875221   \n",
       "1  C19748941.jpg      NaN  ... -92.319636  29.506580 -92.308422  5842249   \n",
       "2  C19748947.jpg      NaN  ... -92.317814  29.511428 -92.306184  6061687   \n",
       "3  C19748953.jpg      NaN  ... -92.316963  29.516382 -92.305242  5873595   \n",
       "4  C19748959.jpg      NaN  ... -92.315955  29.521040 -92.304028  6159050   \n",
       "\n",
       "   storm_id     ul_lat     ul_lon     ur_lat     ur_lon  Prediction6  \n",
       "0     barry  29.514684 -92.317575  29.509719 -92.306144     0.210064  \n",
       "1     barry  29.518644 -92.316049  29.514679 -92.304272     0.144417  \n",
       "2     barry  29.522755 -92.314927  29.519666 -92.302932     0.151956  \n",
       "3     barry  29.527209 -92.314396  29.524401 -92.302525     0.156361  \n",
       "4     barry  29.531420 -92.313768  29.529043 -92.301852     0.156329  \n",
       "\n",
       "[5 rows x 21 columns]"
      ]
     },
     "execution_count": 10,
     "metadata": {},
     "output_type": "execute_result"
    }
   ],
   "source": [
    "#read in the master DF\n",
    "mdf = pd.read_csv('../data/tables/MasterDF_09102021a.csv')\n",
    "\n",
    "#rename column with pred#\n",
    "PredDF = PredDF.rename({'Prediction': 'Prediction6'}, axis=1)\n",
    "\n",
    "#merge to prediction dataframe\n",
    "New_mdf = pd.merge(mdf,PredDF, on=\"Filename\", how = \"left\")\n",
    "New_mdf.head()"
   ]
  },
  {
   "cell_type": "code",
   "execution_count": 11,
   "metadata": {},
   "outputs": [],
   "source": [
    "#new csv to save\n",
    "newmdfcsv = '../data/tables/MasterDF_09102021b.csv'\n",
    "\n",
    "New_mdf.to_csv(newmdfcsv, index=False)"
   ]
  },
  {
   "cell_type": "code",
   "execution_count": 12,
   "metadata": {},
   "outputs": [
    {
     "data": {
      "text/plain": [
       "(13975, 21)"
      ]
     },
     "execution_count": 12,
     "metadata": {},
     "output_type": "execute_result"
    }
   ],
   "source": [
    "# how many washover images?\n",
    "predsWash = New_mdf[New_mdf[\"Prediction6\"] >= 0.5]\n",
    "predsWash.shape"
   ]
  },
  {
   "cell_type": "code",
   "execution_count": 14,
   "metadata": {},
   "outputs": [
    {
     "data": {
      "text/plain": [
       "Text(0, 0.5, '% images with Washover')"
      ]
     },
     "execution_count": 14,
     "metadata": {},
     "output_type": "execute_result"
    },
    {
     "data": {
      "image/png": "[encoded data removed]",
      "text/plain": [
       "<Figure size 432x288 with 1 Axes>"
      ]
     },
     "metadata": {
      "needs_background": "light"
     },
     "output_type": "display_data"
    }
   ],
   "source": [
    "WashImages = np.array([35441,33092, 28394, 20025,16229,13975])\n",
    "WashImagesPercent= 100* (WashImages/134624)\n",
    "Model =[1,2,3,4,5,6]\n",
    "\n",
    "\n",
    "plt.plot(Model,WashImagesPercent,'*')\n",
    "plt.ylim([10, 40])\n",
    "plt.xlabel('Model Number')\n",
    "plt.ylabel('% images with Washover')"
   ]
  },
  {
   "cell_type": "code",
   "execution_count": null,
   "metadata": {},
   "outputs": [],
   "source": []
  }
 ],
 "metadata": {
  "kernelspec": {
   "display_name": "Python 3",
   "language": "python",
   "name": "python3"
  },
  "language_info": {
   "codemirror_mode": {
    "name": "ipython",
    "version": 3
   },
   "file_extension": ".py",
   "mimetype": "text/x-python",
   "name": "python",
   "nbconvert_exporter": "python",
   "pygments_lexer": "ipython3",
   "version": "3.8.10"
  }
 },
 "nbformat": 4,
 "nbformat_minor": 4
}
