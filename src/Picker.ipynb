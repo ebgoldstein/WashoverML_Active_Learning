{
 "cells": [
  {
   "cell_type": "code",
   "execution_count": null,
   "metadata": {},
   "outputs": [],
   "source": [
    "#load up the basics\n",
    "import os, shutil\n",
    "import numpy as np\n",
    "import matplotlib.pyplot as plt\n",
    "import pandas as pd"
   ]
  },
  {
   "cell_type": "code",
   "execution_count": null,
   "metadata": {},
   "outputs": [],
   "source": [
    "ModelPredFile = '../data/tables/Model4AllPreds.csv'\n",
    "preds = pd.read_csv(ModelPredFile)\n",
    "preds.head()"
   ]
  },
  {
   "cell_type": "code",
   "execution_count": null,
   "metadata": {},
   "outputs": [],
   "source": [
    "#Florence, Isaias, and Michael are picked. we can pick 100 images for the other storms\n",
    "\n",
    "# Barry, 8900\n",
    "# Delta, 9785\n",
    "# Dorian, 24749\n",
    "# Gordon, 2019\n",
    "# Isaias, 8938\n",
    "# Laura, 24165\n",
    "# Sally, 6390\n",
    "# Zeta, 8644"
   ]
  },
  {
   "cell_type": "code",
   "execution_count": null,
   "metadata": {},
   "outputs": [],
   "source": [
    "#THIS NEEDS TO EXCLUDE PREIOUSLY LABELED IMAGES FOR R6\n",
    "#AND ALSO NEEDS TO MARK IMAGES AS LABELED in the dataframe and then save a new copy"
   ]
  },
  {
   "cell_type": "code",
   "execution_count": null,
   "metadata": {},
   "outputs": [],
   "source": [
    "def Picker(Storm):\n",
    "    #select the storm\n",
    "    StormSubset = preds[preds['Filename'].str.contains(str(Storm))]\n",
    "    \n",
    "    #make new column certainty of prediction, from 0 to 0.5... 0 is smallest certainty\n",
    "    StormSubset[\"certainty\"] = abs(StormSubset[\"Prediction\"] - 0.5)\n",
    "    \n",
    "    #find the 100\n",
    "    smallest = StormSubset.nsmallest(100, 'certainty')\n",
    "    \n",
    "    #make a new dir\n",
    "    newdir = '../data/pics/modeltoLabeler/roundFive/'+ str(Storm)+'5'\n",
    "    os.mkdir(newdir)\n",
    "    \n",
    "    smallest['Image_Path'] = '/data/NOAA_ERI/' + smallest['Filename'].astype(str)\n",
    "    \n",
    "    \n",
    "    #pull out the list from the df\n",
    "    MoveList= smallest['Image_Path'].tolist()\n",
    "\n",
    "    #move those on the list\n",
    "    for f in MoveList:\n",
    "        shutil.copy(f, newdir)"
   ]
  },
  {
   "cell_type": "code",
   "execution_count": null,
   "metadata": {},
   "outputs": [],
   "source": [
    "Picker('Barry')\n",
    "Picker('Delta')\n",
    "Picker('Dorian')\n",
    "Picker('Gordon')\n",
    "Picker('Laura')\n",
    "Picker('Sally')\n",
    "Picker('Zeta')"
   ]
  },
  {
   "cell_type": "code",
   "execution_count": null,
   "metadata": {},
   "outputs": [],
   "source": []
  }
 ],
 "metadata": {
  "kernelspec": {
   "display_name": "Python 3",
   "language": "python",
   "name": "python3"
  },
  "language_info": {
   "codemirror_mode": {
    "name": "ipython",
    "version": 3
   },
   "file_extension": ".py",
   "mimetype": "text/x-python",
   "name": "python",
   "nbconvert_exporter": "python",
   "pygments_lexer": "ipython3",
   "version": "3.8.5"
  }
 },
 "nbformat": 4,
 "nbformat_minor": 4
}
