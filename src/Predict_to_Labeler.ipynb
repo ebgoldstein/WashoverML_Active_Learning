{
 "cells": [
  {
   "cell_type": "code",
   "execution_count": 1,
   "metadata": {},
   "outputs": [],
   "source": [
    "#load up the basics\n",
    "import os, shutil\n",
    "import numpy as np\n",
    "import matplotlib.pyplot as plt\n",
    "import pandas as pd"
   ]
  },
  {
   "cell_type": "code",
   "execution_count": 2,
   "metadata": {
    "scrolled": true
   },
   "outputs": [
    {
     "name": "stdout",
     "output_type": "stream",
     "text": [
      "(135245, 21)\n"
     ]
    }
   ],
   "source": [
    "ModelPredFile = '../data/tables/MasterDF_09102021b.csv'\n",
    "preds = pd.read_csv(ModelPredFile)\n",
    "preds.head()\n",
    "print(preds.shape)"
   ]
  },
  {
   "cell_type": "code",
   "execution_count": 3,
   "metadata": {},
   "outputs": [
    {
     "data": {
      "text/plain": [
       "(135245, 21)"
      ]
     },
     "execution_count": 3,
     "metadata": {},
     "output_type": "execute_result"
    }
   ],
   "source": [
    "#preds = preds[~preds['Filename'].str.contains(str('20180916b_jpgs/jpgs/bak'))]\n",
    "#preds.shape"
   ]
  },
  {
   "cell_type": "code",
   "execution_count": 5,
   "metadata": {},
   "outputs": [],
   "source": [
    "#THIS NEEDS TO EXCLUDE PREIOUSLY LABELED IMAGES FOR R6\n",
    "#AND ALSO NEEDS TO MARK IMAGES AS LABELED in the dataframe and then save a new copy"
   ]
  },
  {
   "cell_type": "code",
   "execution_count": 4,
   "metadata": {},
   "outputs": [],
   "source": [
    "def Picker(Storm,roundNumber,digit,df):\n",
    "    \n",
    "    ######FIND THE IMAGES THAT ARE UNCERTAIN\n",
    "    \n",
    "    #select the storm\n",
    "    StormSubset = df[df['Filename'].str.contains(str(Storm))]\n",
    "    \n",
    "    prediction = \"Prediction\" + str(digit - 1)\n",
    "    \n",
    "    #make new column certainty of prediction, from 0 to 0.5... 0 is smallest certainty\n",
    "    StormSubset[\"certainty\"] = abs(StormSubset[str(prediction)] - 0.5)\n",
    "    \n",
    "    #find the 100 that have not been labeled. change to 50 for round 6\n",
    "    smallest = StormSubset[StormSubset.labeled.isna()].nsmallest(50, 'certainty')\n",
    "    \n",
    "\n",
    "    ######MARK THE IMAGES THAT ARE UNCERTAIN  \n",
    "    \n",
    "    #add labeled attribute to the dataframe, to denote that this image is slected to be labeled \n",
    "    #(number denotes the round that causes the image to be selected.\n",
    "    smallest['Labeled'] = (digit)\n",
    "    \n",
    "    smolSubset = smallest[[\"Filename\",\"Labeled\"]]\n",
    "    \n",
    "    #merge to prediction dataframe\n",
    "    df = pd.merge(df, smolSubset, on=\"Filename\", how = \"left\")\n",
    "    \n",
    "    #combine Labeled and labeled\n",
    "    df['labeled'].fillna(df['Labeled'], inplace=True)\n",
    "    df = df.drop(columns=['Labeled'])\n",
    "    \n",
    "    ###### MOVE THE IMAGES THAT ARE UNCERTAIN\n",
    "    \n",
    "    #make a new dir\n",
    "    newdir = '../data/pics/modeltoLabeler/' + str(roundNumber) + '/' + str(Storm) + str(digit)\n",
    "    os.mkdir(newdir)\n",
    "    \n",
    "    smallest['Image_Path'] = '/data/NOAA_ERI/' + smallest['Filename'].astype(str)\n",
    "    \n",
    "    #pull out the list from the df\n",
    "    MoveList= smallest['Image_Path'].tolist()\n",
    "\n",
    "    #move those on the list\n",
    "    for f in MoveList:\n",
    "        shutil.copy(f, newdir)\n",
    "        \n",
    "    #print(smallest.head())   \n",
    "    \n",
    "    return df\n"
   ]
  },
  {
   "cell_type": "code",
   "execution_count": 7,
   "metadata": {},
   "outputs": [],
   "source": [
    "#Test = Picker('Barry','roundSix', 6, preds)\n",
    "#Test['labeled'].max()"
   ]
  },
  {
   "cell_type": "code",
   "execution_count": 5,
   "metadata": {},
   "outputs": [
    {
     "name": "stderr",
     "output_type": "stream",
     "text": [
      "<ipython-input-4-bc25e2a1f877>:11: SettingWithCopyWarning: \n",
      "A value is trying to be set on a copy of a slice from a DataFrame.\n",
      "Try using .loc[row_indexer,col_indexer] = value instead\n",
      "\n",
      "See the caveats in the documentation: http://pandas.pydata.org/pandas-docs/stable/user_guide/indexing.html#returning-a-view-versus-a-copy\n",
      "  StormSubset[\"certainty\"] = abs(StormSubset[str(prediction)] - 0.5)\n"
     ]
    }
   ],
   "source": [
    "df = Picker('Barry','roundSeven', 7, preds)\n",
    "df = Picker('Delta','roundSeven', 7, df)\n",
    "df = Picker('Gordon','roundSeven', 7, df)\n",
    "df = Picker('Laura','roundSeven', 7, df)\n",
    "df = Picker('Sally','roundSeven', 7, df)\n",
    "df = Picker('Zeta','roundSeven', 7, df)\n",
    "\n",
    "#df = Picker('Henri','roundSix', 6, df)\n",
    "#df = Picker('Ida','roundSix', 6, df)\n",
    "\n",
    "#df = Picker('Dorian','roundSix', 6, df)\n",
    "#df = Picker('Isaias','roundSix', 6, df)\n",
    "#df = Picker('Michael','roundSix', 6, df)\n",
    "#Florence has duplicate image nnames.. need to deal with that\n",
    "#df = Picker('Florence','roundSix', 6, df)"
   ]
  },
  {
   "cell_type": "code",
   "execution_count": 6,
   "metadata": {},
   "outputs": [
    {
     "data": {
      "text/html": [
       "<div>\n",
       "<style scoped>\n",
       "    .dataframe tbody tr th:only-of-type {\n",
       "        vertical-align: middle;\n",
       "    }\n",
       "\n",
       "    .dataframe tbody tr th {\n",
       "        vertical-align: top;\n",
       "    }\n",
       "\n",
       "    .dataframe thead th {\n",
       "        text-align: right;\n",
       "    }\n",
       "</style>\n",
       "<table border=\"1\" class=\"dataframe\">\n",
       "  <thead>\n",
       "    <tr style=\"text-align: right;\">\n",
       "      <th></th>\n",
       "      <th>Filename</th>\n",
       "      <th>Prediction1</th>\n",
       "      <th>Prediction2</th>\n",
       "      <th>Prediction3</th>\n",
       "      <th>Prediction4</th>\n",
       "      <th>Prediction5</th>\n",
       "      <th>archive</th>\n",
       "      <th>date</th>\n",
       "      <th>image</th>\n",
       "      <th>labeled</th>\n",
       "      <th>...</th>\n",
       "      <th>ll_lon</th>\n",
       "      <th>lr_lat</th>\n",
       "      <th>lr_lon</th>\n",
       "      <th>size</th>\n",
       "      <th>storm_id</th>\n",
       "      <th>ul_lat</th>\n",
       "      <th>ul_lon</th>\n",
       "      <th>ur_lat</th>\n",
       "      <th>ur_lon</th>\n",
       "      <th>Prediction6</th>\n",
       "    </tr>\n",
       "  </thead>\n",
       "  <tbody>\n",
       "    <tr>\n",
       "      <th>0</th>\n",
       "      <td>Barry/20190716a_jpgs/jpgs/C19748935.jpg</td>\n",
       "      <td>0.093053</td>\n",
       "      <td>0.458411</td>\n",
       "      <td>0.679300</td>\n",
       "      <td>0.274590</td>\n",
       "      <td>0.021257</td>\n",
       "      <td>20190716a_jpgs</td>\n",
       "      <td>2019-07-16</td>\n",
       "      <td>C19748935.jpg</td>\n",
       "      <td>NaN</td>\n",
       "      <td>...</td>\n",
       "      <td>-92.321909</td>\n",
       "      <td>29.501893</td>\n",
       "      <td>-92.311318</td>\n",
       "      <td>4875221</td>\n",
       "      <td>barry</td>\n",
       "      <td>29.514684</td>\n",
       "      <td>-92.317575</td>\n",
       "      <td>29.509719</td>\n",
       "      <td>-92.306144</td>\n",
       "      <td>0.210064</td>\n",
       "    </tr>\n",
       "    <tr>\n",
       "      <th>1</th>\n",
       "      <td>Barry/20190716a_jpgs/jpgs/C19748941.jpg</td>\n",
       "      <td>0.002945</td>\n",
       "      <td>0.449371</td>\n",
       "      <td>0.456580</td>\n",
       "      <td>0.237515</td>\n",
       "      <td>0.043771</td>\n",
       "      <td>20190716a_jpgs</td>\n",
       "      <td>2019-07-16</td>\n",
       "      <td>C19748941.jpg</td>\n",
       "      <td>NaN</td>\n",
       "      <td>...</td>\n",
       "      <td>-92.319636</td>\n",
       "      <td>29.506580</td>\n",
       "      <td>-92.308422</td>\n",
       "      <td>5842249</td>\n",
       "      <td>barry</td>\n",
       "      <td>29.518644</td>\n",
       "      <td>-92.316049</td>\n",
       "      <td>29.514679</td>\n",
       "      <td>-92.304272</td>\n",
       "      <td>0.144417</td>\n",
       "    </tr>\n",
       "    <tr>\n",
       "      <th>2</th>\n",
       "      <td>Barry/20190716a_jpgs/jpgs/C19748947.jpg</td>\n",
       "      <td>0.002490</td>\n",
       "      <td>0.413135</td>\n",
       "      <td>0.469627</td>\n",
       "      <td>0.226322</td>\n",
       "      <td>0.052162</td>\n",
       "      <td>20190716a_jpgs</td>\n",
       "      <td>2019-07-16</td>\n",
       "      <td>C19748947.jpg</td>\n",
       "      <td>NaN</td>\n",
       "      <td>...</td>\n",
       "      <td>-92.317814</td>\n",
       "      <td>29.511428</td>\n",
       "      <td>-92.306184</td>\n",
       "      <td>6061687</td>\n",
       "      <td>barry</td>\n",
       "      <td>29.522755</td>\n",
       "      <td>-92.314927</td>\n",
       "      <td>29.519666</td>\n",
       "      <td>-92.302932</td>\n",
       "      <td>0.151956</td>\n",
       "    </tr>\n",
       "    <tr>\n",
       "      <th>3</th>\n",
       "      <td>Barry/20190716a_jpgs/jpgs/C19748953.jpg</td>\n",
       "      <td>0.020509</td>\n",
       "      <td>0.361904</td>\n",
       "      <td>0.444304</td>\n",
       "      <td>0.202061</td>\n",
       "      <td>0.065795</td>\n",
       "      <td>20190716a_jpgs</td>\n",
       "      <td>2019-07-16</td>\n",
       "      <td>C19748953.jpg</td>\n",
       "      <td>NaN</td>\n",
       "      <td>...</td>\n",
       "      <td>-92.316963</td>\n",
       "      <td>29.516382</td>\n",
       "      <td>-92.305242</td>\n",
       "      <td>5873595</td>\n",
       "      <td>barry</td>\n",
       "      <td>29.527209</td>\n",
       "      <td>-92.314396</td>\n",
       "      <td>29.524401</td>\n",
       "      <td>-92.302525</td>\n",
       "      <td>0.156361</td>\n",
       "    </tr>\n",
       "    <tr>\n",
       "      <th>4</th>\n",
       "      <td>Barry/20190716a_jpgs/jpgs/C19748959.jpg</td>\n",
       "      <td>0.043591</td>\n",
       "      <td>0.347595</td>\n",
       "      <td>0.443178</td>\n",
       "      <td>0.191845</td>\n",
       "      <td>0.061327</td>\n",
       "      <td>20190716a_jpgs</td>\n",
       "      <td>2019-07-16</td>\n",
       "      <td>C19748959.jpg</td>\n",
       "      <td>NaN</td>\n",
       "      <td>...</td>\n",
       "      <td>-92.315955</td>\n",
       "      <td>29.521040</td>\n",
       "      <td>-92.304028</td>\n",
       "      <td>6159050</td>\n",
       "      <td>barry</td>\n",
       "      <td>29.531420</td>\n",
       "      <td>-92.313768</td>\n",
       "      <td>29.529043</td>\n",
       "      <td>-92.301852</td>\n",
       "      <td>0.156329</td>\n",
       "    </tr>\n",
       "  </tbody>\n",
       "</table>\n",
       "<p>5 rows × 21 columns</p>\n",
       "</div>"
      ],
      "text/plain": [
       "                                  Filename  Prediction1  Prediction2  \\\n",
       "0  Barry/20190716a_jpgs/jpgs/C19748935.jpg     0.093053     0.458411   \n",
       "1  Barry/20190716a_jpgs/jpgs/C19748941.jpg     0.002945     0.449371   \n",
       "2  Barry/20190716a_jpgs/jpgs/C19748947.jpg     0.002490     0.413135   \n",
       "3  Barry/20190716a_jpgs/jpgs/C19748953.jpg     0.020509     0.361904   \n",
       "4  Barry/20190716a_jpgs/jpgs/C19748959.jpg     0.043591     0.347595   \n",
       "\n",
       "   Prediction3  Prediction4  Prediction5         archive        date  \\\n",
       "0     0.679300     0.274590     0.021257  20190716a_jpgs  2019-07-16   \n",
       "1     0.456580     0.237515     0.043771  20190716a_jpgs  2019-07-16   \n",
       "2     0.469627     0.226322     0.052162  20190716a_jpgs  2019-07-16   \n",
       "3     0.444304     0.202061     0.065795  20190716a_jpgs  2019-07-16   \n",
       "4     0.443178     0.191845     0.061327  20190716a_jpgs  2019-07-16   \n",
       "\n",
       "           image  labeled  ...     ll_lon     lr_lat     lr_lon     size  \\\n",
       "0  C19748935.jpg      NaN  ... -92.321909  29.501893 -92.311318  4875221   \n",
       "1  C19748941.jpg      NaN  ... -92.319636  29.506580 -92.308422  5842249   \n",
       "2  C19748947.jpg      NaN  ... -92.317814  29.511428 -92.306184  6061687   \n",
       "3  C19748953.jpg      NaN  ... -92.316963  29.516382 -92.305242  5873595   \n",
       "4  C19748959.jpg      NaN  ... -92.315955  29.521040 -92.304028  6159050   \n",
       "\n",
       "   storm_id     ul_lat     ul_lon     ur_lat     ur_lon  Prediction6  \n",
       "0     barry  29.514684 -92.317575  29.509719 -92.306144     0.210064  \n",
       "1     barry  29.518644 -92.316049  29.514679 -92.304272     0.144417  \n",
       "2     barry  29.522755 -92.314927  29.519666 -92.302932     0.151956  \n",
       "3     barry  29.527209 -92.314396  29.524401 -92.302525     0.156361  \n",
       "4     barry  29.531420 -92.313768  29.529043 -92.301852     0.156329  \n",
       "\n",
       "[5 rows x 21 columns]"
      ]
     },
     "execution_count": 6,
     "metadata": {},
     "output_type": "execute_result"
    }
   ],
   "source": [
    "df.head()"
   ]
  },
  {
   "cell_type": "code",
   "execution_count": 7,
   "metadata": {},
   "outputs": [],
   "source": [
    "#save the data\n",
    "\n",
    "#new csv to save\n",
    "newpredcsv = '../data/tables/MasterDF_09102021b_R7.csv'\n",
    "\n",
    "df.to_csv(newpredcsv, index=False)"
   ]
  },
  {
   "cell_type": "code",
   "execution_count": null,
   "metadata": {},
   "outputs": [],
   "source": []
  },
  {
   "cell_type": "code",
   "execution_count": null,
   "metadata": {},
   "outputs": [],
   "source": [
    "#looking at duplicate florence names\n",
    "#Fdf = df.loc[(df['storm_id'] == 'florence') & (df['labeled'] ==6)]\n",
    "#len(Fdf['Filename'].drop_duplicates())"
   ]
  },
  {
   "cell_type": "code",
   "execution_count": null,
   "metadata": {},
   "outputs": [],
   "source": []
  },
  {
   "cell_type": "code",
   "execution_count": null,
   "metadata": {},
   "outputs": [],
   "source": []
  }
 ],
 "metadata": {
  "kernelspec": {
   "display_name": "Python 3",
   "language": "python",
   "name": "python3"
  },
  "language_info": {
   "codemirror_mode": {
    "name": "ipython",
    "version": 3
   },
   "file_extension": ".py",
   "mimetype": "text/x-python",
   "name": "python",
   "nbconvert_exporter": "python",
   "pygments_lexer": "ipython3",
   "version": "3.8.10"
  }
 },
 "nbformat": 4,
 "nbformat_minor": 4
}
