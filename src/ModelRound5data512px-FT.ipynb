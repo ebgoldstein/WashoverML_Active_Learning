{
 "cells": [
  {
   "cell_type": "code",
   "execution_count": 1,
   "metadata": {},
   "outputs": [
    {
     "name": "stdout",
     "output_type": "stream",
     "text": [
      "TF version: 2.3.2\n"
     ]
    }
   ],
   "source": [
    "# import the general stuff\n",
    "import os\n",
    "from os import getcwd\n",
    "import matplotlib.pyplot as plt\n",
    "import pandas as pd \n",
    "import numpy as np\n",
    "from sklearn import metrics\n",
    "import math\n",
    "\n",
    "#import stuff for gradCAM\n",
    "import matplotlib.cm as cm\n",
    "from IPython.display import Image\n",
    "\n",
    "#Set GPU to use\n",
    "os.environ[\"CUDA_DEVICE_ORDER\"] = \"PCI_BUS_ID\"\n",
    "os.environ[\"CUDA_VISIBLE_DEVICES\"] = \"0\"\n",
    "\n",
    "#import the tf stuff\n",
    "import tensorflow as tf\n",
    "from tensorflow.keras import layers\n",
    "from tensorflow.keras import Model\n",
    "\n",
    "from tensorflow.keras.preprocessing.image import ImageDataGenerator\n",
    "\n",
    "#Check TensorFlow Version\n",
    "print('TF version: {}' .format(tf.__version__))"
   ]
  },
  {
   "cell_type": "code",
   "execution_count": 2,
   "metadata": {},
   "outputs": [
    {
     "name": "stdout",
     "output_type": "stream",
     "text": [
      " GPU: /device:GPU:0\n"
     ]
    }
   ],
   "source": [
    "#Check for GPU utilization\n",
    "if tf.test.gpu_device_name():\n",
    "    print(' GPU: {}'.format(tf.test.gpu_device_name()))\n",
    "else:\n",
    "    print(\"No GPU\")"
   ]
  },
  {
   "cell_type": "code",
   "execution_count": 3,
   "metadata": {},
   "outputs": [],
   "source": [
    "# define a callback\n",
    "\n",
    "callbacks = tf.keras.callbacks.EarlyStopping(monitor = 'val_loss', \n",
    "                                             patience = 10, \n",
    "                                             restore_best_weights = True)"
   ]
  },
  {
   "cell_type": "code",
   "execution_count": 4,
   "metadata": {},
   "outputs": [
    {
     "name": "stdout",
     "output_type": "stream",
     "text": [
      "Found 2001 images belonging to 2 classes.\n",
      "Found 499 images belonging to 2 classes.\n"
     ]
    }
   ],
   "source": [
    "#build data generators for training and validaton\n",
    "\n",
    "split = 0.2\n",
    "\n",
    "total_train = 2001\n",
    "total_val = 499\n",
    "\n",
    "\n",
    "# Define dirs and files\n",
    "train_data_dir = '../data/pics/labelertoModel/AllRoundsFive'\n",
    "\n",
    "# Add our data-augmentation parameters to ImageDataGenerator and split data\n",
    "train_datagen = ImageDataGenerator(rescale =1./255.,\n",
    "                                   rotation_range = 90,\n",
    "                                   width_shift_range = 0.5,\n",
    "                                   height_shift_range = 0.5,\n",
    "                                   shear_range = 0.45,\n",
    "                                   zoom_range = 0.2,\n",
    "                                   horizontal_flip = True,\n",
    "                                   vertical_flip = True,\n",
    "                                   validation_split = split)\n",
    "\n",
    "\n",
    "#set batch Size\n",
    "batch_size = 16\n",
    "\n",
    "#set Image size (RGB so imshape is 3)\n",
    "pix_dim = 512\n",
    "imsize = (pix_dim,pix_dim) \n",
    "imshape = (pix_dim,pix_dim,3)\n",
    "\n",
    "# Flow training images in batches \n",
    "train_generator = train_datagen.flow_from_directory(train_data_dir,\n",
    "                                                    batch_size = batch_size,\n",
    "                                                    class_mode = 'binary',\n",
    "                                                    target_size = imsize,\n",
    "                                                    subset='training')\n",
    "\n",
    "# Flow validation images in batches \n",
    "validation_generator =  train_datagen.flow_from_directory(train_data_dir, # same directory as training data,\n",
    "                                                        batch_size = batch_size,\n",
    "                                                        class_mode = 'binary',\n",
    "                                                        target_size = imsize,\n",
    "                                                        subset='validation')"
   ]
  },
  {
   "cell_type": "code",
   "execution_count": 5,
   "metadata": {},
   "outputs": [],
   "source": [
    "# define the metrics\n",
    "acc_metric = tf.keras.metrics.BinaryAccuracy(name='acc')"
   ]
  },
  {
   "cell_type": "code",
   "execution_count": 12,
   "metadata": {},
   "outputs": [
    {
     "name": "stdout",
     "output_type": "stream",
     "text": [
      "shape of last layer is  (None, 16, 16, 512)\n",
      "Model: \"functional_5\"\n",
      "_________________________________________________________________\n",
      "Layer (type)                 Output Shape              Param #   \n",
      "=================================================================\n",
      "input_3 (InputLayer)         [(None, 512, 512, 3)]     0         \n",
      "_________________________________________________________________\n",
      "block1_conv1 (Conv2D)        (None, 512, 512, 64)      1792      \n",
      "_________________________________________________________________\n",
      "block1_conv2 (Conv2D)        (None, 512, 512, 64)      36928     \n",
      "_________________________________________________________________\n",
      "block1_pool (MaxPooling2D)   (None, 256, 256, 64)      0         \n",
      "_________________________________________________________________\n",
      "block2_conv1 (Conv2D)        (None, 256, 256, 128)     73856     \n",
      "_________________________________________________________________\n",
      "block2_conv2 (Conv2D)        (None, 256, 256, 128)     147584    \n",
      "_________________________________________________________________\n",
      "block2_pool (MaxPooling2D)   (None, 128, 128, 128)     0         \n",
      "_________________________________________________________________\n",
      "block3_conv1 (Conv2D)        (None, 128, 128, 256)     295168    \n",
      "_________________________________________________________________\n",
      "block3_conv2 (Conv2D)        (None, 128, 128, 256)     590080    \n",
      "_________________________________________________________________\n",
      "block3_conv3 (Conv2D)        (None, 128, 128, 256)     590080    \n",
      "_________________________________________________________________\n",
      "block3_pool (MaxPooling2D)   (None, 64, 64, 256)       0         \n",
      "_________________________________________________________________\n",
      "block4_conv1 (Conv2D)        (None, 64, 64, 512)       1180160   \n",
      "_________________________________________________________________\n",
      "block4_conv2 (Conv2D)        (None, 64, 64, 512)       2359808   \n",
      "_________________________________________________________________\n",
      "block4_conv3 (Conv2D)        (None, 64, 64, 512)       2359808   \n",
      "_________________________________________________________________\n",
      "block4_pool (MaxPooling2D)   (None, 32, 32, 512)       0         \n",
      "_________________________________________________________________\n",
      "block5_conv1 (Conv2D)        (None, 32, 32, 512)       2359808   \n",
      "_________________________________________________________________\n",
      "block5_conv2 (Conv2D)        (None, 32, 32, 512)       2359808   \n",
      "_________________________________________________________________\n",
      "block5_conv3 (Conv2D)        (None, 32, 32, 512)       2359808   \n",
      "_________________________________________________________________\n",
      "block5_pool (MaxPooling2D)   (None, 16, 16, 512)       0         \n",
      "_________________________________________________________________\n",
      "flatten_2 (Flatten)          (None, 131072)            0         \n",
      "_________________________________________________________________\n",
      "dense_5 (Dense)              (None, 1024)              134218752 \n",
      "_________________________________________________________________\n",
      "dense_6 (Dense)              (None, 1024)              1049600   \n",
      "_________________________________________________________________\n",
      "dropout_2 (Dropout)          (None, 1024)              0         \n",
      "_________________________________________________________________\n",
      "dense_7 (Dense)              (None, 1)                 1025      \n",
      "=================================================================\n",
      "Total params: 149,984,065\n",
      "Trainable params: 135,269,377\n",
      "Non-trainable params: 14,714,688\n",
      "_________________________________________________________________\n"
     ]
    }
   ],
   "source": [
    "#load or build model\n",
    "##########\n",
    "\n",
    "#from scratch:\n",
    "#base model, no top layer, w/ imagenet weights\n",
    "base_model = tf.keras.applications.VGG16(input_shape = imshape, \n",
    "                                             include_top = False, \n",
    "                                             weights = 'imagenet')\n",
    "\n",
    "base_model.trainable = False\n",
    "# add a new classifcation layer\n",
    "\n",
    "final_layer = base_model.get_layer('block5_pool')\n",
    "print('shape of last layer is ', final_layer.output_shape)\n",
    "final_base_output = final_layer.output\n",
    "\n",
    "\n",
    "#add the last layer\n",
    "# Flatten the output layer to 1 dimension\n",
    "x = layers.Flatten()(final_base_output )\n",
    "# Add a fully connected layer with 1,024 hidden units and ReLU activation\n",
    "x = layers.Dense(1024, activation='relu', kernel_regularizer = tf.keras.regularizers.l2(1e-4))(x)\n",
    "# Add a fully connected layer with 1,024 hidden units and ReLU activation\n",
    "x = layers.Dense(1024, activation='relu', kernel_regularizer = tf.keras.regularizers.l2(1e-4))(x)\n",
    "# Add a dropout rate of 0.5\n",
    "x = layers.Dropout(0.5)(x)                  \n",
    "# Add a final sigmoid layer for classification\n",
    "x = layers.Dense(1, activation='sigmoid')(x)           \n",
    "\n",
    "model = Model(base_model.input, x) \n",
    "#############\n",
    "model.summary()"
   ]
  },
  {
   "cell_type": "code",
   "execution_count": 13,
   "metadata": {},
   "outputs": [],
   "source": [
    "#build the model\n",
    "model.compile(loss = 'binary_crossentropy',\n",
    "              optimizer = tf.keras.optimizers.RMSprop(lr = 1e-5),\n",
    "              metrics = acc_metric)"
   ]
  },
  {
   "cell_type": "code",
   "execution_count": 14,
   "metadata": {
    "scrolled": true
   },
   "outputs": [
    {
     "name": "stdout",
     "output_type": "stream",
     "text": [
      "Epoch 1/100\n",
      "125/125 [==============================] - 433s 3s/step - loss: 1.0092 - acc: 0.5406 - val_loss: 1.1340 - val_acc: 0.4597\n",
      "Epoch 2/100\n",
      "125/125 [==============================] - 431s 3s/step - loss: 0.9452 - acc: 0.5426 - val_loss: 0.9085 - val_acc: 0.5565\n",
      "Epoch 3/100\n",
      "125/125 [==============================] - 426s 3s/step - loss: 0.8825 - acc: 0.5668 - val_loss: 0.8363 - val_acc: 0.5847\n",
      "Epoch 4/100\n",
      "125/125 [==============================] - 420s 3s/step - loss: 0.8291 - acc: 0.6045 - val_loss: 0.7875 - val_acc: 0.6290\n",
      "Epoch 5/100\n",
      "125/125 [==============================] - 429s 3s/step - loss: 0.7881 - acc: 0.6121 - val_loss: 0.7728 - val_acc: 0.6331\n",
      "Epoch 6/100\n",
      "125/125 [==============================] - 429s 3s/step - loss: 0.7651 - acc: 0.6262 - val_loss: 0.7633 - val_acc: 0.6391\n",
      "Epoch 7/100\n",
      "125/125 [==============================] - 423s 3s/step - loss: 0.7610 - acc: 0.6237 - val_loss: 0.7439 - val_acc: 0.6290\n",
      "Epoch 8/100\n",
      "125/125 [==============================] - 425s 3s/step - loss: 0.7327 - acc: 0.6539 - val_loss: 0.7324 - val_acc: 0.6210\n",
      "Epoch 9/100\n",
      "125/125 [==============================] - 432s 3s/step - loss: 0.7235 - acc: 0.6569 - val_loss: 0.7240 - val_acc: 0.6371\n",
      "Epoch 10/100\n",
      "125/125 [==============================] - 430s 3s/step - loss: 0.7047 - acc: 0.6720 - val_loss: 0.7010 - val_acc: 0.6532\n",
      "Epoch 11/100\n",
      "125/125 [==============================] - 426s 3s/step - loss: 0.6948 - acc: 0.6680 - val_loss: 0.7339 - val_acc: 0.6190\n",
      "Epoch 12/100\n",
      "125/125 [==============================] - 426s 3s/step - loss: 0.6902 - acc: 0.6665 - val_loss: 0.8315 - val_acc: 0.5685\n",
      "Epoch 13/100\n",
      "125/125 [==============================] - 426s 3s/step - loss: 0.6667 - acc: 0.6937 - val_loss: 0.7257 - val_acc: 0.6431\n",
      "Epoch 14/100\n",
      "125/125 [==============================] - 425s 3s/step - loss: 0.6646 - acc: 0.6882 - val_loss: 0.7184 - val_acc: 0.6452\n",
      "Epoch 15/100\n",
      "125/125 [==============================] - 421s 3s/step - loss: 0.6585 - acc: 0.6821 - val_loss: 0.6665 - val_acc: 0.6774\n",
      "Epoch 16/100\n",
      "125/125 [==============================] - 426s 3s/step - loss: 0.6539 - acc: 0.6851 - val_loss: 0.6825 - val_acc: 0.6754\n",
      "Epoch 17/100\n",
      "125/125 [==============================] - 427s 3s/step - loss: 0.6383 - acc: 0.6995 - val_loss: 0.6776 - val_acc: 0.6512\n",
      "Epoch 18/100\n",
      "125/125 [==============================] - 427s 3s/step - loss: 0.6407 - acc: 0.6907 - val_loss: 0.6697 - val_acc: 0.6774\n",
      "Epoch 19/100\n",
      "125/125 [==============================] - 432s 3s/step - loss: 0.6424 - acc: 0.6892 - val_loss: 0.7589 - val_acc: 0.6109\n",
      "Epoch 20/100\n",
      "125/125 [==============================] - 434s 3s/step - loss: 0.6316 - acc: 0.6997 - val_loss: 0.6829 - val_acc: 0.6391\n",
      "Epoch 21/100\n",
      "125/125 [==============================] - 427s 3s/step - loss: 0.6345 - acc: 0.7018 - val_loss: 0.7222 - val_acc: 0.6371\n",
      "Epoch 22/100\n",
      "125/125 [==============================] - 427s 3s/step - loss: 0.6283 - acc: 0.6942 - val_loss: 0.6937 - val_acc: 0.6210\n",
      "Epoch 23/100\n",
      "125/125 [==============================] - 429s 3s/step - loss: 0.6129 - acc: 0.7038 - val_loss: 0.6498 - val_acc: 0.6734\n",
      "Epoch 24/100\n",
      "125/125 [==============================] - 429s 3s/step - loss: 0.6194 - acc: 0.7008 - val_loss: 0.6448 - val_acc: 0.6714\n",
      "Epoch 25/100\n",
      "125/125 [==============================] - 429s 3s/step - loss: 0.6116 - acc: 0.7103 - val_loss: 0.6412 - val_acc: 0.6875\n",
      "Epoch 26/100\n",
      "125/125 [==============================] - 428s 3s/step - loss: 0.5955 - acc: 0.7139 - val_loss: 0.6672 - val_acc: 0.6532\n",
      "Epoch 27/100\n",
      "125/125 [==============================] - 424s 3s/step - loss: 0.6159 - acc: 0.6927 - val_loss: 0.7154 - val_acc: 0.6109\n",
      "Epoch 28/100\n",
      "125/125 [==============================] - 425s 3s/step - loss: 0.5943 - acc: 0.7078 - val_loss: 0.6279 - val_acc: 0.6815\n",
      "Epoch 29/100\n",
      "125/125 [==============================] - 425s 3s/step - loss: 0.5788 - acc: 0.7169 - val_loss: 0.7259 - val_acc: 0.6512\n",
      "Epoch 30/100\n",
      "125/125 [==============================] - 429s 3s/step - loss: 0.6110 - acc: 0.6992 - val_loss: 0.7153 - val_acc: 0.6190\n",
      "Epoch 31/100\n",
      "125/125 [==============================] - 425s 3s/step - loss: 0.5963 - acc: 0.7159 - val_loss: 0.6356 - val_acc: 0.6895\n",
      "Epoch 32/100\n",
      "125/125 [==============================] - 427s 3s/step - loss: 0.5855 - acc: 0.7149 - val_loss: 0.6202 - val_acc: 0.6976\n",
      "Epoch 33/100\n",
      "125/125 [==============================] - 424s 3s/step - loss: 0.5833 - acc: 0.7219 - val_loss: 0.6279 - val_acc: 0.6794\n",
      "Epoch 34/100\n",
      "125/125 [==============================] - 425s 3s/step - loss: 0.5780 - acc: 0.7214 - val_loss: 0.6334 - val_acc: 0.6976\n",
      "Epoch 35/100\n",
      "125/125 [==============================] - 427s 3s/step - loss: 0.5626 - acc: 0.7330 - val_loss: 0.6513 - val_acc: 0.6512\n",
      "Epoch 36/100\n",
      "125/125 [==============================] - 430s 3s/step - loss: 0.5914 - acc: 0.7063 - val_loss: 0.6346 - val_acc: 0.6754\n",
      "Epoch 37/100\n",
      "125/125 [==============================] - 424s 3s/step - loss: 0.5759 - acc: 0.7254 - val_loss: 0.6728 - val_acc: 0.6492\n",
      "Epoch 38/100\n",
      "125/125 [==============================] - 433s 3s/step - loss: 0.5604 - acc: 0.7380 - val_loss: 0.7390 - val_acc: 0.6371\n",
      "Epoch 39/100\n",
      "125/125 [==============================] - 428s 3s/step - loss: 0.5786 - acc: 0.7184 - val_loss: 0.6554 - val_acc: 0.6613\n",
      "Epoch 40/100\n",
      "125/125 [==============================] - 433s 3s/step - loss: 0.5761 - acc: 0.7254 - val_loss: 0.6440 - val_acc: 0.6694\n",
      "Epoch 41/100\n",
      "125/125 [==============================] - 433s 3s/step - loss: 0.5760 - acc: 0.7254 - val_loss: 0.6317 - val_acc: 0.6835\n",
      "Epoch 42/100\n",
      "125/125 [==============================] - 430s 3s/step - loss: 0.5727 - acc: 0.7179 - val_loss: 0.6602 - val_acc: 0.6532\n"
     ]
    }
   ],
   "source": [
    "#train the model\n",
    "history = model.fit(train_generator,\n",
    "                    steps_per_epoch = total_train // batch_size,\n",
    "                    validation_data = validation_generator,\n",
    "                    epochs= 100,\n",
    "                    validation_steps =  total_val // batch_size,\n",
    "                    callbacks =[callbacks])"
   ]
  },
  {
   "cell_type": "code",
   "execution_count": 15,
   "metadata": {},
   "outputs": [
    {
     "data": {
      "image/png": "[encoded data removed]",
      "text/plain": [
       "<Figure size 432x288 with 1 Axes>"
      ]
     },
     "metadata": {
      "needs_background": "light"
     },
     "output_type": "display_data"
    },
    {
     "data": {
      "text/plain": [
       "<Figure size 432x288 with 0 Axes>"
      ]
     },
     "metadata": {},
     "output_type": "display_data"
    },
    {
     "data": {
      "image/png": "[encoded data removed]",
      "text/plain": [
       "<Figure size 432x288 with 1 Axes>"
      ]
     },
     "metadata": {
      "needs_background": "light"
     },
     "output_type": "display_data"
    },
    {
     "data": {
      "text/plain": [
       "<Figure size 432x288 with 0 Axes>"
      ]
     },
     "metadata": {},
     "output_type": "display_data"
    }
   ],
   "source": [
    "#look at the metrics from training\n",
    "%matplotlib inline\n",
    "\n",
    "acc = history.history['acc']\n",
    "val_acc = history.history['val_acc']\n",
    "loss = history.history['loss']\n",
    "val_loss = history.history['val_loss']\n",
    "\n",
    "epochs = range(len(acc))\n",
    "\n",
    "plt.plot(epochs, acc, 'r', label='Training accuracy')\n",
    "plt.plot(epochs, val_acc, 'b', label='Validation accuracy')\n",
    "\n",
    "plt.title('Training and validation accuracy')\n",
    "plt.legend(loc=0)\n",
    "plt.figure()\n",
    "plt.show()\n",
    "\n",
    "plt.plot(epochs, loss, 'r--', label='Training loss')\n",
    "plt.plot(epochs, val_loss, 'b--', label='Validation loss')\n",
    "plt.title('Training and validation loss') \n",
    "plt.legend(loc=0)\n",
    "plt.figure()\n",
    "plt.show()"
   ]
  },
  {
   "cell_type": "code",
   "execution_count": 17,
   "metadata": {},
   "outputs": [
    {
     "name": "stdout",
     "output_type": "stream",
     "text": [
      "Epoch 1/40\n",
      "125/125 [==============================] - 434s 3s/step - loss: 0.4579 - acc: 0.7920 - val_loss: 0.5972 - val_acc: 0.7581\n",
      "Epoch 2/40\n",
      "125/125 [==============================] - 425s 3s/step - loss: 0.4547 - acc: 0.8030 - val_loss: 0.5516 - val_acc: 0.7661\n",
      "Epoch 3/40\n",
      "125/125 [==============================] - 429s 3s/step - loss: 0.4489 - acc: 0.8171 - val_loss: 0.6069 - val_acc: 0.7198\n",
      "Epoch 4/40\n",
      "125/125 [==============================] - 426s 3s/step - loss: 0.4393 - acc: 0.8212 - val_loss: 0.5808 - val_acc: 0.7520\n",
      "Epoch 5/40\n",
      "125/125 [==============================] - 430s 3s/step - loss: 0.4341 - acc: 0.8166 - val_loss: 0.6657 - val_acc: 0.7419\n",
      "Epoch 6/40\n",
      "125/125 [==============================] - 426s 3s/step - loss: 0.4347 - acc: 0.8106 - val_loss: 0.6507 - val_acc: 0.7319\n",
      "Epoch 7/40\n",
      "125/125 [==============================] - 426s 3s/step - loss: 0.4235 - acc: 0.8307 - val_loss: 0.6043 - val_acc: 0.7520\n",
      "Epoch 8/40\n",
      "125/125 [==============================] - 426s 3s/step - loss: 0.4176 - acc: 0.8217 - val_loss: 0.6455 - val_acc: 0.7339\n",
      "Epoch 9/40\n",
      "125/125 [==============================] - 424s 3s/step - loss: 0.4318 - acc: 0.8222 - val_loss: 0.5721 - val_acc: 0.7702\n",
      "Epoch 10/40\n",
      "125/125 [==============================] - 425s 3s/step - loss: 0.4146 - acc: 0.8292 - val_loss: 0.6784 - val_acc: 0.7500\n",
      "Epoch 11/40\n",
      "125/125 [==============================] - 425s 3s/step - loss: 0.4162 - acc: 0.8267 - val_loss: 0.7399 - val_acc: 0.6915\n",
      "Epoch 12/40\n",
      "125/125 [==============================] - 426s 3s/step - loss: 0.4025 - acc: 0.8408 - val_loss: 0.5799 - val_acc: 0.7802\n"
     ]
    },
    {
     "data": {
      "image/png": "[encoded data removed]",
      "text/plain": [
       "<Figure size 432x288 with 1 Axes>"
      ]
     },
     "metadata": {
      "needs_background": "light"
     },
     "output_type": "display_data"
    },
    {
     "data": {
      "text/plain": [
       "<Figure size 432x288 with 0 Axes>"
      ]
     },
     "metadata": {},
     "output_type": "display_data"
    },
    {
     "data": {
      "image/png": "[encoded data removed]",
      "text/plain": [
       "<Figure size 432x288 with 1 Axes>"
      ]
     },
     "metadata": {
      "needs_background": "light"
     },
     "output_type": "display_data"
    },
    {
     "data": {
      "text/plain": [
       "<Figure size 432x288 with 0 Axes>"
      ]
     },
     "metadata": {},
     "output_type": "display_data"
    }
   ],
   "source": [
    "#Full model finetune\n",
    "base_model.trainable = True\n",
    "\n",
    "#build the model\n",
    "model.compile(loss = 'binary_crossentropy',\n",
    "              optimizer = tf.keras.optimizers.RMSprop(lr = 1e-5),\n",
    "              metrics = acc_metric)\n",
    "\n",
    "#train the model\n",
    "history = model.fit(train_generator,\n",
    "                    steps_per_epoch = total_train // batch_size,\n",
    "                    validation_data = validation_generator,\n",
    "                    epochs= 40,\n",
    "                    validation_steps =  total_val // batch_size,\n",
    "                    callbacks =[callbacks])\n",
    "\n",
    "#look at the metrics from training\n",
    "%matplotlib inline\n",
    "\n",
    "acc = history.history['acc']\n",
    "val_acc = history.history['val_acc']\n",
    "loss = history.history['loss']\n",
    "val_loss = history.history['val_loss']\n",
    "\n",
    "epochs = range(len(acc))\n",
    "\n",
    "plt.plot(epochs, acc, 'r', label='Training accuracy')\n",
    "plt.plot(epochs, val_acc, 'b', label='Validation accuracy')\n",
    "\n",
    "plt.title('Training and validation accuracy')\n",
    "plt.legend(loc=0)\n",
    "plt.figure()\n",
    "plt.show()\n",
    "\n",
    "plt.plot(epochs, loss, 'r--', label='Training loss')\n",
    "plt.plot(epochs, val_loss, 'b--', label='Validation loss')\n",
    "plt.title('Training and validation loss') \n",
    "plt.legend(loc=0)\n",
    "plt.figure()\n",
    "plt.show()\n"
   ]
  },
  {
   "cell_type": "code",
   "execution_count": 18,
   "metadata": {},
   "outputs": [
    {
     "name": "stdout",
     "output_type": "stream",
     "text": [
      "WARNING:tensorflow:From /usr/lib/python3/dist-packages/tensorflow/python/training/tracking/tracking.py:111: Model.state_updates (from tensorflow.python.keras.engine.training) is deprecated and will be removed in a future version.\n",
      "Instructions for updating:\n",
      "This property should not be used in TensorFlow 2.0, as updates are applied automatically.\n",
      "WARNING:tensorflow:From /usr/lib/python3/dist-packages/tensorflow/python/training/tracking/tracking.py:111: Layer.updates (from tensorflow.python.keras.engine.base_layer) is deprecated and will be removed in a future version.\n",
      "Instructions for updating:\n",
      "This property should not be used in TensorFlow 2.0, as updates are applied automatically.\n",
      "INFO:tensorflow:Assets written to: ./models/VGG16_model_5_8020split_512px_2stepFT/assets\n"
     ]
    }
   ],
   "source": [
    "#save the model\n",
    "filepath = './models/VGG16_model_5_8020split_512px_2stepFT'\n",
    "model.save(filepath)\n",
    "\n",
    "#load model\n",
    "#model = tf.keras.models.load_model(filepath, compile = True)"
   ]
  },
  {
   "cell_type": "code",
   "execution_count": null,
   "metadata": {},
   "outputs": [],
   "source": []
  }
 ],
 "metadata": {
  "kernelspec": {
   "display_name": "Python 3",
   "language": "python",
   "name": "python3"
  },
  "language_info": {
   "codemirror_mode": {
    "name": "ipython",
    "version": 3
   },
   "file_extension": ".py",
   "mimetype": "text/x-python",
   "name": "python",
   "nbconvert_exporter": "python",
   "pygments_lexer": "ipython3",
   "version": "3.8.10"
  }
 },
 "nbformat": 4,
 "nbformat_minor": 2
}
