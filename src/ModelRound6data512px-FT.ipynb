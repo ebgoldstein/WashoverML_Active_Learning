{
 "cells": [
  {
   "cell_type": "code",
   "execution_count": 1,
   "metadata": {},
   "outputs": [
    {
     "name": "stdout",
     "output_type": "stream",
     "text": [
      "TF version: 2.3.2\n"
     ]
    }
   ],
   "source": [
    "# import the general stuff\n",
    "import os\n",
    "from os import getcwd\n",
    "import matplotlib.pyplot as plt\n",
    "import pandas as pd \n",
    "import numpy as np\n",
    "from sklearn import metrics\n",
    "import math\n",
    "\n",
    "#import stuff for gradCAM\n",
    "import matplotlib.cm as cm\n",
    "from IPython.display import Image\n",
    "\n",
    "#Set GPU to use\n",
    "os.environ[\"CUDA_DEVICE_ORDER\"] = \"PCI_BUS_ID\"\n",
    "os.environ[\"CUDA_VISIBLE_DEVICES\"] = \"1\"\n",
    "\n",
    "#import the tf stuff\n",
    "import tensorflow as tf\n",
    "from tensorflow.keras import layers\n",
    "from tensorflow.keras import Model\n",
    "\n",
    "from tensorflow.keras.preprocessing.image import ImageDataGenerator\n",
    "\n",
    "#Check TensorFlow Version\n",
    "print('TF version: {}' .format(tf.__version__))"
   ]
  },
  {
   "cell_type": "code",
   "execution_count": 2,
   "metadata": {},
   "outputs": [
    {
     "name": "stdout",
     "output_type": "stream",
     "text": [
      " GPU: /device:GPU:0\n"
     ]
    }
   ],
   "source": [
    "#Check for GPU utilization\n",
    "if tf.test.gpu_device_name():\n",
    "    print(' GPU: {}'.format(tf.test.gpu_device_name()))\n",
    "else:\n",
    "    print(\"No GPU\")"
   ]
  },
  {
   "cell_type": "code",
   "execution_count": 3,
   "metadata": {},
   "outputs": [],
   "source": [
    "# define a callback\n",
    "\n",
    "callbacks = tf.keras.callbacks.EarlyStopping(monitor = 'val_loss', \n",
    "                                             patience = 10, \n",
    "                                             restore_best_weights = True)"
   ]
  },
  {
   "cell_type": "code",
   "execution_count": 4,
   "metadata": {},
   "outputs": [
    {
     "name": "stdout",
     "output_type": "stream",
     "text": [
      "Found 2501 images belonging to 2 classes.\n",
      "Found 625 images belonging to 2 classes.\n"
     ]
    }
   ],
   "source": [
    "#build data generators for training and validaton\n",
    "\n",
    "split = 0.2\n",
    "\n",
    "total_train = 2501\n",
    "total_val = 625\n",
    "\n",
    "\n",
    "# Define dirs and files\n",
    "train_data_dir = '../data/pics/labelertoModel/AllRoundsSix'\n",
    "\n",
    "# Add our data-augmentation parameters to ImageDataGenerator and split data\n",
    "train_datagen = ImageDataGenerator(rescale =1./255.,\n",
    "                                   rotation_range = 90,\n",
    "                                   width_shift_range = 0.5,\n",
    "                                   height_shift_range = 0.5,\n",
    "                                   shear_range = 0.45,\n",
    "                                   zoom_range = 0.2,\n",
    "                                   horizontal_flip = True,\n",
    "                                   vertical_flip = True,\n",
    "                                   validation_split = split)\n",
    "\n",
    "\n",
    "#set batch Size\n",
    "batch_size = 16\n",
    "\n",
    "#set Image size (RGB so imshape is 3)\n",
    "pix_dim = 512\n",
    "imsize = (pix_dim,pix_dim) \n",
    "imshape = (pix_dim,pix_dim,3)\n",
    "\n",
    "# Flow training images in batches \n",
    "train_generator = train_datagen.flow_from_directory(train_data_dir,\n",
    "                                                    batch_size = batch_size,\n",
    "                                                    class_mode = 'binary',\n",
    "                                                    target_size = imsize,\n",
    "                                                    subset='training')\n",
    "\n",
    "# Flow validation images in batches \n",
    "validation_generator =  train_datagen.flow_from_directory(train_data_dir, # same directory as training data,\n",
    "                                                        batch_size = batch_size,\n",
    "                                                        class_mode = 'binary',\n",
    "                                                        target_size = imsize,\n",
    "                                                        subset='validation')"
   ]
  },
  {
   "cell_type": "code",
   "execution_count": 5,
   "metadata": {},
   "outputs": [],
   "source": [
    "# define the metrics\n",
    "acc_metric = tf.keras.metrics.BinaryAccuracy(name='acc')"
   ]
  },
  {
   "cell_type": "code",
   "execution_count": 6,
   "metadata": {},
   "outputs": [
    {
     "name": "stdout",
     "output_type": "stream",
     "text": [
      "shape of last layer is  (None, 16, 16, 512)\n",
      "Model: \"functional_1\"\n",
      "_________________________________________________________________\n",
      "Layer (type)                 Output Shape              Param #   \n",
      "=================================================================\n",
      "input_1 (InputLayer)         [(None, 512, 512, 3)]     0         \n",
      "_________________________________________________________________\n",
      "block1_conv1 (Conv2D)        (None, 512, 512, 64)      1792      \n",
      "_________________________________________________________________\n",
      "block1_conv2 (Conv2D)        (None, 512, 512, 64)      36928     \n",
      "_________________________________________________________________\n",
      "block1_pool (MaxPooling2D)   (None, 256, 256, 64)      0         \n",
      "_________________________________________________________________\n",
      "block2_conv1 (Conv2D)        (None, 256, 256, 128)     73856     \n",
      "_________________________________________________________________\n",
      "block2_conv2 (Conv2D)        (None, 256, 256, 128)     147584    \n",
      "_________________________________________________________________\n",
      "block2_pool (MaxPooling2D)   (None, 128, 128, 128)     0         \n",
      "_________________________________________________________________\n",
      "block3_conv1 (Conv2D)        (None, 128, 128, 256)     295168    \n",
      "_________________________________________________________________\n",
      "block3_conv2 (Conv2D)        (None, 128, 128, 256)     590080    \n",
      "_________________________________________________________________\n",
      "block3_conv3 (Conv2D)        (None, 128, 128, 256)     590080    \n",
      "_________________________________________________________________\n",
      "block3_pool (MaxPooling2D)   (None, 64, 64, 256)       0         \n",
      "_________________________________________________________________\n",
      "block4_conv1 (Conv2D)        (None, 64, 64, 512)       1180160   \n",
      "_________________________________________________________________\n",
      "block4_conv2 (Conv2D)        (None, 64, 64, 512)       2359808   \n",
      "_________________________________________________________________\n",
      "block4_conv3 (Conv2D)        (None, 64, 64, 512)       2359808   \n",
      "_________________________________________________________________\n",
      "block4_pool (MaxPooling2D)   (None, 32, 32, 512)       0         \n",
      "_________________________________________________________________\n",
      "block5_conv1 (Conv2D)        (None, 32, 32, 512)       2359808   \n",
      "_________________________________________________________________\n",
      "block5_conv2 (Conv2D)        (None, 32, 32, 512)       2359808   \n",
      "_________________________________________________________________\n",
      "block5_conv3 (Conv2D)        (None, 32, 32, 512)       2359808   \n",
      "_________________________________________________________________\n",
      "block5_pool (MaxPooling2D)   (None, 16, 16, 512)       0         \n",
      "_________________________________________________________________\n",
      "flatten (Flatten)            (None, 131072)            0         \n",
      "_________________________________________________________________\n",
      "dense (Dense)                (None, 1024)              134218752 \n",
      "_________________________________________________________________\n",
      "dense_1 (Dense)              (None, 1024)              1049600   \n",
      "_________________________________________________________________\n",
      "dropout (Dropout)            (None, 1024)              0         \n",
      "_________________________________________________________________\n",
      "dense_2 (Dense)              (None, 1)                 1025      \n",
      "=================================================================\n",
      "Total params: 149,984,065\n",
      "Trainable params: 135,269,377\n",
      "Non-trainable params: 14,714,688\n",
      "_________________________________________________________________\n"
     ]
    }
   ],
   "source": [
    "#load or build model\n",
    "##########\n",
    "\n",
    "#from scratch:\n",
    "#base model, no top layer, w/ imagenet weights\n",
    "base_model = tf.keras.applications.VGG16(input_shape = imshape, \n",
    "                                             include_top = False, \n",
    "                                             weights = 'imagenet')\n",
    "\n",
    "base_model.trainable = False\n",
    "# add a new classifcation layer\n",
    "\n",
    "final_layer = base_model.get_layer('block5_pool')\n",
    "print('shape of last layer is ', final_layer.output_shape)\n",
    "final_base_output = final_layer.output\n",
    "\n",
    "\n",
    "#add the last layer\n",
    "# Flatten the output layer to 1 dimension\n",
    "x = layers.Flatten()(final_base_output )\n",
    "# Add a fully connected layer with 1,024 hidden units and ReLU activation\n",
    "x = layers.Dense(1024, activation='relu', kernel_regularizer = tf.keras.regularizers.l2(1e-4))(x)\n",
    "# Add a fully connected layer with 1,024 hidden units and ReLU activation\n",
    "x = layers.Dense(1024, activation='relu', kernel_regularizer = tf.keras.regularizers.l2(1e-4))(x)\n",
    "# Add a dropout rate of 0.5\n",
    "x = layers.Dropout(0.5)(x)                  \n",
    "# Add a final sigmoid layer for classification\n",
    "x = layers.Dense(1, activation='sigmoid')(x)           \n",
    "\n",
    "model = Model(base_model.input, x) \n",
    "#############\n",
    "model.summary()"
   ]
  },
  {
   "cell_type": "code",
   "execution_count": 7,
   "metadata": {},
   "outputs": [],
   "source": [
    "#build the model\n",
    "model.compile(loss = 'binary_crossentropy',\n",
    "              optimizer = tf.keras.optimizers.RMSprop(lr = 1e-5),\n",
    "              metrics = acc_metric)"
   ]
  },
  {
   "cell_type": "code",
   "execution_count": 8,
   "metadata": {
    "scrolled": true
   },
   "outputs": [
    {
     "name": "stdout",
     "output_type": "stream",
     "text": [
      "Epoch 1/100\n",
      "156/156 [==============================] - 540s 3s/step - loss: 1.0102 - acc: 0.5280 - val_loss: 0.9412 - val_acc: 0.5353\n",
      "Epoch 2/100\n",
      "156/156 [==============================] - 529s 3s/step - loss: 0.9130 - acc: 0.5702 - val_loss: 0.8660 - val_acc: 0.5913\n",
      "Epoch 3/100\n",
      "156/156 [==============================] - 525s 3s/step - loss: 0.8338 - acc: 0.6085 - val_loss: 0.8528 - val_acc: 0.5272\n",
      "Epoch 4/100\n",
      "156/156 [==============================] - 520s 3s/step - loss: 0.7779 - acc: 0.6447 - val_loss: 0.8421 - val_acc: 0.5577\n",
      "Epoch 5/100\n",
      "156/156 [==============================] - 524s 3s/step - loss: 0.7636 - acc: 0.6370 - val_loss: 0.7903 - val_acc: 0.5929\n",
      "Epoch 6/100\n",
      "156/156 [==============================] - 524s 3s/step - loss: 0.7271 - acc: 0.6551 - val_loss: 0.7787 - val_acc: 0.6090\n",
      "Epoch 7/100\n",
      "156/156 [==============================] - 520s 3s/step - loss: 0.7096 - acc: 0.6656 - val_loss: 0.7744 - val_acc: 0.5929\n",
      "Epoch 8/100\n",
      "156/156 [==============================] - 522s 3s/step - loss: 0.7016 - acc: 0.6728 - val_loss: 0.7702 - val_acc: 0.6010\n",
      "Epoch 9/100\n",
      "156/156 [==============================] - 525s 3s/step - loss: 0.6934 - acc: 0.6821 - val_loss: 0.7658 - val_acc: 0.5881\n",
      "Epoch 10/100\n",
      "156/156 [==============================] - 522s 3s/step - loss: 0.6681 - acc: 0.6998 - val_loss: 0.7253 - val_acc: 0.6394\n",
      "Epoch 11/100\n",
      "156/156 [==============================] - 523s 3s/step - loss: 0.6643 - acc: 0.7002 - val_loss: 0.8879 - val_acc: 0.5497\n",
      "Epoch 12/100\n",
      "156/156 [==============================] - 517s 3s/step - loss: 0.6634 - acc: 0.6865 - val_loss: 0.7652 - val_acc: 0.6010\n",
      "Epoch 13/100\n",
      "156/156 [==============================] - 530s 3s/step - loss: 0.6505 - acc: 0.6926 - val_loss: 0.7262 - val_acc: 0.6154\n",
      "Epoch 14/100\n",
      "156/156 [==============================] - 531s 3s/step - loss: 0.6431 - acc: 0.6986 - val_loss: 0.8117 - val_acc: 0.5657\n",
      "Epoch 15/100\n",
      "156/156 [==============================] - 533s 3s/step - loss: 0.6422 - acc: 0.6950 - val_loss: 0.7480 - val_acc: 0.5865\n",
      "Epoch 16/100\n",
      "156/156 [==============================] - 535s 3s/step - loss: 0.6211 - acc: 0.7139 - val_loss: 0.7176 - val_acc: 0.6426\n",
      "Epoch 17/100\n",
      "156/156 [==============================] - 539s 3s/step - loss: 0.6300 - acc: 0.6978 - val_loss: 0.7058 - val_acc: 0.6314\n",
      "Epoch 18/100\n",
      "156/156 [==============================] - 540s 3s/step - loss: 0.6244 - acc: 0.7050 - val_loss: 0.7074 - val_acc: 0.6170\n",
      "Epoch 19/100\n",
      "156/156 [==============================] - 538s 3s/step - loss: 0.6125 - acc: 0.7111 - val_loss: 0.7162 - val_acc: 0.5962\n",
      "Epoch 20/100\n",
      "156/156 [==============================] - 536s 3s/step - loss: 0.6080 - acc: 0.7082 - val_loss: 0.6929 - val_acc: 0.6314\n",
      "Epoch 21/100\n",
      "156/156 [==============================] - 539s 3s/step - loss: 0.5933 - acc: 0.7239 - val_loss: 0.7778 - val_acc: 0.5978\n",
      "Epoch 22/100\n",
      "156/156 [==============================] - 535s 3s/step - loss: 0.5880 - acc: 0.7223 - val_loss: 0.7002 - val_acc: 0.6378\n",
      "Epoch 23/100\n",
      "156/156 [==============================] - 542s 3s/step - loss: 0.5925 - acc: 0.7195 - val_loss: 0.7581 - val_acc: 0.6090\n",
      "Epoch 24/100\n",
      "156/156 [==============================] - 535s 3s/step - loss: 0.5814 - acc: 0.7163 - val_loss: 0.7233 - val_acc: 0.5897\n",
      "Epoch 25/100\n",
      "156/156 [==============================] - 538s 3s/step - loss: 0.5952 - acc: 0.7095 - val_loss: 0.8746 - val_acc: 0.5657\n",
      "Epoch 26/100\n",
      "156/156 [==============================] - 533s 3s/step - loss: 0.5769 - acc: 0.7316 - val_loss: 0.6773 - val_acc: 0.6474\n",
      "Epoch 27/100\n",
      "156/156 [==============================] - 533s 3s/step - loss: 0.5847 - acc: 0.7252 - val_loss: 0.6792 - val_acc: 0.6554\n",
      "Epoch 28/100\n",
      "156/156 [==============================] - 536s 3s/step - loss: 0.5764 - acc: 0.7324 - val_loss: 0.6946 - val_acc: 0.6234\n",
      "Epoch 29/100\n",
      "156/156 [==============================] - 539s 3s/step - loss: 0.5748 - acc: 0.7288 - val_loss: 0.6813 - val_acc: 0.6458\n",
      "Epoch 30/100\n",
      "156/156 [==============================] - 537s 3s/step - loss: 0.5779 - acc: 0.7272 - val_loss: 0.7137 - val_acc: 0.6170\n",
      "Epoch 31/100\n",
      "156/156 [==============================] - 530s 3s/step - loss: 0.5720 - acc: 0.7191 - val_loss: 0.6709 - val_acc: 0.6298\n",
      "Epoch 32/100\n",
      "156/156 [==============================] - 536s 3s/step - loss: 0.5686 - acc: 0.7308 - val_loss: 0.6581 - val_acc: 0.6538\n",
      "Epoch 33/100\n",
      "156/156 [==============================] - 541s 3s/step - loss: 0.5671 - acc: 0.7332 - val_loss: 0.6929 - val_acc: 0.6330\n",
      "Epoch 34/100\n",
      "156/156 [==============================] - 539s 3s/step - loss: 0.5733 - acc: 0.7336 - val_loss: 0.7137 - val_acc: 0.6122\n",
      "Epoch 35/100\n",
      "156/156 [==============================] - 534s 3s/step - loss: 0.5681 - acc: 0.7235 - val_loss: 0.6906 - val_acc: 0.6298\n",
      "Epoch 36/100\n",
      "156/156 [==============================] - 535s 3s/step - loss: 0.5702 - acc: 0.7256 - val_loss: 0.7137 - val_acc: 0.6202\n",
      "Epoch 37/100\n",
      "156/156 [==============================] - 529s 3s/step - loss: 0.5649 - acc: 0.7243 - val_loss: 0.6996 - val_acc: 0.6058\n",
      "Epoch 38/100\n",
      "156/156 [==============================] - 532s 3s/step - loss: 0.5742 - acc: 0.7316 - val_loss: 0.6708 - val_acc: 0.6474\n",
      "Epoch 39/100\n",
      "156/156 [==============================] - 537s 3s/step - loss: 0.5590 - acc: 0.7457 - val_loss: 0.7530 - val_acc: 0.6234\n",
      "Epoch 40/100\n",
      "156/156 [==============================] - 537s 3s/step - loss: 0.5693 - acc: 0.7280 - val_loss: 0.7469 - val_acc: 0.6026\n",
      "Epoch 41/100\n",
      "156/156 [==============================] - 528s 3s/step - loss: 0.5645 - acc: 0.7324 - val_loss: 0.6696 - val_acc: 0.6378\n",
      "Epoch 42/100\n",
      "156/156 [==============================] - 533s 3s/step - loss: 0.5667 - acc: 0.7344 - val_loss: 0.7224 - val_acc: 0.6122\n"
     ]
    }
   ],
   "source": [
    "#train the model\n",
    "history = model.fit(train_generator,\n",
    "                    steps_per_epoch = total_train // batch_size,\n",
    "                    validation_data = validation_generator,\n",
    "                    epochs= 100,\n",
    "                    validation_steps =  total_val // batch_size,\n",
    "                    callbacks =[callbacks])"
   ]
  },
  {
   "cell_type": "code",
   "execution_count": 9,
   "metadata": {},
   "outputs": [
    {
     "data": {
      "image/png": "[encoded data removed]",
      "text/plain": [
       "<Figure size 432x288 with 1 Axes>"
      ]
     },
     "metadata": {
      "needs_background": "light"
     },
     "output_type": "display_data"
    },
    {
     "data": {
      "text/plain": [
       "<Figure size 432x288 with 0 Axes>"
      ]
     },
     "metadata": {},
     "output_type": "display_data"
    },
    {
     "data": {
      "image/png": "[encoded data removed]",
      "text/plain": [
       "<Figure size 432x288 with 1 Axes>"
      ]
     },
     "metadata": {
      "needs_background": "light"
     },
     "output_type": "display_data"
    },
    {
     "data": {
      "text/plain": [
       "<Figure size 432x288 with 0 Axes>"
      ]
     },
     "metadata": {},
     "output_type": "display_data"
    }
   ],
   "source": [
    "#look at the metrics from training\n",
    "%matplotlib inline\n",
    "\n",
    "acc = history.history['acc']\n",
    "val_acc = history.history['val_acc']\n",
    "loss = history.history['loss']\n",
    "val_loss = history.history['val_loss']\n",
    "\n",
    "epochs = range(len(acc))\n",
    "\n",
    "plt.plot(epochs, acc, 'r', label='Training accuracy')\n",
    "plt.plot(epochs, val_acc, 'b', label='Validation accuracy')\n",
    "\n",
    "plt.title('Training and validation accuracy')\n",
    "plt.legend(loc=0)\n",
    "plt.figure()\n",
    "plt.show()\n",
    "\n",
    "plt.plot(epochs, loss, 'r--', label='Training loss')\n",
    "plt.plot(epochs, val_loss, 'b--', label='Validation loss')\n",
    "plt.title('Training and validation loss') \n",
    "plt.legend(loc=0)\n",
    "plt.figure()\n",
    "plt.show()"
   ]
  },
  {
   "cell_type": "code",
   "execution_count": 12,
   "metadata": {},
   "outputs": [
    {
     "name": "stdout",
     "output_type": "stream",
     "text": [
      "Epoch 1/10\n",
      "156/156 [==============================] - 539s 3s/step - loss: 0.4576 - acc: 0.7929 - val_loss: 1.2140 - val_acc: 0.5897\n",
      "Epoch 2/10\n",
      "156/156 [==============================] - 540s 3s/step - loss: 0.4444 - acc: 0.8213 - val_loss: 0.5910 - val_acc: 0.7147\n",
      "Epoch 3/10\n",
      "156/156 [==============================] - 536s 3s/step - loss: 0.4213 - acc: 0.8278 - val_loss: 1.1656 - val_acc: 0.6362\n",
      "Epoch 4/10\n",
      "156/156 [==============================] - 532s 3s/step - loss: 0.4062 - acc: 0.8282 - val_loss: 0.6094 - val_acc: 0.7179\n",
      "Epoch 5/10\n",
      "156/156 [==============================] - 533s 3s/step - loss: 0.4239 - acc: 0.8201 - val_loss: 0.8060 - val_acc: 0.6907\n",
      "Epoch 6/10\n",
      "156/156 [==============================] - 532s 3s/step - loss: 0.4020 - acc: 0.8310 - val_loss: 0.6881 - val_acc: 0.6859\n",
      "Epoch 7/10\n",
      "156/156 [==============================] - 533s 3s/step - loss: 0.4085 - acc: 0.8306 - val_loss: 0.8584 - val_acc: 0.7035\n",
      "Epoch 8/10\n",
      "156/156 [==============================] - 536s 3s/step - loss: 0.3969 - acc: 0.8330 - val_loss: 0.9735 - val_acc: 0.6747\n",
      "Epoch 9/10\n",
      "156/156 [==============================] - 537s 3s/step - loss: 0.4042 - acc: 0.8358 - val_loss: 0.6884 - val_acc: 0.6827\n",
      "Epoch 10/10\n",
      "156/156 [==============================] - 543s 3s/step - loss: 0.3904 - acc: 0.8334 - val_loss: 0.7720 - val_acc: 0.7019\n"
     ]
    },
    {
     "data": {
      "image/png": "[encoded data removed]",
      "text/plain": [
       "<Figure size 432x288 with 1 Axes>"
      ]
     },
     "metadata": {
      "needs_background": "light"
     },
     "output_type": "display_data"
    },
    {
     "data": {
      "text/plain": [
       "<Figure size 432x288 with 0 Axes>"
      ]
     },
     "metadata": {},
     "output_type": "display_data"
    },
    {
     "data": {
      "image/png": "[encoded data removed]",
      "text/plain": [
       "<Figure size 432x288 with 1 Axes>"
      ]
     },
     "metadata": {
      "needs_background": "light"
     },
     "output_type": "display_data"
    },
    {
     "data": {
      "text/plain": [
       "<Figure size 432x288 with 0 Axes>"
      ]
     },
     "metadata": {},
     "output_type": "display_data"
    }
   ],
   "source": [
    "#Full model finetune\n",
    "base_model.trainable = True\n",
    "\n",
    "#build the model\n",
    "model.compile(loss = 'binary_crossentropy',\n",
    "              optimizer = tf.keras.optimizers.RMSprop(lr = 1e-5),\n",
    "              metrics = acc_metric)\n",
    "\n",
    "#train the model\n",
    "history = model.fit(train_generator,\n",
    "                    steps_per_epoch = total_train // batch_size,\n",
    "                    validation_data = validation_generator,\n",
    "                    epochs= 10,\n",
    "                    validation_steps =  total_val // batch_size,\n",
    "                    callbacks =[callbacks])\n",
    "\n",
    "#look at the metrics from training\n",
    "%matplotlib inline\n",
    "acc = history.history['acc']\n",
    "val_acc = history.history['val_acc']\n",
    "loss = history.history['loss']\n",
    "val_loss = history.history['val_loss']\n",
    "\n",
    "epochs = range(len(acc))\n",
    "\n",
    "plt.plot(epochs, acc, 'r', label='Training accuracy')\n",
    "plt.plot(epochs, val_acc, 'b', label='Validation accuracy')\n",
    "\n",
    "plt.title('Training and validation accuracy')\n",
    "plt.legend(loc=0)\n",
    "plt.figure()\n",
    "plt.show()\n",
    "\n",
    "plt.plot(epochs, loss, 'r--', label='Training loss')\n",
    "plt.plot(epochs, val_loss, 'b--', label='Validation loss')\n",
    "plt.title('Training and validation loss') \n",
    "plt.legend(loc=0)\n",
    "plt.figure()\n",
    "plt.show()\n"
   ]
  },
  {
   "cell_type": "code",
   "execution_count": 13,
   "metadata": {},
   "outputs": [
    {
     "name": "stdout",
     "output_type": "stream",
     "text": [
      "INFO:tensorflow:Assets written to: ./models/VGG16_model_6_8020split_512px_2stepFT/assets\n"
     ]
    }
   ],
   "source": [
    "#save the model\n",
    "filepath = './models/VGG16_model_6_8020split_512px_2stepFT'\n",
    "model.save(filepath)\n",
    "\n",
    "#load model\n",
    "#model = tf.keras.models.load_model(filepath, compile = True)"
   ]
  },
  {
   "cell_type": "code",
   "execution_count": null,
   "metadata": {},
   "outputs": [],
   "source": []
  }
 ],
 "metadata": {
  "kernelspec": {
   "display_name": "Python 3",
   "language": "python",
   "name": "python3"
  },
  "language_info": {
   "codemirror_mode": {
    "name": "ipython",
    "version": 3
   },
   "file_extension": ".py",
   "mimetype": "text/x-python",
   "name": "python",
   "nbconvert_exporter": "python",
   "pygments_lexer": "ipython3",
   "version": "3.8.10"
  }
 },
 "nbformat": 4,
 "nbformat_minor": 2
}
