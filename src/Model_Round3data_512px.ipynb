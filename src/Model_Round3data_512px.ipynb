{
 "cells": [
  {
   "cell_type": "code",
   "execution_count": 1,
   "metadata": {},
   "outputs": [
    {
     "name": "stdout",
     "output_type": "stream",
     "text": [
      "TF version: 2.3.2\n"
     ]
    }
   ],
   "source": [
    "# import the general stuff\n",
    "import os\n",
    "from os import getcwd\n",
    "import matplotlib.pyplot as plt\n",
    "import pandas as pd \n",
    "import numpy as np\n",
    "from sklearn import metrics\n",
    "import math\n",
    "\n",
    "#import stuff for gradCAM\n",
    "import matplotlib.cm as cm\n",
    "from IPython.display import Image\n",
    "\n",
    "#Set GPU to use\n",
    "os.environ[\"CUDA_DEVICE_ORDER\"] = \"PCI_BUS_ID\"\n",
    "os.environ[\"CUDA_VISIBLE_DEVICES\"] = \"0\"\n",
    "\n",
    "#import the tf stuff\n",
    "import tensorflow as tf\n",
    "from tensorflow.keras import layers\n",
    "from tensorflow.keras import Model\n",
    "\n",
    "from tensorflow.keras.preprocessing.image import ImageDataGenerator\n",
    "\n",
    "#Check TensorFlow Version\n",
    "print('TF version: {}' .format(tf.__version__))"
   ]
  },
  {
   "cell_type": "code",
   "execution_count": 2,
   "metadata": {},
   "outputs": [
    {
     "name": "stdout",
     "output_type": "stream",
     "text": [
      " GPU: /device:GPU:0\n"
     ]
    }
   ],
   "source": [
    "#Check for GPU utilization\n",
    "if tf.test.gpu_device_name():\n",
    "    print(' GPU: {}'.format(tf.test.gpu_device_name()))\n",
    "else:\n",
    "    print(\"No GPU\")"
   ]
  },
  {
   "cell_type": "code",
   "execution_count": 3,
   "metadata": {},
   "outputs": [],
   "source": [
    "# define a callback\n",
    "\n",
    "callbacks = tf.keras.callbacks.EarlyStopping(monitor = 'val_loss', \n",
    "                                             patience = 30, \n",
    "                                             restore_best_weights = True)"
   ]
  },
  {
   "cell_type": "code",
   "execution_count": 4,
   "metadata": {},
   "outputs": [
    {
     "name": "stdout",
     "output_type": "stream",
     "text": [
      "Found 1028 images belonging to 2 classes.\n",
      "Found 256 images belonging to 2 classes.\n"
     ]
    }
   ],
   "source": [
    "#build data generators for training and validaton\n",
    "\n",
    "split = 0.2\n",
    "\n",
    "total_train = 1028\n",
    "total_val = 256\n",
    "\n",
    "\n",
    "# Define dirs and files\n",
    "train_data_dir = '../data/pics/labelertoModel/AllRoundsThree'\n",
    "\n",
    "# Add our data-augmentation parameters to ImageDataGenerator and split data\n",
    "train_datagen = ImageDataGenerator(rescale =1./255.,\n",
    "                                   rotation_range = 90,\n",
    "                                   width_shift_range = 0.5,\n",
    "                                   height_shift_range = 0.5,\n",
    "                                   shear_range = 0.45,\n",
    "                                   zoom_range = 0.2,\n",
    "                                   horizontal_flip = True,\n",
    "                                   vertical_flip = True,\n",
    "                                   validation_split = split)\n",
    "\n",
    "\n",
    "#set batch Size\n",
    "batch_size = 8\n",
    "\n",
    "#set Image size (RGB so imshape is 3)\n",
    "pix_dim = 512\n",
    "imsize = (pix_dim,pix_dim) \n",
    "imshape = (pix_dim,pix_dim,3)\n",
    "\n",
    "# Flow training images in batches \n",
    "train_generator = train_datagen.flow_from_directory(train_data_dir,\n",
    "                                                    batch_size = batch_size,\n",
    "                                                    class_mode = 'binary',\n",
    "                                                    target_size = imsize,\n",
    "                                                    subset='training')\n",
    "\n",
    "# Flow validation images in batches \n",
    "validation_generator =  train_datagen.flow_from_directory(train_data_dir, # same directory as training data,\n",
    "                                                        batch_size = batch_size,\n",
    "                                                        class_mode = 'binary',\n",
    "                                                        target_size = imsize,\n",
    "                                                        subset='validation')"
   ]
  },
  {
   "cell_type": "code",
   "execution_count": 5,
   "metadata": {},
   "outputs": [],
   "source": [
    "# define the metrics\n",
    "acc_metric = tf.keras.metrics.BinaryAccuracy(name='acc')"
   ]
  },
  {
   "cell_type": "code",
   "execution_count": 6,
   "metadata": {},
   "outputs": [
    {
     "name": "stdout",
     "output_type": "stream",
     "text": [
      "shape of last layer is  (None, 16, 16, 512)\n",
      "Model: \"functional_1\"\n",
      "_________________________________________________________________\n",
      "Layer (type)                 Output Shape              Param #   \n",
      "=================================================================\n",
      "input_1 (InputLayer)         [(None, 512, 512, 3)]     0         \n",
      "_________________________________________________________________\n",
      "block1_conv1 (Conv2D)        (None, 512, 512, 64)      1792      \n",
      "_________________________________________________________________\n",
      "block1_conv2 (Conv2D)        (None, 512, 512, 64)      36928     \n",
      "_________________________________________________________________\n",
      "block1_pool (MaxPooling2D)   (None, 256, 256, 64)      0         \n",
      "_________________________________________________________________\n",
      "block2_conv1 (Conv2D)        (None, 256, 256, 128)     73856     \n",
      "_________________________________________________________________\n",
      "block2_conv2 (Conv2D)        (None, 256, 256, 128)     147584    \n",
      "_________________________________________________________________\n",
      "block2_pool (MaxPooling2D)   (None, 128, 128, 128)     0         \n",
      "_________________________________________________________________\n",
      "block3_conv1 (Conv2D)        (None, 128, 128, 256)     295168    \n",
      "_________________________________________________________________\n",
      "block3_conv2 (Conv2D)        (None, 128, 128, 256)     590080    \n",
      "_________________________________________________________________\n",
      "block3_conv3 (Conv2D)        (None, 128, 128, 256)     590080    \n",
      "_________________________________________________________________\n",
      "block3_pool (MaxPooling2D)   (None, 64, 64, 256)       0         \n",
      "_________________________________________________________________\n",
      "block4_conv1 (Conv2D)        (None, 64, 64, 512)       1180160   \n",
      "_________________________________________________________________\n",
      "block4_conv2 (Conv2D)        (None, 64, 64, 512)       2359808   \n",
      "_________________________________________________________________\n",
      "block4_conv3 (Conv2D)        (None, 64, 64, 512)       2359808   \n",
      "_________________________________________________________________\n",
      "block4_pool (MaxPooling2D)   (None, 32, 32, 512)       0         \n",
      "_________________________________________________________________\n",
      "block5_conv1 (Conv2D)        (None, 32, 32, 512)       2359808   \n",
      "_________________________________________________________________\n",
      "block5_conv2 (Conv2D)        (None, 32, 32, 512)       2359808   \n",
      "_________________________________________________________________\n",
      "block5_conv3 (Conv2D)        (None, 32, 32, 512)       2359808   \n",
      "_________________________________________________________________\n",
      "block5_pool (MaxPooling2D)   (None, 16, 16, 512)       0         \n",
      "_________________________________________________________________\n",
      "flatten (Flatten)            (None, 131072)            0         \n",
      "_________________________________________________________________\n",
      "dense (Dense)                (None, 1024)              134218752 \n",
      "_________________________________________________________________\n",
      "dropout (Dropout)            (None, 1024)              0         \n",
      "_________________________________________________________________\n",
      "dense_1 (Dense)              (None, 1)                 1025      \n",
      "=================================================================\n",
      "Total params: 148,934,465\n",
      "Trainable params: 148,934,465\n",
      "Non-trainable params: 0\n",
      "_________________________________________________________________\n"
     ]
    }
   ],
   "source": [
    "#load or build model\n",
    "##########\n",
    "\n",
    "#from scratch:\n",
    "#base model, no top layer, w/ imagenet weights\n",
    "base_model = tf.keras.applications.VGG16(input_shape = imshape, \n",
    "                                             include_top = False, \n",
    "                                             weights = 'imagenet')\n",
    "\n",
    "base_model.trainable = True\n",
    "# add a new classifcation layer\n",
    "\n",
    "final_layer = base_model.get_layer('block5_pool')\n",
    "print('shape of last layer is ', final_layer.output_shape)\n",
    "final_base_output = final_layer.output\n",
    "\n",
    "\n",
    "#add the last layer\n",
    "# Flatten the output layer to 1 dimension\n",
    "x = layers.Flatten()(final_base_output )\n",
    "# Add a fully connected layer with 1,024 hidden units and ReLU activation\n",
    "x = layers.Dense(1024, activation='relu', kernel_regularizer = tf.keras.regularizers.l2(1e-4))(x)\n",
    "# Add a dropout rate of 0.5\n",
    "x = layers.Dropout(0.5)(x)                  \n",
    "# Add a final sigmoid layer for classification\n",
    "x = layers.Dense(1, activation='sigmoid')(x)           \n",
    "\n",
    "model = Model(base_model.input, x) \n",
    "#############\n",
    "model.summary()"
   ]
  },
  {
   "cell_type": "code",
   "execution_count": 7,
   "metadata": {},
   "outputs": [],
   "source": [
    "#build the model\n",
    "model.compile(loss = 'binary_crossentropy',\n",
    "              optimizer = tf.keras.optimizers.RMSprop(lr = 1e-5),\n",
    "              metrics = acc_metric)"
   ]
  },
  {
   "cell_type": "code",
   "execution_count": 8,
   "metadata": {
    "scrolled": true
   },
   "outputs": [
    {
     "name": "stdout",
     "output_type": "stream",
     "text": [
      "Epoch 1/100\n",
      "  2/128 [..............................] - ETA: 12s - loss: 0.9419 - acc: 0.5000WARNING:tensorflow:Callbacks method `on_train_batch_end` is slow compared to the batch time (batch time: 0.0765s vs `on_train_batch_end` time: 0.1255s). Check your callbacks.\n",
      "128/128 [==============================] - 225s 2s/step - loss: 0.9361 - acc: 0.5206 - val_loss: 0.7256 - val_acc: 0.6133\n",
      "Epoch 2/100\n",
      "128/128 [==============================] - 213s 2s/step - loss: 0.8140 - acc: 0.5843 - val_loss: 0.5941 - val_acc: 0.6992\n",
      "Epoch 3/100\n",
      "128/128 [==============================] - 217s 2s/step - loss: 0.7088 - acc: 0.6039 - val_loss: 0.5063 - val_acc: 0.7695\n",
      "Epoch 4/100\n",
      "128/128 [==============================] - 219s 2s/step - loss: 0.6650 - acc: 0.6500 - val_loss: 0.5151 - val_acc: 0.7656\n",
      "Epoch 5/100\n",
      "128/128 [==============================] - 217s 2s/step - loss: 0.6390 - acc: 0.6657 - val_loss: 0.4908 - val_acc: 0.7773\n",
      "Epoch 6/100\n",
      "128/128 [==============================] - 219s 2s/step - loss: 0.6071 - acc: 0.6804 - val_loss: 0.4223 - val_acc: 0.8047\n",
      "Epoch 7/100\n",
      "128/128 [==============================] - 219s 2s/step - loss: 0.5814 - acc: 0.6980 - val_loss: 0.4084 - val_acc: 0.7734\n",
      "Epoch 8/100\n",
      "128/128 [==============================] - 220s 2s/step - loss: 0.5759 - acc: 0.6951 - val_loss: 0.3860 - val_acc: 0.8242\n",
      "Epoch 9/100\n",
      "128/128 [==============================] - 217s 2s/step - loss: 0.5577 - acc: 0.7225 - val_loss: 0.4079 - val_acc: 0.8125\n",
      "Epoch 10/100\n",
      "128/128 [==============================] - 218s 2s/step - loss: 0.5633 - acc: 0.7235 - val_loss: 0.5065 - val_acc: 0.7656\n",
      "Epoch 11/100\n",
      "128/128 [==============================] - 217s 2s/step - loss: 0.5382 - acc: 0.7431 - val_loss: 0.4428 - val_acc: 0.8086\n",
      "Epoch 12/100\n",
      "128/128 [==============================] - 215s 2s/step - loss: 0.5244 - acc: 0.7471 - val_loss: 0.4274 - val_acc: 0.8047\n",
      "Epoch 13/100\n",
      "128/128 [==============================] - 216s 2s/step - loss: 0.5135 - acc: 0.7461 - val_loss: 0.4516 - val_acc: 0.8125\n",
      "Epoch 14/100\n",
      "128/128 [==============================] - 218s 2s/step - loss: 0.5190 - acc: 0.7441 - val_loss: 0.4386 - val_acc: 0.7539\n",
      "Epoch 15/100\n",
      "128/128 [==============================] - 217s 2s/step - loss: 0.5200 - acc: 0.7402 - val_loss: 0.4493 - val_acc: 0.7852\n",
      "Epoch 16/100\n",
      "128/128 [==============================] - 214s 2s/step - loss: 0.5298 - acc: 0.7441 - val_loss: 0.3849 - val_acc: 0.8164\n",
      "Epoch 17/100\n",
      "128/128 [==============================] - 217s 2s/step - loss: 0.5155 - acc: 0.7569 - val_loss: 0.4103 - val_acc: 0.8164\n",
      "Epoch 18/100\n",
      "128/128 [==============================] - 219s 2s/step - loss: 0.5107 - acc: 0.7373 - val_loss: 0.4758 - val_acc: 0.8203\n",
      "Epoch 19/100\n",
      "128/128 [==============================] - 215s 2s/step - loss: 0.4814 - acc: 0.7922 - val_loss: 0.5206 - val_acc: 0.8516\n",
      "Epoch 20/100\n",
      "128/128 [==============================] - 220s 2s/step - loss: 0.4806 - acc: 0.7804 - val_loss: 0.4114 - val_acc: 0.7969\n",
      "Epoch 21/100\n",
      "128/128 [==============================] - 220s 2s/step - loss: 0.4944 - acc: 0.7892 - val_loss: 0.4193 - val_acc: 0.7891\n",
      "Epoch 22/100\n",
      "128/128 [==============================] - 216s 2s/step - loss: 0.4786 - acc: 0.7667 - val_loss: 0.5559 - val_acc: 0.8008\n",
      "Epoch 23/100\n",
      "128/128 [==============================] - 216s 2s/step - loss: 0.4666 - acc: 0.7667 - val_loss: 0.3717 - val_acc: 0.8438\n",
      "Epoch 24/100\n",
      "128/128 [==============================] - 219s 2s/step - loss: 0.4795 - acc: 0.7706 - val_loss: 0.5494 - val_acc: 0.8516\n",
      "Epoch 25/100\n",
      "128/128 [==============================] - 215s 2s/step - loss: 0.4878 - acc: 0.7686 - val_loss: 0.3339 - val_acc: 0.8281\n",
      "Epoch 26/100\n",
      "128/128 [==============================] - 219s 2s/step - loss: 0.4845 - acc: 0.7471 - val_loss: 0.4162 - val_acc: 0.8555\n",
      "Epoch 27/100\n",
      "128/128 [==============================] - 219s 2s/step - loss: 0.4665 - acc: 0.7725 - val_loss: 0.3857 - val_acc: 0.8320\n",
      "Epoch 28/100\n",
      "128/128 [==============================] - 221s 2s/step - loss: 0.4752 - acc: 0.7696 - val_loss: 0.3821 - val_acc: 0.8086\n",
      "Epoch 29/100\n",
      "128/128 [==============================] - 219s 2s/step - loss: 0.4828 - acc: 0.7647 - val_loss: 0.5083 - val_acc: 0.7344\n",
      "Epoch 30/100\n",
      "128/128 [==============================] - 220s 2s/step - loss: 0.4727 - acc: 0.7686 - val_loss: 0.3928 - val_acc: 0.8555\n",
      "Epoch 31/100\n",
      "128/128 [==============================] - 223s 2s/step - loss: 0.4718 - acc: 0.7980 - val_loss: 0.5393 - val_acc: 0.8047\n",
      "Epoch 32/100\n",
      "128/128 [==============================] - 215s 2s/step - loss: 0.4552 - acc: 0.7775 - val_loss: 0.5791 - val_acc: 0.7969\n",
      "Epoch 33/100\n",
      "128/128 [==============================] - 220s 2s/step - loss: 0.4510 - acc: 0.7931 - val_loss: 0.3599 - val_acc: 0.8008\n",
      "Epoch 34/100\n",
      "128/128 [==============================] - 216s 2s/step - loss: 0.4303 - acc: 0.8010 - val_loss: 0.5818 - val_acc: 0.7656\n",
      "Epoch 35/100\n",
      "128/128 [==============================] - 216s 2s/step - loss: 0.4696 - acc: 0.7814 - val_loss: 0.4143 - val_acc: 0.7969\n",
      "Epoch 36/100\n",
      "128/128 [==============================] - 217s 2s/step - loss: 0.4767 - acc: 0.7804 - val_loss: 0.5142 - val_acc: 0.7617\n",
      "Epoch 37/100\n",
      "128/128 [==============================] - 216s 2s/step - loss: 0.4622 - acc: 0.7922 - val_loss: 0.5083 - val_acc: 0.8125\n",
      "Epoch 38/100\n",
      "128/128 [==============================] - 219s 2s/step - loss: 0.4495 - acc: 0.7775 - val_loss: 0.3296 - val_acc: 0.8125\n",
      "Epoch 39/100\n",
      "128/128 [==============================] - 218s 2s/step - loss: 0.4249 - acc: 0.8069 - val_loss: 0.4713 - val_acc: 0.8516\n",
      "Epoch 40/100\n",
      "128/128 [==============================] - 216s 2s/step - loss: 0.4697 - acc: 0.7990 - val_loss: 0.4603 - val_acc: 0.8281\n",
      "Epoch 41/100\n",
      "128/128 [==============================] - 221s 2s/step - loss: 0.4597 - acc: 0.7902 - val_loss: 0.5816 - val_acc: 0.8555\n",
      "Epoch 42/100\n",
      "128/128 [==============================] - 222s 2s/step - loss: 0.4369 - acc: 0.8108 - val_loss: 0.5348 - val_acc: 0.8008\n",
      "Epoch 43/100\n",
      "128/128 [==============================] - 218s 2s/step - loss: 0.4429 - acc: 0.7853 - val_loss: 0.4942 - val_acc: 0.8242\n",
      "Epoch 44/100\n",
      "128/128 [==============================] - 216s 2s/step - loss: 0.4580 - acc: 0.7686 - val_loss: 0.4806 - val_acc: 0.7773\n",
      "Epoch 45/100\n",
      "128/128 [==============================] - 215s 2s/step - loss: 0.4339 - acc: 0.7971 - val_loss: 0.7175 - val_acc: 0.7188\n",
      "Epoch 46/100\n",
      "128/128 [==============================] - 215s 2s/step - loss: 0.4330 - acc: 0.8108 - val_loss: 0.5851 - val_acc: 0.7695\n",
      "Epoch 47/100\n",
      "128/128 [==============================] - 219s 2s/step - loss: 0.4558 - acc: 0.7922 - val_loss: 0.5444 - val_acc: 0.8320\n",
      "Epoch 48/100\n",
      "128/128 [==============================] - 219s 2s/step - loss: 0.4844 - acc: 0.7775 - val_loss: 0.6185 - val_acc: 0.7695\n",
      "Epoch 49/100\n",
      "128/128 [==============================] - 216s 2s/step - loss: 0.4380 - acc: 0.7980 - val_loss: 0.7114 - val_acc: 0.8125\n",
      "Epoch 50/100\n",
      "128/128 [==============================] - 219s 2s/step - loss: 0.4675 - acc: 0.7912 - val_loss: 0.5683 - val_acc: 0.8047\n",
      "Epoch 51/100\n",
      "128/128 [==============================] - 220s 2s/step - loss: 0.4618 - acc: 0.8000 - val_loss: 0.5456 - val_acc: 0.8125\n",
      "Epoch 52/100\n",
      "128/128 [==============================] - 221s 2s/step - loss: 0.4665 - acc: 0.7784 - val_loss: 0.3765 - val_acc: 0.7891\n",
      "Epoch 53/100\n",
      "128/128 [==============================] - 222s 2s/step - loss: 0.4393 - acc: 0.7804 - val_loss: 0.4453 - val_acc: 0.8320\n",
      "Epoch 54/100\n",
      "128/128 [==============================] - 216s 2s/step - loss: 0.4562 - acc: 0.7824 - val_loss: 0.5538 - val_acc: 0.7852\n",
      "Epoch 55/100\n",
      "128/128 [==============================] - 217s 2s/step - loss: 0.4962 - acc: 0.7745 - val_loss: 0.3961 - val_acc: 0.8320\n",
      "Epoch 56/100\n",
      "128/128 [==============================] - 218s 2s/step - loss: 0.4512 - acc: 0.7735 - val_loss: 0.4025 - val_acc: 0.7969\n",
      "Epoch 57/100\n",
      "128/128 [==============================] - 218s 2s/step - loss: 0.4501 - acc: 0.8069 - val_loss: 0.5139 - val_acc: 0.8359\n",
      "Epoch 58/100\n",
      "128/128 [==============================] - 214s 2s/step - loss: 0.5100 - acc: 0.7784 - val_loss: 0.5012 - val_acc: 0.8320\n",
      "Epoch 59/100\n",
      "128/128 [==============================] - 219s 2s/step - loss: 0.4905 - acc: 0.7696 - val_loss: 0.4446 - val_acc: 0.8555\n"
     ]
    },
    {
     "name": "stdout",
     "output_type": "stream",
     "text": [
      "Epoch 60/100\n",
      "128/128 [==============================] - 217s 2s/step - loss: 0.4748 - acc: 0.7804 - val_loss: 0.5184 - val_acc: 0.7812\n",
      "Epoch 61/100\n",
      "128/128 [==============================] - 219s 2s/step - loss: 0.4533 - acc: 0.7990 - val_loss: 0.9018 - val_acc: 0.8281\n",
      "Epoch 62/100\n",
      "128/128 [==============================] - 218s 2s/step - loss: 0.4626 - acc: 0.7853 - val_loss: 0.4731 - val_acc: 0.8398\n",
      "Epoch 63/100\n",
      "128/128 [==============================] - 220s 2s/step - loss: 0.4737 - acc: 0.7657 - val_loss: 0.6016 - val_acc: 0.8359\n",
      "Epoch 64/100\n",
      "128/128 [==============================] - 213s 2s/step - loss: 0.4730 - acc: 0.7745 - val_loss: 0.4294 - val_acc: 0.7852\n",
      "Epoch 65/100\n",
      "128/128 [==============================] - 217s 2s/step - loss: 0.4578 - acc: 0.7775 - val_loss: 1.4043 - val_acc: 0.7539\n",
      "Epoch 66/100\n",
      "128/128 [==============================] - 219s 2s/step - loss: 0.4645 - acc: 0.7941 - val_loss: 0.4789 - val_acc: 0.8164\n",
      "Epoch 67/100\n",
      "128/128 [==============================] - 217s 2s/step - loss: 0.4749 - acc: 0.7833 - val_loss: 0.4837 - val_acc: 0.7930\n",
      "Epoch 68/100\n",
      "128/128 [==============================] - 218s 2s/step - loss: 0.4766 - acc: 0.8000 - val_loss: 0.4325 - val_acc: 0.8086\n"
     ]
    }
   ],
   "source": [
    "#train the model\n",
    "history = model.fit(train_generator,\n",
    "                    steps_per_epoch = total_train // batch_size,\n",
    "                    validation_data = validation_generator,\n",
    "                    epochs= 100,\n",
    "                    validation_steps =  total_val // batch_size,\n",
    "                    callbacks =[callbacks])"
   ]
  },
  {
   "cell_type": "code",
   "execution_count": 9,
   "metadata": {},
   "outputs": [
    {
     "data": {
      "image/png": "[encoded data removed]",
      "text/plain": [
       "<Figure size 432x288 with 1 Axes>"
      ]
     },
     "metadata": {
      "needs_background": "light"
     },
     "output_type": "display_data"
    },
    {
     "data": {
      "text/plain": [
       "<Figure size 432x288 with 0 Axes>"
      ]
     },
     "metadata": {},
     "output_type": "display_data"
    },
    {
     "data": {
      "image/png": "[encoded data removed]",
      "text/plain": [
       "<Figure size 432x288 with 1 Axes>"
      ]
     },
     "metadata": {
      "needs_background": "light"
     },
     "output_type": "display_data"
    },
    {
     "data": {
      "text/plain": [
       "<Figure size 432x288 with 0 Axes>"
      ]
     },
     "metadata": {},
     "output_type": "display_data"
    }
   ],
   "source": [
    "#look at the metrics from training\n",
    "%matplotlib inline\n",
    "\n",
    "acc = history.history['acc']\n",
    "val_acc = history.history['val_acc']\n",
    "loss = history.history['loss']\n",
    "val_loss = history.history['val_loss']\n",
    "\n",
    "epochs = range(len(acc))\n",
    "\n",
    "plt.plot(epochs, acc, 'r', label='Training accuracy')\n",
    "plt.plot(epochs, val_acc, 'b', label='Validation accuracy')\n",
    "\n",
    "plt.title('Training and validation accuracy')\n",
    "plt.legend(loc=0)\n",
    "plt.figure()\n",
    "plt.show()\n",
    "\n",
    "plt.plot(epochs, loss, 'r--', label='Training loss')\n",
    "plt.plot(epochs, val_loss, 'b--', label='Validation loss')\n",
    "plt.title('Training and validation loss') \n",
    "plt.legend(loc=0)\n",
    "plt.figure()\n",
    "plt.show()"
   ]
  },
  {
   "cell_type": "code",
   "execution_count": 10,
   "metadata": {},
   "outputs": [
    {
     "name": "stdout",
     "output_type": "stream",
     "text": [
      "WARNING:tensorflow:From /usr/lib/python3/dist-packages/tensorflow/python/training/tracking/tracking.py:111: Model.state_updates (from tensorflow.python.keras.engine.training) is deprecated and will be removed in a future version.\n",
      "Instructions for updating:\n",
      "This property should not be used in TensorFlow 2.0, as updates are applied automatically.\n",
      "WARNING:tensorflow:From /usr/lib/python3/dist-packages/tensorflow/python/training/tracking/tracking.py:111: Layer.updates (from tensorflow.python.keras.engine.base_layer) is deprecated and will be removed in a future version.\n",
      "Instructions for updating:\n",
      "This property should not be used in TensorFlow 2.0, as updates are applied automatically.\n",
      "INFO:tensorflow:Assets written to: ./models/VGG16_model_3_8020split_512px/assets\n"
     ]
    }
   ],
   "source": [
    "#save the model\n",
    "filepath = './models/VGG16_model_3_8020split_512px'\n",
    "model.save(filepath)\n",
    "\n",
    "#load model\n",
    "#model = tf.keras.models.load_model(filepath, compile = True)"
   ]
  },
  {
   "cell_type": "code",
   "execution_count": null,
   "metadata": {},
   "outputs": [],
   "source": []
  }
 ],
 "metadata": {
  "kernelspec": {
   "display_name": "Python 3",
   "language": "python",
   "name": "python3"
  },
  "language_info": {
   "codemirror_mode": {
    "name": "ipython",
    "version": 3
   },
   "file_extension": ".py",
   "mimetype": "text/x-python",
   "name": "python",
   "nbconvert_exporter": "python",
   "pygments_lexer": "ipython3",
   "version": "3.8.5"
  }
 },
 "nbformat": 4,
 "nbformat_minor": 2
}
