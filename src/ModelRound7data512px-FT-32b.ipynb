{
 "cells": [
  {
   "cell_type": "code",
   "execution_count": null,
   "metadata": {},
   "outputs": [],
   "source": [
    "# import the general stuff\n",
    "import os\n",
    "from os import getcwd\n",
    "import matplotlib.pyplot as plt\n",
    "import pandas as pd \n",
    "import numpy as np\n",
    "from sklearn import metrics\n",
    "import math\n",
    "\n",
    "#import stuff for gradCAM\n",
    "import matplotlib.cm as cm\n",
    "from IPython.display import Image\n",
    "\n",
    "#Set GPU to use\n",
    "os.environ[\"CUDA_DEVICE_ORDER\"] = \"PCI_BUS_ID\"\n",
    "os.environ[\"CUDA_VISIBLE_DEVICES\"] = \"1\"\n",
    "\n",
    "#import the tf stuff\n",
    "import tensorflow as tf\n",
    "from tensorflow.keras import layers\n",
    "from tensorflow.keras import Model\n",
    "\n",
    "from tensorflow.keras.preprocessing.image import ImageDataGenerator\n",
    "\n",
    "#Check TensorFlow Version\n",
    "print('TF version: {}' .format(tf.__version__))"
   ]
  },
  {
   "cell_type": "code",
   "execution_count": 2,
   "metadata": {},
   "outputs": [
    {
     "name": "stdout",
     "output_type": "stream",
     "text": [
      " GPU: /device:GPU:0\n"
     ]
    }
   ],
   "source": [
    "#Check for GPU utilization\n",
    "if tf.test.gpu_device_name():\n",
    "    print(' GPU: {}'.format(tf.test.gpu_device_name()))\n",
    "else:\n",
    "    print(\"No GPU\")"
   ]
  },
  {
   "cell_type": "code",
   "execution_count": 3,
   "metadata": {},
   "outputs": [],
   "source": [
    "# define a callback\n",
    "\n",
    "callbacks = tf.keras.callbacks.EarlyStopping(monitor = 'val_loss', \n",
    "                                             patience = 10, \n",
    "                                             restore_best_weights = True)"
   ]
  },
  {
   "cell_type": "code",
   "execution_count": 4,
   "metadata": {},
   "outputs": [
    {
     "name": "stdout",
     "output_type": "stream",
     "text": [
      "Found 2741 images belonging to 2 classes.\n",
      "Found 684 images belonging to 2 classes.\n"
     ]
    }
   ],
   "source": [
    "#build data generators for training and validaton\n",
    "\n",
    "split = 0.2\n",
    "\n",
    "# Define dirs and files\n",
    "train_data_dir = '../data/pics/labelertoModel/AllRoundsSeven'\n",
    "\n",
    "# Add our data-augmentation parameters to ImageDataGenerator and split data\n",
    "train_datagen = ImageDataGenerator(rescale =1./255.,\n",
    "                                   rotation_range = 90,\n",
    "                                   width_shift_range = 0.5,\n",
    "                                   height_shift_range = 0.5,\n",
    "                                   shear_range = 0.45,\n",
    "                                   zoom_range = 0.2,\n",
    "                                   horizontal_flip = True,\n",
    "                                   vertical_flip = True,\n",
    "                                   validation_split = split)\n",
    "\n",
    "\n",
    "#set batch Size\n",
    "batch_size = 32\n",
    "\n",
    "#set Image size (RGB so imshape is 3)\n",
    "pix_dim = 512\n",
    "imsize = (pix_dim,pix_dim) \n",
    "imshape = (pix_dim,pix_dim,3)\n",
    "\n",
    "# Flow training images in batches \n",
    "train_generator = train_datagen.flow_from_directory(train_data_dir,\n",
    "                                                    batch_size = batch_size,\n",
    "                                                    class_mode = 'binary',\n",
    "                                                    target_size = imsize,\n",
    "                                                    subset='training')\n",
    "\n",
    "# Flow validation images in batches \n",
    "validation_generator =  train_datagen.flow_from_directory(train_data_dir, # same directory as training data,\n",
    "                                                        batch_size = batch_size,\n",
    "                                                        class_mode = 'binary',\n",
    "                                                        target_size = imsize,\n",
    "                                                        subset='validation')"
   ]
  },
  {
   "cell_type": "code",
   "execution_count": 5,
   "metadata": {},
   "outputs": [],
   "source": [
    "total_train = 2741\n",
    "total_val = 684"
   ]
  },
  {
   "cell_type": "code",
   "execution_count": 6,
   "metadata": {},
   "outputs": [],
   "source": [
    "# define the metrics\n",
    "acc_metric = tf.keras.metrics.BinaryAccuracy(name='acc')"
   ]
  },
  {
   "cell_type": "code",
   "execution_count": 7,
   "metadata": {},
   "outputs": [
    {
     "name": "stdout",
     "output_type": "stream",
     "text": [
      "shape of last layer is  (None, 16, 16, 512)\n",
      "Model: \"functional_1\"\n",
      "_________________________________________________________________\n",
      "Layer (type)                 Output Shape              Param #   \n",
      "=================================================================\n",
      "input_1 (InputLayer)         [(None, 512, 512, 3)]     0         \n",
      "_________________________________________________________________\n",
      "block1_conv1 (Conv2D)        (None, 512, 512, 64)      1792      \n",
      "_________________________________________________________________\n",
      "block1_conv2 (Conv2D)        (None, 512, 512, 64)      36928     \n",
      "_________________________________________________________________\n",
      "block1_pool (MaxPooling2D)   (None, 256, 256, 64)      0         \n",
      "_________________________________________________________________\n",
      "block2_conv1 (Conv2D)        (None, 256, 256, 128)     73856     \n",
      "_________________________________________________________________\n",
      "block2_conv2 (Conv2D)        (None, 256, 256, 128)     147584    \n",
      "_________________________________________________________________\n",
      "block2_pool (MaxPooling2D)   (None, 128, 128, 128)     0         \n",
      "_________________________________________________________________\n",
      "block3_conv1 (Conv2D)        (None, 128, 128, 256)     295168    \n",
      "_________________________________________________________________\n",
      "block3_conv2 (Conv2D)        (None, 128, 128, 256)     590080    \n",
      "_________________________________________________________________\n",
      "block3_conv3 (Conv2D)        (None, 128, 128, 256)     590080    \n",
      "_________________________________________________________________\n",
      "block3_pool (MaxPooling2D)   (None, 64, 64, 256)       0         \n",
      "_________________________________________________________________\n",
      "block4_conv1 (Conv2D)        (None, 64, 64, 512)       1180160   \n",
      "_________________________________________________________________\n",
      "block4_conv2 (Conv2D)        (None, 64, 64, 512)       2359808   \n",
      "_________________________________________________________________\n",
      "block4_conv3 (Conv2D)        (None, 64, 64, 512)       2359808   \n",
      "_________________________________________________________________\n",
      "block4_pool (MaxPooling2D)   (None, 32, 32, 512)       0         \n",
      "_________________________________________________________________\n",
      "block5_conv1 (Conv2D)        (None, 32, 32, 512)       2359808   \n",
      "_________________________________________________________________\n",
      "block5_conv2 (Conv2D)        (None, 32, 32, 512)       2359808   \n",
      "_________________________________________________________________\n",
      "block5_conv3 (Conv2D)        (None, 32, 32, 512)       2359808   \n",
      "_________________________________________________________________\n",
      "block5_pool (MaxPooling2D)   (None, 16, 16, 512)       0         \n",
      "_________________________________________________________________\n",
      "flatten (Flatten)            (None, 131072)            0         \n",
      "_________________________________________________________________\n",
      "dense (Dense)                (None, 1024)              134218752 \n",
      "_________________________________________________________________\n",
      "dense_1 (Dense)              (None, 1024)              1049600   \n",
      "_________________________________________________________________\n",
      "dropout (Dropout)            (None, 1024)              0         \n",
      "_________________________________________________________________\n",
      "dense_2 (Dense)              (None, 1)                 1025      \n",
      "=================================================================\n",
      "Total params: 149,984,065\n",
      "Trainable params: 135,269,377\n",
      "Non-trainable params: 14,714,688\n",
      "_________________________________________________________________\n"
     ]
    }
   ],
   "source": [
    "#load or build model\n",
    "##########\n",
    "\n",
    "#from scratch:\n",
    "#base model, no top layer, w/ imagenet weights\n",
    "base_model = tf.keras.applications.VGG16(input_shape = imshape, \n",
    "                                             include_top = False, \n",
    "                                             weights = 'imagenet')\n",
    "\n",
    "base_model.trainable = False\n",
    "# add a new classifcation layer\n",
    "\n",
    "final_layer = base_model.get_layer('block5_pool')\n",
    "print('shape of last layer is ', final_layer.output_shape)\n",
    "final_base_output = final_layer.output\n",
    "\n",
    "\n",
    "#add the last layer\n",
    "# Flatten the output layer to 1 dimension\n",
    "x = layers.Flatten()(final_base_output )\n",
    "# Add a fully connected layer with 1,024 hidden units and ReLU activation\n",
    "x = layers.Dense(1024, activation='relu', kernel_regularizer = tf.keras.regularizers.l2(1e-4))(x)\n",
    "# Add a fully connected layer with 1,024 hidden units and ReLU activation\n",
    "x = layers.Dense(1024, activation='relu', kernel_regularizer = tf.keras.regularizers.l2(1e-4))(x)\n",
    "# Add a dropout rate of 0.5\n",
    "x = layers.Dropout(0.5)(x)                  \n",
    "# Add a final sigmoid layer for classification\n",
    "x = layers.Dense(1, activation='sigmoid')(x)           \n",
    "\n",
    "model = Model(base_model.input, x) \n",
    "#############\n",
    "model.summary()"
   ]
  },
  {
   "cell_type": "code",
   "execution_count": 11,
   "metadata": {},
   "outputs": [],
   "source": [
    "#build the model\n",
    "model.compile(loss = 'binary_crossentropy',\n",
    "              optimizer = tf.keras.optimizers.RMSprop(lr = 1e-4),\n",
    "              metrics = acc_metric)"
   ]
  },
  {
   "cell_type": "code",
   "execution_count": 12,
   "metadata": {
    "scrolled": true
   },
   "outputs": [
    {
     "name": "stdout",
     "output_type": "stream",
     "text": [
      "Epoch 1/100\n",
      "85/85 [==============================] - 121s 1s/step - loss: 1.3751 - acc: 0.5183 - val_loss: 0.8433 - val_acc: 0.4807\n",
      "Epoch 2/100\n",
      "85/85 [==============================] - 111s 1s/step - loss: 0.8353 - acc: 0.5216 - val_loss: 0.7616 - val_acc: 0.5238\n",
      "Epoch 3/100\n",
      "85/85 [==============================] - 110s 1s/step - loss: 0.7448 - acc: 0.5652 - val_loss: 0.7460 - val_acc: 0.5327\n",
      "Epoch 4/100\n",
      "85/85 [==============================] - 110s 1s/step - loss: 0.7008 - acc: 0.5851 - val_loss: 0.7016 - val_acc: 0.5789\n",
      "Epoch 5/100\n",
      "85/85 [==============================] - 110s 1s/step - loss: 0.6648 - acc: 0.6250 - val_loss: 0.7465 - val_acc: 0.5253\n",
      "Epoch 6/100\n",
      "85/85 [==============================] - 109s 1s/step - loss: 0.6388 - acc: 0.6493 - val_loss: 0.6921 - val_acc: 0.5938\n",
      "Epoch 7/100\n",
      "85/85 [==============================] - 109s 1s/step - loss: 0.6200 - acc: 0.6752 - val_loss: 0.7277 - val_acc: 0.5595\n",
      "Epoch 8/100\n",
      "85/85 [==============================] - 108s 1s/step - loss: 0.6237 - acc: 0.6600 - val_loss: 0.6764 - val_acc: 0.6086\n",
      "Epoch 9/100\n",
      "85/85 [==============================] - 111s 1s/step - loss: 0.6142 - acc: 0.6630 - val_loss: 0.6744 - val_acc: 0.5923\n",
      "Epoch 10/100\n",
      "85/85 [==============================] - 110s 1s/step - loss: 0.6119 - acc: 0.6763 - val_loss: 0.6543 - val_acc: 0.6101\n",
      "Epoch 11/100\n",
      "85/85 [==============================] - 111s 1s/step - loss: 0.5951 - acc: 0.6840 - val_loss: 0.6886 - val_acc: 0.5997\n",
      "Epoch 12/100\n",
      "85/85 [==============================] - 110s 1s/step - loss: 0.6028 - acc: 0.6822 - val_loss: 0.6945 - val_acc: 0.6131\n",
      "Epoch 13/100\n",
      "85/85 [==============================] - 107s 1s/step - loss: 0.5961 - acc: 0.6899 - val_loss: 0.6676 - val_acc: 0.6280\n",
      "Epoch 14/100\n",
      "85/85 [==============================] - 112s 1s/step - loss: 0.5846 - acc: 0.6980 - val_loss: 0.7413 - val_acc: 0.5938\n",
      "Epoch 15/100\n",
      "85/85 [==============================] - 103s 1s/step - loss: 0.5842 - acc: 0.6966 - val_loss: 0.6877 - val_acc: 0.5923\n",
      "Epoch 16/100\n",
      "85/85 [==============================] - 93s 1s/step - loss: 0.5749 - acc: 0.7099 - val_loss: 0.6900 - val_acc: 0.6057\n",
      "Epoch 17/100\n",
      "85/85 [==============================] - 97s 1s/step - loss: 0.5841 - acc: 0.6999 - val_loss: 0.6627 - val_acc: 0.6250\n",
      "Epoch 18/100\n",
      "85/85 [==============================] - 95s 1s/step - loss: 0.5769 - acc: 0.7117 - val_loss: 0.6880 - val_acc: 0.6146\n",
      "Epoch 19/100\n",
      "85/85 [==============================] - 97s 1s/step - loss: 0.5837 - acc: 0.7014 - val_loss: 0.6870 - val_acc: 0.6116\n",
      "Epoch 20/100\n",
      "85/85 [==============================] - 111s 1s/step - loss: 0.5678 - acc: 0.7006 - val_loss: 0.7140 - val_acc: 0.5908\n"
     ]
    }
   ],
   "source": [
    "#train the model\n",
    "history = model.fit(train_generator,\n",
    "                    steps_per_epoch = total_train // batch_size,\n",
    "                    validation_data = validation_generator,\n",
    "                    epochs= 100,\n",
    "                    validation_steps =  total_val // batch_size,\n",
    "                    workers = 16,\n",
    "                    callbacks =[callbacks])"
   ]
  },
  {
   "cell_type": "code",
   "execution_count": 13,
   "metadata": {},
   "outputs": [
    {
     "data": {
      "image/png": "[encoded data removed]",
      "text/plain": [
       "<Figure size 432x288 with 1 Axes>"
      ]
     },
     "metadata": {
      "needs_background": "light"
     },
     "output_type": "display_data"
    },
    {
     "data": {
      "text/plain": [
       "<Figure size 432x288 with 0 Axes>"
      ]
     },
     "metadata": {},
     "output_type": "display_data"
    },
    {
     "data": {
      "image/png": "[encoded data removed]",
      "text/plain": [
       "<Figure size 432x288 with 1 Axes>"
      ]
     },
     "metadata": {
      "needs_background": "light"
     },
     "output_type": "display_data"
    },
    {
     "data": {
      "text/plain": [
       "<Figure size 432x288 with 0 Axes>"
      ]
     },
     "metadata": {},
     "output_type": "display_data"
    }
   ],
   "source": [
    "#look at the metrics from training\n",
    "%matplotlib inline\n",
    "\n",
    "acc = history.history['acc']\n",
    "val_acc = history.history['val_acc']\n",
    "loss = history.history['loss']\n",
    "val_loss = history.history['val_loss']\n",
    "\n",
    "epochs = range(len(acc))\n",
    "\n",
    "plt.plot(epochs, acc, 'r', label='Training accuracy')\n",
    "plt.plot(epochs, val_acc, 'b', label='Validation accuracy')\n",
    "\n",
    "plt.title('Training and validation accuracy')\n",
    "plt.legend(loc=0)\n",
    "plt.figure()\n",
    "plt.show()\n",
    "\n",
    "plt.plot(epochs, loss, 'r--', label='Training loss')\n",
    "plt.plot(epochs, val_loss, 'b--', label='Validation loss')\n",
    "plt.title('Training and validation loss') \n",
    "plt.legend(loc=0)\n",
    "plt.figure()\n",
    "plt.show()"
   ]
  },
  {
   "cell_type": "code",
   "execution_count": 16,
   "metadata": {},
   "outputs": [
    {
     "name": "stdout",
     "output_type": "stream",
     "text": [
      "Epoch 1/100\n",
      " 2/85 [..............................] - ETA: 24s - loss: 0.4332 - acc: 0.7011WARNING:tensorflow:Callbacks method `on_train_batch_end` is slow compared to the batch time (batch time: 0.2029s vs `on_train_batch_end` time: 0.3866s). Check your callbacks.\n",
      "85/85 [==============================] - 124s 1s/step - loss: 0.3526 - acc: 0.8252 - val_loss: 0.6376 - val_acc: 0.6845\n",
      "Epoch 2/100\n",
      "85/85 [==============================] - 116s 1s/step - loss: 0.3393 - acc: 0.8560 - val_loss: 0.6375 - val_acc: 0.7024\n",
      "Epoch 3/100\n",
      "85/85 [==============================] - 115s 1s/step - loss: 0.3506 - acc: 0.8487 - val_loss: 0.6717 - val_acc: 0.6845\n",
      "Epoch 4/100\n",
      "85/85 [==============================] - 115s 1s/step - loss: 0.3439 - acc: 0.8564 - val_loss: 0.6268 - val_acc: 0.7009\n",
      "Epoch 5/100\n",
      "85/85 [==============================] - 112s 1s/step - loss: 0.3470 - acc: 0.8553 - val_loss: 0.6300 - val_acc: 0.6949\n",
      "Epoch 6/100\n",
      "85/85 [==============================] - 114s 1s/step - loss: 0.3453 - acc: 0.8564 - val_loss: 0.6655 - val_acc: 0.6845\n",
      "Epoch 7/100\n",
      "85/85 [==============================] - 115s 1s/step - loss: 0.3334 - acc: 0.8642 - val_loss: 0.6510 - val_acc: 0.6875\n",
      "Epoch 8/100\n",
      "85/85 [==============================] - 116s 1s/step - loss: 0.3374 - acc: 0.8531 - val_loss: 0.7047 - val_acc: 0.6845\n",
      "Epoch 9/100\n",
      "85/85 [==============================] - 114s 1s/step - loss: 0.3397 - acc: 0.8586 - val_loss: 0.6504 - val_acc: 0.7098\n",
      "Epoch 10/100\n",
      "85/85 [==============================] - 113s 1s/step - loss: 0.3372 - acc: 0.8586 - val_loss: 0.6576 - val_acc: 0.6890\n",
      "Epoch 11/100\n",
      "85/85 [==============================] - 113s 1s/step - loss: 0.3494 - acc: 0.8579 - val_loss: 0.6607 - val_acc: 0.6920\n",
      "Epoch 12/100\n",
      "85/85 [==============================] - 115s 1s/step - loss: 0.3363 - acc: 0.8586 - val_loss: 0.7422 - val_acc: 0.6726\n",
      "Epoch 13/100\n",
      "85/85 [==============================] - 113s 1s/step - loss: 0.3290 - acc: 0.8697 - val_loss: 0.6799 - val_acc: 0.7217\n",
      "Epoch 14/100\n",
      "85/85 [==============================] - 114s 1s/step - loss: 0.3229 - acc: 0.8664 - val_loss: 0.7189 - val_acc: 0.6696\n"
     ]
    },
    {
     "data": {
      "image/png": "[encoded data removed]",
      "text/plain": [
       "<Figure size 432x288 with 1 Axes>"
      ]
     },
     "metadata": {
      "needs_background": "light"
     },
     "output_type": "display_data"
    },
    {
     "data": {
      "text/plain": [
       "<Figure size 432x288 with 0 Axes>"
      ]
     },
     "metadata": {},
     "output_type": "display_data"
    },
    {
     "data": {
      "image/png": "[encoded data removed]",
      "text/plain": [
       "<Figure size 432x288 with 1 Axes>"
      ]
     },
     "metadata": {
      "needs_background": "light"
     },
     "output_type": "display_data"
    },
    {
     "data": {
      "text/plain": [
       "<Figure size 432x288 with 0 Axes>"
      ]
     },
     "metadata": {},
     "output_type": "display_data"
    }
   ],
   "source": [
    "#Full model finetune\n",
    "base_model.trainable = True\n",
    "\n",
    "#build the model\n",
    "model.compile(loss = 'binary_crossentropy',\n",
    "              optimizer = tf.keras.optimizers.RMSprop(lr = 1e-6),\n",
    "              metrics = acc_metric)\n",
    "\n",
    "#train the model\n",
    "history = model.fit(train_generator,\n",
    "                    steps_per_epoch = total_train // batch_size,\n",
    "                    validation_data = validation_generator,\n",
    "                    epochs= 100,\n",
    "                    validation_steps =  total_val // batch_size,\n",
    "                    workers = 16,\n",
    "                    callbacks =[callbacks])\n",
    "\n",
    "#look at the metrics from training\n",
    "%matplotlib inline\n",
    "acc = history.history['acc']\n",
    "val_acc = history.history['val_acc']\n",
    "loss = history.history['loss']\n",
    "val_loss = history.history['val_loss']\n",
    "\n",
    "epochs = range(len(acc))\n",
    "\n",
    "plt.plot(epochs, acc, 'r', label='Training accuracy')\n",
    "plt.plot(epochs, val_acc, 'b', label='Validation accuracy')\n",
    "\n",
    "plt.title('Training and validation accuracy')\n",
    "plt.legend(loc=0)\n",
    "plt.figure()\n",
    "plt.show()\n",
    "\n",
    "plt.plot(epochs, loss, 'r--', label='Training loss')\n",
    "plt.plot(epochs, val_loss, 'b--', label='Validation loss')\n",
    "plt.title('Training and validation loss') \n",
    "plt.legend(loc=0)\n",
    "plt.figure()\n",
    "plt.show()\n"
   ]
  },
  {
   "cell_type": "code",
   "execution_count": 17,
   "metadata": {},
   "outputs": [
    {
     "name": "stdout",
     "output_type": "stream",
     "text": [
      "INFO:tensorflow:Assets written to: ./models/VGG16_model_7_8020split_32b_512px_2stepFT/assets\n"
     ]
    }
   ],
   "source": [
    "#save the model\n",
    "filepath = './models/VGG16_model_7_8020split_32b_512px_2stepFT'\n",
    "model.save(filepath)\n",
    "\n",
    "#load model\n",
    "#model = tf.keras.models.load_model(filepath, compile = True)"
   ]
  },
  {
   "cell_type": "code",
   "execution_count": null,
   "metadata": {},
   "outputs": [],
   "source": []
  }
 ],
 "metadata": {
  "kernelspec": {
   "display_name": "Python 3",
   "language": "python",
   "name": "python3"
  },
  "language_info": {
   "codemirror_mode": {
    "name": "ipython",
    "version": 3
   },
   "file_extension": ".py",
   "mimetype": "text/x-python",
   "name": "python",
   "nbconvert_exporter": "python",
   "pygments_lexer": "ipython3",
   "version": "3.8.10"
  }
 },
 "nbformat": 4,
 "nbformat_minor": 2
}
