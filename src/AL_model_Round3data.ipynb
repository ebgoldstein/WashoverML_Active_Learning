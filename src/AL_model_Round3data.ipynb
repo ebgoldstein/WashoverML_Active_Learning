{
 "cells": [
  {
   "cell_type": "code",
   "execution_count": 1,
   "metadata": {},
   "outputs": [
    {
     "name": "stdout",
     "output_type": "stream",
     "text": [
      "TF version: 2.3.2\n"
     ]
    }
   ],
   "source": [
    "# import the general stuff\n",
    "import os\n",
    "from os import getcwd\n",
    "import matplotlib.pyplot as plt\n",
    "import pandas as pd \n",
    "import numpy as np\n",
    "from sklearn import metrics\n",
    "import math\n",
    "\n",
    "#import stuff for gradCAM\n",
    "import matplotlib.cm as cm\n",
    "from IPython.display import Image\n",
    "\n",
    "#Set GPU to use\n",
    "os.environ[\"CUDA_DEVICE_ORDER\"] = \"PCI_BUS_ID\"\n",
    "os.environ[\"CUDA_VISIBLE_DEVICES\"] = \"0\"\n",
    "\n",
    "#import the tf stuff\n",
    "import tensorflow as tf\n",
    "from tensorflow.keras import layers\n",
    "from tensorflow.keras import Model\n",
    "\n",
    "from tensorflow.keras.preprocessing.image import ImageDataGenerator\n",
    "\n",
    "#Check TensorFlow Version\n",
    "print('TF version: {}' .format(tf.__version__))"
   ]
  },
  {
   "cell_type": "code",
   "execution_count": 2,
   "metadata": {},
   "outputs": [
    {
     "name": "stdout",
     "output_type": "stream",
     "text": [
      " GPU: /device:GPU:0\n"
     ]
    }
   ],
   "source": [
    "#Check for GPU utilization\n",
    "if tf.test.gpu_device_name():\n",
    "    print(' GPU: {}'.format(tf.test.gpu_device_name()))\n",
    "else:\n",
    "    print(\"No GPU\")"
   ]
  },
  {
   "cell_type": "code",
   "execution_count": 3,
   "metadata": {},
   "outputs": [],
   "source": [
    "# define a callback\n",
    "\n",
    "callbacks = tf.keras.callbacks.EarlyStopping(monitor = 'val_acc', \n",
    "                                             patience = 30, \n",
    "                                             restore_best_weights = True)"
   ]
  },
  {
   "cell_type": "code",
   "execution_count": 4,
   "metadata": {},
   "outputs": [
    {
     "name": "stdout",
     "output_type": "stream",
     "text": [
      "Found 1028 images belonging to 2 classes.\n",
      "Found 256 images belonging to 2 classes.\n"
     ]
    }
   ],
   "source": [
    "#build data generators for training and validaton\n",
    "\n",
    "split = 0.2\n",
    "\n",
    "total_train = 1028\n",
    "total_val = 256\n",
    "\n",
    "\n",
    "# Define dirs and files\n",
    "train_data_dir = '../data/pics/labelertoModel/AllRoundsThree'\n",
    "\n",
    "# Add our data-augmentation parameters to ImageDataGenerator and split data\n",
    "train_datagen = ImageDataGenerator(rescale =1./255.,\n",
    "                                   rotation_range = 90,\n",
    "                                   width_shift_range = 0.5,\n",
    "                                   height_shift_range = 0.5,\n",
    "                                   shear_range = 0.45,\n",
    "                                   zoom_range = 0.2,\n",
    "                                   horizontal_flip = True,\n",
    "                                   vertical_flip = True,\n",
    "                                   validation_split = split)\n",
    "\n",
    "\n",
    "#set batch Size\n",
    "batch_size = 8\n",
    "\n",
    "#set Image size (RGB so imshape is 3)\n",
    "pix_dim = 500\n",
    "imsize = (pix_dim,pix_dim) \n",
    "imshape = (pix_dim,pix_dim,3)\n",
    "\n",
    "# Flow training images in batches \n",
    "train_generator = train_datagen.flow_from_directory(train_data_dir,\n",
    "                                                    batch_size = batch_size,\n",
    "                                                    class_mode = 'binary',\n",
    "                                                    target_size = imsize,\n",
    "                                                    subset='training')\n",
    "\n",
    "# Flow validation images in batches \n",
    "validation_generator =  train_datagen.flow_from_directory(train_data_dir, # same directory as training data,\n",
    "                                                        batch_size = batch_size,\n",
    "                                                        class_mode = 'binary',\n",
    "                                                        target_size = imsize,\n",
    "                                                        subset='validation')"
   ]
  },
  {
   "cell_type": "code",
   "execution_count": 5,
   "metadata": {},
   "outputs": [],
   "source": [
    "#weights for imbalanced data\n",
    "#https://keras.io/examples/vision/xray_classification_with_tpus/\n",
    "\n",
    "#initial_bias = np.log([total_nowash / total_wash])\n",
    "#print(\"Initial bias: {:.5f}\".format(initial_bias[0]))\n",
    "\n",
    "#total_images = total_wash + total_nowash\n",
    "#weight_for_0 = (1 / total_nowash) * (total_images) / 2.0\n",
    "#weight_for_1 = (1 / total_wash) * (total_images) / 2.0\n",
    "\n",
    "#class_weight = {0: weight_for_0, 1: weight_for_1}\n",
    "\n",
    "#print(\"Weight for class 0: {:.2f}\".format(weight_for_0))\n",
    "#print(\"Weight for class 1: {:.2f}\".format(weight_for_1))"
   ]
  },
  {
   "cell_type": "code",
   "execution_count": 6,
   "metadata": {},
   "outputs": [],
   "source": [
    "# define the metrics\n",
    "acc_metric = tf.keras.metrics.BinaryAccuracy(name='acc')"
   ]
  },
  {
   "cell_type": "code",
   "execution_count": 7,
   "metadata": {},
   "outputs": [
    {
     "name": "stdout",
     "output_type": "stream",
     "text": [
      "shape of last layer is  (None, 15, 15, 512)\n",
      "Model: \"functional_1\"\n",
      "_________________________________________________________________\n",
      "Layer (type)                 Output Shape              Param #   \n",
      "=================================================================\n",
      "input_1 (InputLayer)         [(None, 500, 500, 3)]     0         \n",
      "_________________________________________________________________\n",
      "block1_conv1 (Conv2D)        (None, 500, 500, 64)      1792      \n",
      "_________________________________________________________________\n",
      "block1_conv2 (Conv2D)        (None, 500, 500, 64)      36928     \n",
      "_________________________________________________________________\n",
      "block1_pool (MaxPooling2D)   (None, 250, 250, 64)      0         \n",
      "_________________________________________________________________\n",
      "block2_conv1 (Conv2D)        (None, 250, 250, 128)     73856     \n",
      "_________________________________________________________________\n",
      "block2_conv2 (Conv2D)        (None, 250, 250, 128)     147584    \n",
      "_________________________________________________________________\n",
      "block2_pool (MaxPooling2D)   (None, 125, 125, 128)     0         \n",
      "_________________________________________________________________\n",
      "block3_conv1 (Conv2D)        (None, 125, 125, 256)     295168    \n",
      "_________________________________________________________________\n",
      "block3_conv2 (Conv2D)        (None, 125, 125, 256)     590080    \n",
      "_________________________________________________________________\n",
      "block3_conv3 (Conv2D)        (None, 125, 125, 256)     590080    \n",
      "_________________________________________________________________\n",
      "block3_pool (MaxPooling2D)   (None, 62, 62, 256)       0         \n",
      "_________________________________________________________________\n",
      "block4_conv1 (Conv2D)        (None, 62, 62, 512)       1180160   \n",
      "_________________________________________________________________\n",
      "block4_conv2 (Conv2D)        (None, 62, 62, 512)       2359808   \n",
      "_________________________________________________________________\n",
      "block4_conv3 (Conv2D)        (None, 62, 62, 512)       2359808   \n",
      "_________________________________________________________________\n",
      "block4_pool (MaxPooling2D)   (None, 31, 31, 512)       0         \n",
      "_________________________________________________________________\n",
      "block5_conv1 (Conv2D)        (None, 31, 31, 512)       2359808   \n",
      "_________________________________________________________________\n",
      "block5_conv2 (Conv2D)        (None, 31, 31, 512)       2359808   \n",
      "_________________________________________________________________\n",
      "block5_conv3 (Conv2D)        (None, 31, 31, 512)       2359808   \n",
      "_________________________________________________________________\n",
      "block5_pool (MaxPooling2D)   (None, 15, 15, 512)       0         \n",
      "_________________________________________________________________\n",
      "flatten (Flatten)            (None, 115200)            0         \n",
      "_________________________________________________________________\n",
      "dense (Dense)                (None, 1024)              117965824 \n",
      "_________________________________________________________________\n",
      "dropout (Dropout)            (None, 1024)              0         \n",
      "_________________________________________________________________\n",
      "dense_1 (Dense)              (None, 1)                 1025      \n",
      "=================================================================\n",
      "Total params: 132,681,537\n",
      "Trainable params: 132,681,537\n",
      "Non-trainable params: 0\n",
      "_________________________________________________________________\n"
     ]
    }
   ],
   "source": [
    "#load or build model\n",
    "##########\n",
    "'''\n",
    "#model path\n",
    "model_path = './models/saved_VGG16_retrain'\n",
    "\n",
    "#load it in to tf\n",
    "model = tf.keras.models.load_model(model_path, compile = True)\n",
    "############\n",
    "'''\n",
    "#from scratch:\n",
    "#base model, no top layer, w/ imagenet weights\n",
    "base_model = tf.keras.applications.VGG16(input_shape = imshape, \n",
    "                                             include_top = False, \n",
    "                                             weights = 'imagenet')\n",
    "\n",
    "base_model.trainable = True\n",
    "# add a new classifcation layer\n",
    "\n",
    "final_layer = base_model.get_layer('block5_pool')\n",
    "print('shape of last layer is ', final_layer.output_shape)\n",
    "final_base_output = final_layer.output\n",
    "\n",
    "\n",
    "#add the last layer\n",
    "# Flatten the output layer to 1 dimension\n",
    "x = layers.Flatten()(final_base_output )\n",
    "# Add a fully connected layer with 1,024 hidden units and ReLU activation\n",
    "x = layers.Dense(1024, activation='relu', kernel_regularizer = tf.keras.regularizers.l2(1e-4))(x)\n",
    "# Add a dropout rate of 0.5\n",
    "x = layers.Dropout(0.5)(x)                  \n",
    "# Add a final sigmoid layer for classification\n",
    "x = layers.Dense(1, activation='sigmoid')(x)           \n",
    "\n",
    "model = Model(base_model.input, x) \n",
    "#############\n",
    "model.summary()"
   ]
  },
  {
   "cell_type": "code",
   "execution_count": 8,
   "metadata": {},
   "outputs": [],
   "source": [
    "# layers in the base model\n",
    "#print(\"Number of layers in model: \", len(model.layers))"
   ]
  },
  {
   "cell_type": "code",
   "execution_count": 9,
   "metadata": {},
   "outputs": [],
   "source": [
    "#finetuning\n",
    "#model.trainable = True\n",
    "\n",
    "# Fine-tune from this layer onwards (16 is Block5 Conv1)\n",
    "#fine_tune_at = 20\n",
    "\n",
    "# Freeze all the layers before the `fine_tune_at` layer\n",
    "#for layer in model.layers[:fine_tune_at]:\n",
    "#  layer.trainable =  False\n"
   ]
  },
  {
   "cell_type": "code",
   "execution_count": 10,
   "metadata": {},
   "outputs": [],
   "source": [
    "#build the model\n",
    "model.compile(loss = 'binary_crossentropy',\n",
    "              optimizer = tf.keras.optimizers.RMSprop(lr = 1e-5, decay = 1e-6),\n",
    "              metrics = acc_metric)"
   ]
  },
  {
   "cell_type": "code",
   "execution_count": 11,
   "metadata": {
    "scrolled": true
   },
   "outputs": [
    {
     "name": "stdout",
     "output_type": "stream",
     "text": [
      "Epoch 1/200\n",
      "  2/128 [..............................] - ETA: 12s - loss: 1.8101 - acc: 0.4375WARNING:tensorflow:Callbacks method `on_train_batch_end` is slow compared to the batch time (batch time: 0.0637s vs `on_train_batch_end` time: 0.1313s). Check your callbacks.\n",
      "128/128 [==============================] - 221s 2s/step - loss: 0.9457 - acc: 0.5216 - val_loss: 0.7075 - val_acc: 0.7266\n",
      "Epoch 2/200\n",
      "128/128 [==============================] - 216s 2s/step - loss: 0.7986 - acc: 0.5892 - val_loss: 0.5124 - val_acc: 0.8086\n",
      "Epoch 3/200\n",
      "128/128 [==============================] - 216s 2s/step - loss: 0.7119 - acc: 0.6304 - val_loss: 0.6692 - val_acc: 0.5430\n",
      "Epoch 4/200\n",
      "128/128 [==============================] - 215s 2s/step - loss: 0.6625 - acc: 0.6275 - val_loss: 0.5127 - val_acc: 0.7461\n",
      "Epoch 5/200\n",
      "128/128 [==============================] - 217s 2s/step - loss: 0.5988 - acc: 0.6755 - val_loss: 0.4463 - val_acc: 0.7773\n",
      "Epoch 6/200\n",
      "128/128 [==============================] - 215s 2s/step - loss: 0.5945 - acc: 0.6755 - val_loss: 0.4477 - val_acc: 0.8164\n",
      "Epoch 7/200\n",
      "128/128 [==============================] - 215s 2s/step - loss: 0.5747 - acc: 0.7186 - val_loss: 0.5836 - val_acc: 0.7148\n",
      "Epoch 8/200\n",
      "128/128 [==============================] - 216s 2s/step - loss: 0.5484 - acc: 0.7235 - val_loss: 0.4468 - val_acc: 0.7930\n",
      "Epoch 9/200\n",
      "128/128 [==============================] - 214s 2s/step - loss: 0.5652 - acc: 0.7147 - val_loss: 0.4497 - val_acc: 0.7617\n",
      "Epoch 10/200\n",
      "128/128 [==============================] - 215s 2s/step - loss: 0.5317 - acc: 0.7402 - val_loss: 0.4219 - val_acc: 0.8047\n",
      "Epoch 11/200\n",
      "128/128 [==============================] - 216s 2s/step - loss: 0.5224 - acc: 0.7490 - val_loss: 0.7666 - val_acc: 0.7852\n",
      "Epoch 12/200\n",
      "128/128 [==============================] - 214s 2s/step - loss: 0.5199 - acc: 0.7412 - val_loss: 0.4289 - val_acc: 0.7578\n",
      "Epoch 13/200\n",
      "128/128 [==============================] - 213s 2s/step - loss: 0.5270 - acc: 0.7373 - val_loss: 0.3685 - val_acc: 0.8125\n",
      "Epoch 14/200\n",
      "128/128 [==============================] - 213s 2s/step - loss: 0.5143 - acc: 0.7539 - val_loss: 0.3739 - val_acc: 0.8203\n",
      "Epoch 15/200\n",
      "128/128 [==============================] - 213s 2s/step - loss: 0.5107 - acc: 0.7588 - val_loss: 0.3720 - val_acc: 0.7969\n",
      "Epoch 16/200\n",
      "128/128 [==============================] - 214s 2s/step - loss: 0.4975 - acc: 0.7706 - val_loss: 0.4448 - val_acc: 0.8164\n",
      "Epoch 17/200\n",
      "128/128 [==============================] - 212s 2s/step - loss: 0.5071 - acc: 0.7637 - val_loss: 0.3717 - val_acc: 0.8125\n",
      "Epoch 18/200\n",
      "128/128 [==============================] - 215s 2s/step - loss: 0.4816 - acc: 0.7706 - val_loss: 0.3830 - val_acc: 0.8320\n",
      "Epoch 19/200\n",
      "128/128 [==============================] - 216s 2s/step - loss: 0.5122 - acc: 0.7618 - val_loss: 0.3993 - val_acc: 0.8125\n",
      "Epoch 20/200\n",
      "128/128 [==============================] - 216s 2s/step - loss: 0.4901 - acc: 0.7922 - val_loss: 0.5331 - val_acc: 0.7773\n",
      "Epoch 21/200\n",
      "128/128 [==============================] - 214s 2s/step - loss: 0.4970 - acc: 0.7804 - val_loss: 0.4752 - val_acc: 0.7930\n",
      "Epoch 22/200\n",
      "128/128 [==============================] - 216s 2s/step - loss: 0.4766 - acc: 0.7647 - val_loss: 0.5401 - val_acc: 0.7578\n",
      "Epoch 23/200\n",
      "128/128 [==============================] - 217s 2s/step - loss: 0.4771 - acc: 0.7578 - val_loss: 0.4273 - val_acc: 0.7812\n",
      "Epoch 24/200\n",
      "128/128 [==============================] - 214s 2s/step - loss: 0.4788 - acc: 0.7725 - val_loss: 0.3835 - val_acc: 0.8047\n",
      "Epoch 25/200\n",
      "128/128 [==============================] - 216s 2s/step - loss: 0.4655 - acc: 0.7657 - val_loss: 0.4927 - val_acc: 0.8047\n",
      "Epoch 26/200\n",
      "128/128 [==============================] - 216s 2s/step - loss: 0.4804 - acc: 0.7824 - val_loss: 0.4497 - val_acc: 0.8047\n",
      "Epoch 27/200\n",
      "128/128 [==============================] - 215s 2s/step - loss: 0.4769 - acc: 0.7667 - val_loss: 0.4354 - val_acc: 0.7930\n",
      "Epoch 28/200\n",
      "128/128 [==============================] - 215s 2s/step - loss: 0.4689 - acc: 0.8020 - val_loss: 0.4497 - val_acc: 0.8281\n",
      "Epoch 29/200\n",
      "128/128 [==============================] - 217s 2s/step - loss: 0.4596 - acc: 0.7804 - val_loss: 0.4950 - val_acc: 0.7734\n",
      "Epoch 30/200\n",
      "128/128 [==============================] - 218s 2s/step - loss: 0.4712 - acc: 0.7569 - val_loss: 0.5548 - val_acc: 0.8359\n",
      "Epoch 31/200\n",
      "128/128 [==============================] - 215s 2s/step - loss: 0.4607 - acc: 0.7951 - val_loss: 0.7266 - val_acc: 0.8203\n",
      "Epoch 32/200\n",
      "128/128 [==============================] - 214s 2s/step - loss: 0.4623 - acc: 0.7696 - val_loss: 0.5392 - val_acc: 0.8008\n",
      "Epoch 33/200\n",
      "128/128 [==============================] - 213s 2s/step - loss: 0.4777 - acc: 0.7735 - val_loss: 0.3981 - val_acc: 0.8281\n",
      "Epoch 34/200\n",
      "128/128 [==============================] - 214s 2s/step - loss: 0.4498 - acc: 0.7863 - val_loss: 0.4370 - val_acc: 0.8125\n",
      "Epoch 35/200\n",
      "128/128 [==============================] - 213s 2s/step - loss: 0.4694 - acc: 0.7824 - val_loss: 0.5025 - val_acc: 0.8047\n",
      "Epoch 36/200\n",
      "128/128 [==============================] - 216s 2s/step - loss: 0.4682 - acc: 0.7755 - val_loss: 0.4925 - val_acc: 0.7852\n",
      "Epoch 37/200\n",
      "128/128 [==============================] - 216s 2s/step - loss: 0.4586 - acc: 0.7775 - val_loss: 0.6476 - val_acc: 0.8398\n",
      "Epoch 38/200\n",
      "128/128 [==============================] - 214s 2s/step - loss: 0.4417 - acc: 0.7931 - val_loss: 0.9860 - val_acc: 0.7617\n",
      "Epoch 39/200\n",
      "128/128 [==============================] - 215s 2s/step - loss: 0.4303 - acc: 0.8069 - val_loss: 0.7580 - val_acc: 0.8320\n",
      "Epoch 40/200\n",
      "128/128 [==============================] - 216s 2s/step - loss: 0.4572 - acc: 0.7892 - val_loss: 0.6187 - val_acc: 0.7148\n",
      "Epoch 41/200\n",
      "128/128 [==============================] - 216s 2s/step - loss: 0.4409 - acc: 0.7775 - val_loss: 0.4512 - val_acc: 0.8125\n",
      "Epoch 42/200\n",
      "128/128 [==============================] - 216s 2s/step - loss: 0.4903 - acc: 0.8029 - val_loss: 0.5852 - val_acc: 0.8477\n",
      "Epoch 43/200\n",
      "128/128 [==============================] - 216s 2s/step - loss: 0.5003 - acc: 0.7873 - val_loss: 0.4088 - val_acc: 0.8242\n",
      "Epoch 44/200\n",
      "128/128 [==============================] - 215s 2s/step - loss: 0.4521 - acc: 0.7922 - val_loss: 1.7103 - val_acc: 0.5859\n",
      "Epoch 45/200\n",
      "128/128 [==============================] - 214s 2s/step - loss: 0.4796 - acc: 0.7833 - val_loss: 0.6582 - val_acc: 0.8242\n",
      "Epoch 46/200\n",
      "128/128 [==============================] - 214s 2s/step - loss: 0.4601 - acc: 0.7755 - val_loss: 0.3630 - val_acc: 0.8359\n",
      "Epoch 47/200\n",
      "128/128 [==============================] - 215s 2s/step - loss: 0.4351 - acc: 0.8167 - val_loss: 0.4735 - val_acc: 0.7812\n",
      "Epoch 48/200\n",
      "128/128 [==============================] - 214s 2s/step - loss: 0.4644 - acc: 0.7892 - val_loss: 0.6509 - val_acc: 0.8008\n",
      "Epoch 49/200\n",
      "128/128 [==============================] - 214s 2s/step - loss: 0.4617 - acc: 0.7755 - val_loss: 0.4990 - val_acc: 0.8047\n",
      "Epoch 50/200\n",
      "128/128 [==============================] - 215s 2s/step - loss: 0.4508 - acc: 0.7971 - val_loss: 0.6116 - val_acc: 0.7852\n",
      "Epoch 51/200\n",
      "128/128 [==============================] - 216s 2s/step - loss: 0.4799 - acc: 0.7735 - val_loss: 0.3883 - val_acc: 0.8633\n",
      "Epoch 52/200\n",
      "128/128 [==============================] - 214s 2s/step - loss: 0.5318 - acc: 0.7775 - val_loss: 0.6463 - val_acc: 0.8359\n",
      "Epoch 53/200\n",
      "128/128 [==============================] - 215s 2s/step - loss: 0.4392 - acc: 0.7824 - val_loss: 0.5173 - val_acc: 0.8633\n",
      "Epoch 54/200\n",
      "128/128 [==============================] - 217s 2s/step - loss: 0.4934 - acc: 0.7569 - val_loss: 0.4593 - val_acc: 0.8203\n",
      "Epoch 55/200\n",
      "128/128 [==============================] - 216s 2s/step - loss: 0.5007 - acc: 0.7716 - val_loss: 0.5788 - val_acc: 0.7930\n",
      "Epoch 56/200\n",
      "128/128 [==============================] - 218s 2s/step - loss: 0.4836 - acc: 0.7775 - val_loss: 0.9672 - val_acc: 0.7969\n",
      "Epoch 57/200\n",
      "128/128 [==============================] - 216s 2s/step - loss: 0.4947 - acc: 0.7804 - val_loss: 1.0096 - val_acc: 0.8086\n",
      "Epoch 58/200\n",
      "128/128 [==============================] - 217s 2s/step - loss: 0.5302 - acc: 0.7765 - val_loss: 0.3684 - val_acc: 0.8320\n",
      "Epoch 59/200\n",
      "128/128 [==============================] - 216s 2s/step - loss: 0.4852 - acc: 0.7804 - val_loss: 0.6193 - val_acc: 0.7969\n"
     ]
    },
    {
     "name": "stdout",
     "output_type": "stream",
     "text": [
      "Epoch 60/200\n",
      "128/128 [==============================] - 216s 2s/step - loss: 0.4871 - acc: 0.7961 - val_loss: 0.8629 - val_acc: 0.8398\n",
      "Epoch 61/200\n",
      "128/128 [==============================] - 214s 2s/step - loss: 0.4916 - acc: 0.7755 - val_loss: 0.3001 - val_acc: 0.8516\n",
      "Epoch 62/200\n",
      "128/128 [==============================] - 215s 2s/step - loss: 0.5448 - acc: 0.7980 - val_loss: 0.3586 - val_acc: 0.8516\n",
      "Epoch 63/200\n",
      "128/128 [==============================] - 215s 2s/step - loss: 0.4873 - acc: 0.7706 - val_loss: 0.5116 - val_acc: 0.8047\n",
      "Epoch 64/200\n",
      "128/128 [==============================] - 214s 2s/step - loss: 0.4679 - acc: 0.7735 - val_loss: 0.3625 - val_acc: 0.8047\n",
      "Epoch 65/200\n",
      "128/128 [==============================] - 213s 2s/step - loss: 0.4816 - acc: 0.7814 - val_loss: 0.9659 - val_acc: 0.7617\n",
      "Epoch 66/200\n",
      "128/128 [==============================] - 214s 2s/step - loss: 0.5050 - acc: 0.7735 - val_loss: 0.7321 - val_acc: 0.7383\n",
      "Epoch 67/200\n",
      "128/128 [==============================] - 214s 2s/step - loss: 0.5217 - acc: 0.7578 - val_loss: 0.3574 - val_acc: 0.8438\n",
      "Epoch 68/200\n",
      "128/128 [==============================] - 214s 2s/step - loss: 0.5288 - acc: 0.7578 - val_loss: 0.7604 - val_acc: 0.8242\n",
      "Epoch 69/200\n",
      "128/128 [==============================] - 215s 2s/step - loss: 0.5319 - acc: 0.7539 - val_loss: 0.5839 - val_acc: 0.6719\n",
      "Epoch 70/200\n",
      "128/128 [==============================] - 215s 2s/step - loss: 0.4992 - acc: 0.7608 - val_loss: 0.4166 - val_acc: 0.7930\n",
      "Epoch 71/200\n",
      "128/128 [==============================] - 214s 2s/step - loss: 0.4894 - acc: 0.7804 - val_loss: 0.3617 - val_acc: 0.8086\n",
      "Epoch 72/200\n",
      "128/128 [==============================] - 215s 2s/step - loss: 0.4891 - acc: 0.7824 - val_loss: 0.3686 - val_acc: 0.8086\n",
      "Epoch 73/200\n",
      "128/128 [==============================] - 216s 2s/step - loss: 0.5449 - acc: 0.7676 - val_loss: 0.4065 - val_acc: 0.7812\n",
      "Epoch 74/200\n",
      "128/128 [==============================] - 213s 2s/step - loss: 0.5265 - acc: 0.7667 - val_loss: 0.4356 - val_acc: 0.7734\n",
      "Epoch 75/200\n",
      "128/128 [==============================] - 213s 2s/step - loss: 0.5160 - acc: 0.7686 - val_loss: 0.4094 - val_acc: 0.8008\n",
      "Epoch 76/200\n",
      "128/128 [==============================] - 213s 2s/step - loss: 0.5287 - acc: 0.7657 - val_loss: 0.5425 - val_acc: 0.8125\n",
      "Epoch 77/200\n",
      "128/128 [==============================] - 212s 2s/step - loss: 0.5075 - acc: 0.7578 - val_loss: 0.5261 - val_acc: 0.8086\n",
      "Epoch 78/200\n",
      "128/128 [==============================] - 212s 2s/step - loss: 0.5073 - acc: 0.7539 - val_loss: 0.4319 - val_acc: 0.7461\n",
      "Epoch 79/200\n",
      "128/128 [==============================] - 213s 2s/step - loss: 0.5044 - acc: 0.7559 - val_loss: 0.3777 - val_acc: 0.8008\n",
      "Epoch 80/200\n",
      "128/128 [==============================] - 214s 2s/step - loss: 0.5303 - acc: 0.7363 - val_loss: 0.4687 - val_acc: 0.8398\n",
      "Epoch 81/200\n",
      "128/128 [==============================] - 215s 2s/step - loss: 0.5170 - acc: 0.7608 - val_loss: 0.8823 - val_acc: 0.7930\n"
     ]
    }
   ],
   "source": [
    "#train the model\n",
    "history = model.fit(train_generator,\n",
    "                    steps_per_epoch = total_train // batch_size,\n",
    "                    validation_data = validation_generator,\n",
    "                    epochs= 200,\n",
    "                    validation_steps =  total_val // batch_size,\n",
    "                    callbacks =[callbacks])"
   ]
  },
  {
   "cell_type": "code",
   "execution_count": 12,
   "metadata": {},
   "outputs": [
    {
     "data": {
      "image/png": "[encoded data removed]",
      "text/plain": [
       "<Figure size 432x288 with 1 Axes>"
      ]
     },
     "metadata": {
      "needs_background": "light"
     },
     "output_type": "display_data"
    },
    {
     "data": {
      "text/plain": [
       "<Figure size 432x288 with 0 Axes>"
      ]
     },
     "metadata": {},
     "output_type": "display_data"
    },
    {
     "data": {
      "image/png": "[encoded data removed]",
      "text/plain": [
       "<Figure size 432x288 with 1 Axes>"
      ]
     },
     "metadata": {
      "needs_background": "light"
     },
     "output_type": "display_data"
    },
    {
     "data": {
      "text/plain": [
       "<Figure size 432x288 with 0 Axes>"
      ]
     },
     "metadata": {},
     "output_type": "display_data"
    }
   ],
   "source": [
    "#look at the metrics from training\n",
    "%matplotlib inline\n",
    "\n",
    "acc = history.history['acc']\n",
    "val_acc = history.history['val_acc']\n",
    "loss = history.history['loss']\n",
    "val_loss = history.history['val_loss']\n",
    "\n",
    "epochs = range(len(acc))\n",
    "\n",
    "plt.plot(epochs, acc, 'r', label='Training accuracy')\n",
    "plt.plot(epochs, val_acc, 'b', label='Validation accuracy')\n",
    "\n",
    "plt.title('Training and validation accuracy')\n",
    "plt.legend(loc=0)\n",
    "plt.figure()\n",
    "plt.show()\n",
    "\n",
    "plt.plot(epochs, loss, 'r--', label='Training loss')\n",
    "plt.plot(epochs, val_loss, 'b--', label='Validation loss')\n",
    "plt.title('Training and validation loss') \n",
    "plt.legend(loc=0)\n",
    "plt.figure()\n",
    "plt.show()"
   ]
  },
  {
   "cell_type": "code",
   "execution_count": 13,
   "metadata": {},
   "outputs": [
    {
     "name": "stdout",
     "output_type": "stream",
     "text": [
      "WARNING:tensorflow:From /usr/lib/python3/dist-packages/tensorflow/python/training/tracking/tracking.py:111: Model.state_updates (from tensorflow.python.keras.engine.training) is deprecated and will be removed in a future version.\n",
      "Instructions for updating:\n",
      "This property should not be used in TensorFlow 2.0, as updates are applied automatically.\n",
      "WARNING:tensorflow:From /usr/lib/python3/dist-packages/tensorflow/python/training/tracking/tracking.py:111: Layer.updates (from tensorflow.python.keras.engine.base_layer) is deprecated and will be removed in a future version.\n",
      "Instructions for updating:\n",
      "This property should not be used in TensorFlow 2.0, as updates are applied automatically.\n",
      "INFO:tensorflow:Assets written to: ./models/VGG16_model_3_8020split/assets\n"
     ]
    }
   ],
   "source": [
    "#save the model\n",
    "filepath = './models/VGG16_model_3_8020split'\n",
    "model.save(filepath)\n",
    "\n",
    "#load model\n",
    "#model = tf.keras.models.load_model(filepath, compile = True)"
   ]
  },
  {
   "cell_type": "code",
   "execution_count": null,
   "metadata": {},
   "outputs": [],
   "source": []
  }
 ],
 "metadata": {
  "kernelspec": {
   "display_name": "Python 3",
   "language": "python",
   "name": "python3"
  },
  "language_info": {
   "codemirror_mode": {
    "name": "ipython",
    "version": 3
   },
   "file_extension": ".py",
   "mimetype": "text/x-python",
   "name": "python",
   "nbconvert_exporter": "python",
   "pygments_lexer": "ipython3",
   "version": "3.8.5"
  }
 },
 "nbformat": 4,
 "nbformat_minor": 2
}
