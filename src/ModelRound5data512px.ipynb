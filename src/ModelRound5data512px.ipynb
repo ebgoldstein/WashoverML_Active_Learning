{
 "cells": [
  {
   "cell_type": "code",
   "execution_count": 1,
   "metadata": {},
   "outputs": [
    {
     "name": "stdout",
     "output_type": "stream",
     "text": [
      "TF version: 2.3.2\n"
     ]
    }
   ],
   "source": [
    "# import the general stuff\n",
    "import os\n",
    "from os import getcwd\n",
    "import matplotlib.pyplot as plt\n",
    "import pandas as pd \n",
    "import numpy as np\n",
    "from sklearn import metrics\n",
    "import math\n",
    "\n",
    "#import stuff for gradCAM\n",
    "import matplotlib.cm as cm\n",
    "from IPython.display import Image\n",
    "\n",
    "#Set GPU to use\n",
    "os.environ[\"CUDA_DEVICE_ORDER\"] = \"PCI_BUS_ID\"\n",
    "os.environ[\"CUDA_VISIBLE_DEVICES\"] = \"0\"\n",
    "\n",
    "#import the tf stuff\n",
    "import tensorflow as tf\n",
    "from tensorflow.keras import layers\n",
    "from tensorflow.keras import Model\n",
    "\n",
    "from tensorflow.keras.preprocessing.image import ImageDataGenerator\n",
    "\n",
    "#Check TensorFlow Version\n",
    "print('TF version: {}' .format(tf.__version__))"
   ]
  },
  {
   "cell_type": "code",
   "execution_count": 2,
   "metadata": {},
   "outputs": [
    {
     "name": "stdout",
     "output_type": "stream",
     "text": [
      " GPU: /device:GPU:0\n"
     ]
    }
   ],
   "source": [
    "#Check for GPU utilization\n",
    "if tf.test.gpu_device_name():\n",
    "    print(' GPU: {}'.format(tf.test.gpu_device_name()))\n",
    "else:\n",
    "    print(\"No GPU\")"
   ]
  },
  {
   "cell_type": "code",
   "execution_count": 3,
   "metadata": {},
   "outputs": [],
   "source": [
    "# define a callback\n",
    "\n",
    "callbacks = tf.keras.callbacks.EarlyStopping(monitor = 'val_loss', \n",
    "                                             patience = 30, \n",
    "                                             restore_best_weights = True)"
   ]
  },
  {
   "cell_type": "code",
   "execution_count": 4,
   "metadata": {},
   "outputs": [
    {
     "name": "stdout",
     "output_type": "stream",
     "text": [
      "Found 2001 images belonging to 2 classes.\n",
      "Found 499 images belonging to 2 classes.\n"
     ]
    }
   ],
   "source": [
    "#build data generators for training and validaton\n",
    "\n",
    "split = 0.2\n",
    "\n",
    "total_train = 2001\n",
    "total_val = 499\n",
    "\n",
    "\n",
    "# Define dirs and files\n",
    "train_data_dir = '../data/pics/labelertoModel/AllRoundsFive'\n",
    "\n",
    "# Add our data-augmentation parameters to ImageDataGenerator and split data\n",
    "train_datagen = ImageDataGenerator(rescale =1./255.,\n",
    "                                   rotation_range = 90,\n",
    "                                   width_shift_range = 0.5,\n",
    "                                   height_shift_range = 0.5,\n",
    "                                   shear_range = 0.45,\n",
    "                                   zoom_range = 0.2,\n",
    "                                   horizontal_flip = True,\n",
    "                                   vertical_flip = True,\n",
    "                                   validation_split = split)\n",
    "\n",
    "\n",
    "#set batch Size\n",
    "batch_size = 16\n",
    "\n",
    "#set Image size (RGB so imshape is 3)\n",
    "pix_dim = 512\n",
    "imsize = (pix_dim,pix_dim) \n",
    "imshape = (pix_dim,pix_dim,3)\n",
    "\n",
    "# Flow training images in batches \n",
    "train_generator = train_datagen.flow_from_directory(train_data_dir,\n",
    "                                                    batch_size = batch_size,\n",
    "                                                    class_mode = 'binary',\n",
    "                                                    target_size = imsize,\n",
    "                                                    subset='training')\n",
    "\n",
    "# Flow validation images in batches \n",
    "validation_generator =  train_datagen.flow_from_directory(train_data_dir, # same directory as training data,\n",
    "                                                        batch_size = batch_size,\n",
    "                                                        class_mode = 'binary',\n",
    "                                                        target_size = imsize,\n",
    "                                                        subset='validation')"
   ]
  },
  {
   "cell_type": "code",
   "execution_count": 5,
   "metadata": {},
   "outputs": [],
   "source": [
    "# define the metrics\n",
    "acc_metric = tf.keras.metrics.BinaryAccuracy(name='acc')"
   ]
  },
  {
   "cell_type": "code",
   "execution_count": 6,
   "metadata": {},
   "outputs": [
    {
     "name": "stdout",
     "output_type": "stream",
     "text": [
      "shape of last layer is  (None, 16, 16, 512)\n",
      "Model: \"functional_1\"\n",
      "_________________________________________________________________\n",
      "Layer (type)                 Output Shape              Param #   \n",
      "=================================================================\n",
      "input_1 (InputLayer)         [(None, 512, 512, 3)]     0         \n",
      "_________________________________________________________________\n",
      "block1_conv1 (Conv2D)        (None, 512, 512, 64)      1792      \n",
      "_________________________________________________________________\n",
      "block1_conv2 (Conv2D)        (None, 512, 512, 64)      36928     \n",
      "_________________________________________________________________\n",
      "block1_pool (MaxPooling2D)   (None, 256, 256, 64)      0         \n",
      "_________________________________________________________________\n",
      "block2_conv1 (Conv2D)        (None, 256, 256, 128)     73856     \n",
      "_________________________________________________________________\n",
      "block2_conv2 (Conv2D)        (None, 256, 256, 128)     147584    \n",
      "_________________________________________________________________\n",
      "block2_pool (MaxPooling2D)   (None, 128, 128, 128)     0         \n",
      "_________________________________________________________________\n",
      "block3_conv1 (Conv2D)        (None, 128, 128, 256)     295168    \n",
      "_________________________________________________________________\n",
      "block3_conv2 (Conv2D)        (None, 128, 128, 256)     590080    \n",
      "_________________________________________________________________\n",
      "block3_conv3 (Conv2D)        (None, 128, 128, 256)     590080    \n",
      "_________________________________________________________________\n",
      "block3_pool (MaxPooling2D)   (None, 64, 64, 256)       0         \n",
      "_________________________________________________________________\n",
      "block4_conv1 (Conv2D)        (None, 64, 64, 512)       1180160   \n",
      "_________________________________________________________________\n",
      "block4_conv2 (Conv2D)        (None, 64, 64, 512)       2359808   \n",
      "_________________________________________________________________\n",
      "block4_conv3 (Conv2D)        (None, 64, 64, 512)       2359808   \n",
      "_________________________________________________________________\n",
      "block4_pool (MaxPooling2D)   (None, 32, 32, 512)       0         \n",
      "_________________________________________________________________\n",
      "block5_conv1 (Conv2D)        (None, 32, 32, 512)       2359808   \n",
      "_________________________________________________________________\n",
      "block5_conv2 (Conv2D)        (None, 32, 32, 512)       2359808   \n",
      "_________________________________________________________________\n",
      "block5_conv3 (Conv2D)        (None, 32, 32, 512)       2359808   \n",
      "_________________________________________________________________\n",
      "block5_pool (MaxPooling2D)   (None, 16, 16, 512)       0         \n",
      "_________________________________________________________________\n",
      "flatten (Flatten)            (None, 131072)            0         \n",
      "_________________________________________________________________\n",
      "dense (Dense)                (None, 1024)              134218752 \n",
      "_________________________________________________________________\n",
      "dropout (Dropout)            (None, 1024)              0         \n",
      "_________________________________________________________________\n",
      "dense_1 (Dense)              (None, 1)                 1025      \n",
      "=================================================================\n",
      "Total params: 148,934,465\n",
      "Trainable params: 148,934,465\n",
      "Non-trainable params: 0\n",
      "_________________________________________________________________\n"
     ]
    }
   ],
   "source": [
    "#load or build model\n",
    "##########\n",
    "\n",
    "#from scratch:\n",
    "#base model, no top layer, w/ imagenet weights\n",
    "base_model = tf.keras.applications.VGG16(input_shape = imshape, \n",
    "                                             include_top = False, \n",
    "                                             weights = 'imagenet')\n",
    "\n",
    "base_model.trainable = True\n",
    "# add a new classifcation layer\n",
    "\n",
    "final_layer = base_model.get_layer('block5_pool')\n",
    "print('shape of last layer is ', final_layer.output_shape)\n",
    "final_base_output = final_layer.output\n",
    "\n",
    "\n",
    "#add the last layer\n",
    "# Flatten the output layer to 1 dimension\n",
    "x = layers.Flatten()(final_base_output )\n",
    "# Add a fully connected layer with 1,024 hidden units and ReLU activation\n",
    "x = layers.Dense(1024, activation='relu', kernel_regularizer = tf.keras.regularizers.l2(1e-4))(x)\n",
    "# Add a dropout rate of 0.5\n",
    "x = layers.Dropout(0.5)(x)                  \n",
    "# Add a final sigmoid layer for classification\n",
    "x = layers.Dense(1, activation='sigmoid')(x)           \n",
    "\n",
    "model = Model(base_model.input, x) \n",
    "#############\n",
    "model.summary()"
   ]
  },
  {
   "cell_type": "code",
   "execution_count": 7,
   "metadata": {},
   "outputs": [],
   "source": [
    "#build the model\n",
    "model.compile(loss = 'binary_crossentropy',\n",
    "              optimizer = tf.keras.optimizers.RMSprop(lr = 1e-5),\n",
    "              metrics = acc_metric)"
   ]
  },
  {
   "cell_type": "code",
   "execution_count": 8,
   "metadata": {
    "scrolled": true
   },
   "outputs": [
    {
     "name": "stdout",
     "output_type": "stream",
     "text": [
      "Epoch 1/140\n",
      "  2/125 [..............................] - ETA: 17s - loss: 1.4589 - acc: 0.5312WARNING:tensorflow:Callbacks method `on_train_batch_end` is slow compared to the batch time (batch time: 0.0843s vs `on_train_batch_end` time: 0.1934s). Check your callbacks.\n",
      "125/125 [==============================] - 436s 3s/step - loss: 0.9075 - acc: 0.5128 - val_loss: 0.8329 - val_acc: 0.5000\n",
      "Epoch 2/140\n",
      "125/125 [==============================] - 432s 3s/step - loss: 0.8020 - acc: 0.5275 - val_loss: 0.7707 - val_acc: 0.5403\n",
      "Epoch 3/140\n",
      "125/125 [==============================] - 428s 3s/step - loss: 0.7508 - acc: 0.5264 - val_loss: 0.7245 - val_acc: 0.5423\n",
      "Epoch 4/140\n",
      "125/125 [==============================] - 432s 3s/step - loss: 0.7115 - acc: 0.5582 - val_loss: 0.7120 - val_acc: 0.5605\n",
      "Epoch 5/140\n",
      "125/125 [==============================] - 422s 3s/step - loss: 0.6926 - acc: 0.5572 - val_loss: 0.6917 - val_acc: 0.5423\n",
      "Epoch 6/140\n",
      "125/125 [==============================] - 430s 3s/step - loss: 0.6753 - acc: 0.5869 - val_loss: 0.6940 - val_acc: 0.5645\n",
      "Epoch 7/140\n",
      "125/125 [==============================] - 428s 3s/step - loss: 0.6432 - acc: 0.6438 - val_loss: 0.6646 - val_acc: 0.6190\n",
      "Epoch 8/140\n",
      "125/125 [==============================] - 418s 3s/step - loss: 0.6014 - acc: 0.6912 - val_loss: 0.6403 - val_acc: 0.6452\n",
      "Epoch 9/140\n",
      "125/125 [==============================] - 420s 3s/step - loss: 0.5727 - acc: 0.7134 - val_loss: 0.6355 - val_acc: 0.6310\n",
      "Epoch 10/140\n",
      "125/125 [==============================] - 427s 3s/step - loss: 0.5753 - acc: 0.7159 - val_loss: 0.7291 - val_acc: 0.6028\n",
      "Epoch 11/140\n",
      "125/125 [==============================] - 430s 3s/step - loss: 0.5568 - acc: 0.7214 - val_loss: 0.6548 - val_acc: 0.6653\n",
      "Epoch 12/140\n",
      "125/125 [==============================] - 428s 3s/step - loss: 0.5469 - acc: 0.7486 - val_loss: 0.6248 - val_acc: 0.6512\n",
      "Epoch 13/140\n",
      "125/125 [==============================] - 429s 3s/step - loss: 0.5245 - acc: 0.7537 - val_loss: 0.7084 - val_acc: 0.6633\n",
      "Epoch 14/140\n",
      "125/125 [==============================] - 434s 3s/step - loss: 0.5284 - acc: 0.7506 - val_loss: 0.6700 - val_acc: 0.6532\n",
      "Epoch 15/140\n",
      "125/125 [==============================] - 430s 3s/step - loss: 0.5142 - acc: 0.7582 - val_loss: 0.6188 - val_acc: 0.6875\n",
      "Epoch 16/140\n",
      "125/125 [==============================] - 434s 3s/step - loss: 0.5069 - acc: 0.7693 - val_loss: 0.6727 - val_acc: 0.6331\n",
      "Epoch 17/140\n",
      "125/125 [==============================] - 430s 3s/step - loss: 0.4835 - acc: 0.7819 - val_loss: 0.5829 - val_acc: 0.7218\n",
      "Epoch 18/140\n",
      "125/125 [==============================] - 429s 3s/step - loss: 0.5075 - acc: 0.7637 - val_loss: 0.5906 - val_acc: 0.7198\n",
      "Epoch 19/140\n",
      "125/125 [==============================] - 427s 3s/step - loss: 0.4850 - acc: 0.7768 - val_loss: 0.7342 - val_acc: 0.6754\n",
      "Epoch 20/140\n",
      "125/125 [==============================] - 428s 3s/step - loss: 0.4801 - acc: 0.7869 - val_loss: 0.6237 - val_acc: 0.6815\n",
      "Epoch 21/140\n",
      "125/125 [==============================] - 421s 3s/step - loss: 0.4741 - acc: 0.7844 - val_loss: 0.5414 - val_acc: 0.7520\n",
      "Epoch 22/140\n",
      "125/125 [==============================] - 421s 3s/step - loss: 0.4849 - acc: 0.7824 - val_loss: 0.5829 - val_acc: 0.7157\n",
      "Epoch 23/140\n",
      "125/125 [==============================] - 421s 3s/step - loss: 0.4726 - acc: 0.7909 - val_loss: 0.7982 - val_acc: 0.6391\n",
      "Epoch 24/140\n",
      "125/125 [==============================] - 435s 3s/step - loss: 0.4717 - acc: 0.8020 - val_loss: 0.5826 - val_acc: 0.7339\n",
      "Epoch 25/140\n",
      "125/125 [==============================] - 428s 3s/step - loss: 0.4618 - acc: 0.7940 - val_loss: 0.6383 - val_acc: 0.7097\n",
      "Epoch 26/140\n",
      "125/125 [==============================] - 430s 3s/step - loss: 0.4501 - acc: 0.8055 - val_loss: 0.6411 - val_acc: 0.6835\n",
      "Epoch 27/140\n",
      "125/125 [==============================] - 429s 3s/step - loss: 0.4568 - acc: 0.8000 - val_loss: 0.7571 - val_acc: 0.7157\n",
      "Epoch 28/140\n",
      "125/125 [==============================] - 429s 3s/step - loss: 0.4499 - acc: 0.8091 - val_loss: 0.8106 - val_acc: 0.6633\n",
      "Epoch 29/140\n",
      "125/125 [==============================] - 432s 3s/step - loss: 0.4378 - acc: 0.8121 - val_loss: 0.7295 - val_acc: 0.6875\n",
      "Epoch 30/140\n",
      "125/125 [==============================] - 426s 3s/step - loss: 0.4588 - acc: 0.8060 - val_loss: 0.8315 - val_acc: 0.6754\n",
      "Epoch 31/140\n",
      "125/125 [==============================] - 422s 3s/step - loss: 0.4461 - acc: 0.8136 - val_loss: 0.5968 - val_acc: 0.7379\n",
      "Epoch 32/140\n",
      "125/125 [==============================] - 415s 3s/step - loss: 0.4392 - acc: 0.8202 - val_loss: 0.7885 - val_acc: 0.6956\n",
      "Epoch 33/140\n",
      "125/125 [==============================] - 418s 3s/step - loss: 0.4280 - acc: 0.8186 - val_loss: 0.6638 - val_acc: 0.7399\n",
      "Epoch 34/140\n",
      "125/125 [==============================] - 418s 3s/step - loss: 0.4375 - acc: 0.8207 - val_loss: 0.6372 - val_acc: 0.7379\n",
      "Epoch 35/140\n",
      "125/125 [==============================] - 422s 3s/step - loss: 0.4402 - acc: 0.8166 - val_loss: 0.7267 - val_acc: 0.7056\n",
      "Epoch 36/140\n",
      "125/125 [==============================] - 421s 3s/step - loss: 0.4318 - acc: 0.8196 - val_loss: 0.8047 - val_acc: 0.6734\n",
      "Epoch 37/140\n",
      "125/125 [==============================] - 422s 3s/step - loss: 0.4253 - acc: 0.8146 - val_loss: 0.6964 - val_acc: 0.6653\n",
      "Epoch 38/140\n",
      "125/125 [==============================] - 425s 3s/step - loss: 0.4252 - acc: 0.8156 - val_loss: 1.1857 - val_acc: 0.6552\n",
      "Epoch 39/140\n",
      "125/125 [==============================] - 428s 3s/step - loss: 0.4259 - acc: 0.8227 - val_loss: 0.7364 - val_acc: 0.7218\n",
      "Epoch 40/140\n",
      "125/125 [==============================] - 422s 3s/step - loss: 0.4207 - acc: 0.8111 - val_loss: 1.2354 - val_acc: 0.6351\n",
      "Epoch 41/140\n",
      "125/125 [==============================] - 418s 3s/step - loss: 0.4090 - acc: 0.8302 - val_loss: 1.2667 - val_acc: 0.6250\n",
      "Epoch 42/140\n",
      "125/125 [==============================] - 421s 3s/step - loss: 0.4266 - acc: 0.8161 - val_loss: 0.8732 - val_acc: 0.6794\n",
      "Epoch 43/140\n",
      "125/125 [==============================] - 416s 3s/step - loss: 0.4231 - acc: 0.8277 - val_loss: 0.6450 - val_acc: 0.7359\n",
      "Epoch 44/140\n",
      "125/125 [==============================] - 420s 3s/step - loss: 0.4192 - acc: 0.8202 - val_loss: 0.5836 - val_acc: 0.7601\n",
      "Epoch 45/140\n",
      "125/125 [==============================] - 418s 3s/step - loss: 0.4120 - acc: 0.8312 - val_loss: 0.7947 - val_acc: 0.6673\n",
      "Epoch 46/140\n",
      "125/125 [==============================] - 418s 3s/step - loss: 0.4094 - acc: 0.8217 - val_loss: 1.1398 - val_acc: 0.6915\n",
      "Epoch 47/140\n",
      "125/125 [==============================] - 427s 3s/step - loss: 0.4001 - acc: 0.8327 - val_loss: 0.7070 - val_acc: 0.7137\n",
      "Epoch 48/140\n",
      "125/125 [==============================] - 432s 3s/step - loss: 0.4072 - acc: 0.8252 - val_loss: 0.6065 - val_acc: 0.7621\n",
      "Epoch 49/140\n",
      "125/125 [==============================] - 432s 3s/step - loss: 0.4034 - acc: 0.8373 - val_loss: 1.0744 - val_acc: 0.6935\n",
      "Epoch 50/140\n",
      "125/125 [==============================] - 431s 3s/step - loss: 0.3905 - acc: 0.8433 - val_loss: 0.6745 - val_acc: 0.7258\n",
      "Epoch 51/140\n",
      "125/125 [==============================] - 431s 3s/step - loss: 0.4032 - acc: 0.8262 - val_loss: 0.8345 - val_acc: 0.7500\n"
     ]
    }
   ],
   "source": [
    "#train the model\n",
    "history = model.fit(train_generator,\n",
    "                    steps_per_epoch = total_train // batch_size,\n",
    "                    validation_data = validation_generator,\n",
    "                    epochs= 140,\n",
    "                    validation_steps =  total_val // batch_size,\n",
    "                    callbacks =[callbacks])"
   ]
  },
  {
   "cell_type": "code",
   "execution_count": 9,
   "metadata": {},
   "outputs": [
    {
     "data": {
      "image/png": "[encoded data removed]",
      "text/plain": [
       "<Figure size 432x288 with 1 Axes>"
      ]
     },
     "metadata": {
      "needs_background": "light"
     },
     "output_type": "display_data"
    },
    {
     "data": {
      "text/plain": [
       "<Figure size 432x288 with 0 Axes>"
      ]
     },
     "metadata": {},
     "output_type": "display_data"
    },
    {
     "data": {
      "image/png": "[encoded data removed]",
      "text/plain": [
       "<Figure size 432x288 with 1 Axes>"
      ]
     },
     "metadata": {
      "needs_background": "light"
     },
     "output_type": "display_data"
    },
    {
     "data": {
      "text/plain": [
       "<Figure size 432x288 with 0 Axes>"
      ]
     },
     "metadata": {},
     "output_type": "display_data"
    }
   ],
   "source": [
    "#look at the metrics from training\n",
    "%matplotlib inline\n",
    "\n",
    "acc = history.history['acc']\n",
    "val_acc = history.history['val_acc']\n",
    "loss = history.history['loss']\n",
    "val_loss = history.history['val_loss']\n",
    "\n",
    "epochs = range(len(acc))\n",
    "\n",
    "plt.plot(epochs, acc, 'r', label='Training accuracy')\n",
    "plt.plot(epochs, val_acc, 'b', label='Validation accuracy')\n",
    "\n",
    "plt.title('Training and validation accuracy')\n",
    "plt.legend(loc=0)\n",
    "plt.figure()\n",
    "plt.show()\n",
    "\n",
    "plt.plot(epochs, loss, 'r--', label='Training loss')\n",
    "plt.plot(epochs, val_loss, 'b--', label='Validation loss')\n",
    "plt.title('Training and validation loss') \n",
    "plt.legend(loc=0)\n",
    "plt.figure()\n",
    "plt.show()"
   ]
  },
  {
   "cell_type": "code",
   "execution_count": 10,
   "metadata": {},
   "outputs": [
    {
     "name": "stdout",
     "output_type": "stream",
     "text": [
      "WARNING:tensorflow:From /usr/lib/python3/dist-packages/tensorflow/python/training/tracking/tracking.py:111: Model.state_updates (from tensorflow.python.keras.engine.training) is deprecated and will be removed in a future version.\n",
      "Instructions for updating:\n",
      "This property should not be used in TensorFlow 2.0, as updates are applied automatically.\n",
      "WARNING:tensorflow:From /usr/lib/python3/dist-packages/tensorflow/python/training/tracking/tracking.py:111: Layer.updates (from tensorflow.python.keras.engine.base_layer) is deprecated and will be removed in a future version.\n",
      "Instructions for updating:\n",
      "This property should not be used in TensorFlow 2.0, as updates are applied automatically.\n",
      "INFO:tensorflow:Assets written to: ./models/VGG16_model_5_8020split_512px/assets\n"
     ]
    }
   ],
   "source": [
    "#save the model\n",
    "filepath = './models/VGG16_model_5_8020split_512px'\n",
    "model.save(filepath)\n",
    "\n",
    "#load model\n",
    "#model = tf.keras.models.load_model(filepath, compile = True)"
   ]
  },
  {
   "cell_type": "code",
   "execution_count": null,
   "metadata": {},
   "outputs": [],
   "source": []
  }
 ],
 "metadata": {
  "kernelspec": {
   "display_name": "Python 3",
   "language": "python",
   "name": "python3"
  },
  "language_info": {
   "codemirror_mode": {
    "name": "ipython",
    "version": 3
   },
   "file_extension": ".py",
   "mimetype": "text/x-python",
   "name": "python",
   "nbconvert_exporter": "python",
   "pygments_lexer": "ipython3",
   "version": "3.8.10"
  }
 },
 "nbformat": 4,
 "nbformat_minor": 2
}
