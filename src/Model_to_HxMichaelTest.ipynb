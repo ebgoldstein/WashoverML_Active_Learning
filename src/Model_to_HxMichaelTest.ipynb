{
 "cells": [
  {
   "cell_type": "code",
   "execution_count": 1,
   "metadata": {},
   "outputs": [
    {
     "name": "stdout",
     "output_type": "stream",
     "text": [
      "TF version: 2.3.2\n",
      " GPU: /device:GPU:0\n"
     ]
    }
   ],
   "source": [
    "# import the general stuff\n",
    "import os\n",
    "from os import getcwd\n",
    "import matplotlib.pyplot as plt\n",
    "import pandas as pd \n",
    "import numpy as np\n",
    "from sklearn import metrics\n",
    "\n",
    "#import stuff for gradCAM\n",
    "import matplotlib.cm as cm\n",
    "from IPython.display import Image\n",
    "\n",
    "#Set GPU to use\n",
    "os.environ[\"CUDA_DEVICE_ORDER\"] = \"PCI_BUS_ID\"\n",
    "os.environ[\"CUDA_VISIBLE_DEVICES\"] = \"0\"\n",
    "\n",
    "#import the tf stuff\n",
    "import tensorflow as tf\n",
    "from tensorflow.keras import layers\n",
    "from tensorflow.keras import Model\n",
    "\n",
    "from tensorflow.keras.preprocessing.image import ImageDataGenerator\n",
    "\n",
    "#Check TensorFlow Version\n",
    "print('TF version: {}' .format(tf.__version__))\n",
    "\n",
    "#Check for GPU utilization\n",
    "if tf.test.gpu_device_name():\n",
    "    print(' GPU: {}'.format(tf.test.gpu_device_name()))\n",
    "else:\n",
    "    print(\"No GPU\")"
   ]
  },
  {
   "cell_type": "code",
   "execution_count": 2,
   "metadata": {},
   "outputs": [],
   "source": [
    "#set Image size (RGB so imshape is 3)\n",
    "pix_dim = 512\n",
    "imsize = (pix_dim,pix_dim) \n",
    "imshape = (pix_dim,pix_dim,3)"
   ]
  },
  {
   "cell_type": "code",
   "execution_count": 3,
   "metadata": {},
   "outputs": [],
   "source": [
    "#load model\n",
    "filepath = './models/VGG16_model_3_8020split_512px'\n",
    "model = tf.keras.models.load_model(filepath, compile = True)"
   ]
  },
  {
   "cell_type": "code",
   "execution_count": 4,
   "metadata": {},
   "outputs": [],
   "source": [
    "#model.summary()"
   ]
  },
  {
   "cell_type": "code",
   "execution_count": 5,
   "metadata": {},
   "outputs": [
    {
     "name": "stdout",
     "output_type": "stream",
     "text": [
      "              precision    recall  f1-score   support\n",
      "\n",
      "       False       1.00      0.89      0.94        70\n",
      "        True       0.90      1.00      0.95        70\n",
      "\n",
      "    accuracy                           0.94       140\n",
      "   macro avg       0.95      0.94      0.94       140\n",
      "weighted avg       0.95      0.94      0.94       140\n",
      "\n"
     ]
    }
   ],
   "source": [
    "#test the model\n",
    "\n",
    "#define test directory\n",
    "test_dir_wash = '../data/pics/raw/testing_michael/wash/'\n",
    "test_dir_nowash = '../data/pics/raw/testing_michael/nowash'\n",
    "\n",
    "#load images for wash\n",
    "w_test = []\n",
    "w_images = []\n",
    "for img in os.listdir(test_dir_wash):\n",
    "    #pull the name of the image\n",
    "    w_images.append(img)\n",
    "    #pull the image\n",
    "    img = os.path.join(test_dir_wash, img)\n",
    "    img = tf.keras.preprocessing.image.load_img(img,target_size = imsize)\n",
    "    img = tf.keras.preprocessing.image.img_to_array(img)\n",
    "    img = img/255\n",
    "    img = np.expand_dims(img,axis=0)\n",
    "    w_test.append(img)\n",
    "\n",
    "#load images for nowash\n",
    "nw_test = []\n",
    "nw_images = []\n",
    "for img in os.listdir(test_dir_nowash):\n",
    "    #pull the name of the image\n",
    "    nw_images.append(img)\n",
    "    #pull the image\n",
    "    img = os.path.join(test_dir_nowash, img)\n",
    "    img = tf.keras.preprocessing.image.load_img(img,target_size = imsize)\n",
    "    img = tf.keras.preprocessing.image.img_to_array(img)\n",
    "    img = img/255\n",
    "    img = np.expand_dims(img,axis=0)\n",
    "    nw_test.append(img)\n",
    "\n",
    "#make predictions \n",
    "w_test = np.vstack(w_test)\n",
    "w_preds = model.predict(w_test)\n",
    "\n",
    "nw_test = np.vstack(nw_test)\n",
    "nw_preds = model.predict(nw_test)\n",
    "\n",
    "#stack up the predicitons and truth in the same format\n",
    "\n",
    "#vstack pred array\n",
    "all_pred = np.vstack((w_preds,nw_preds))\n",
    "all_pred = all_pred > 0.5\n",
    "\n",
    "#vstack true array\n",
    "all_obs = np.vstack((np.full((70,1), True), np.full((70,1), False)))\n",
    "\n",
    "#report relevant binary classification stats for test data\n",
    "report = metrics.classification_report(all_obs, all_pred)\n",
    "print(report)"
   ]
  },
  {
   "cell_type": "code",
   "execution_count": 6,
   "metadata": {
    "scrolled": true
   },
   "outputs": [
    {
     "data": {
      "text/plain": [
       "array([[62,  8],\n",
       "       [ 0, 70]])"
      ]
     },
     "execution_count": 6,
     "metadata": {},
     "output_type": "execute_result"
    }
   ],
   "source": [
    "#and the confusion matrix for test data\n",
    "CM = metrics.confusion_matrix(all_obs, all_pred)\n",
    "CM"
   ]
  },
  {
   "cell_type": "code",
   "execution_count": 7,
   "metadata": {},
   "outputs": [
    {
     "data": {
      "text/plain": [
       "(62, 8, 0, 70)"
      ]
     },
     "execution_count": 7,
     "metadata": {},
     "output_type": "execute_result"
    }
   ],
   "source": [
    "#check the 4 categories of the Conf. Matrix\n",
    "tn, fp, fn, tp = CM.ravel()\n",
    "(tn, fp, fn, tp)"
   ]
  },
  {
   "cell_type": "code",
   "execution_count": 8,
   "metadata": {},
   "outputs": [
    {
     "data": {
      "text/html": [
       "<div>\n",
       "<style scoped>\n",
       "    .dataframe tbody tr th:only-of-type {\n",
       "        vertical-align: middle;\n",
       "    }\n",
       "\n",
       "    .dataframe tbody tr th {\n",
       "        vertical-align: top;\n",
       "    }\n",
       "\n",
       "    .dataframe thead th {\n",
       "        text-align: right;\n",
       "    }\n",
       "</style>\n",
       "<table border=\"1\" class=\"dataframe\">\n",
       "  <thead>\n",
       "    <tr style=\"text-align: right;\">\n",
       "      <th></th>\n",
       "      <th>Image</th>\n",
       "      <th>Observed</th>\n",
       "      <th>Predicted</th>\n",
       "    </tr>\n",
       "  </thead>\n",
       "  <tbody>\n",
       "    <tr>\n",
       "      <th>0</th>\n",
       "      <td>P28462451.jpg</td>\n",
       "      <td>True</td>\n",
       "      <td>True</td>\n",
       "    </tr>\n",
       "    <tr>\n",
       "      <th>1</th>\n",
       "      <td>P28462711.jpg</td>\n",
       "      <td>True</td>\n",
       "      <td>True</td>\n",
       "    </tr>\n",
       "    <tr>\n",
       "      <th>2</th>\n",
       "      <td>S28464224.jpg</td>\n",
       "      <td>True</td>\n",
       "      <td>True</td>\n",
       "    </tr>\n",
       "    <tr>\n",
       "      <th>3</th>\n",
       "      <td>P28462360.jpg</td>\n",
       "      <td>True</td>\n",
       "      <td>True</td>\n",
       "    </tr>\n",
       "    <tr>\n",
       "      <th>4</th>\n",
       "      <td>S28464084.jpg</td>\n",
       "      <td>True</td>\n",
       "      <td>True</td>\n",
       "    </tr>\n",
       "  </tbody>\n",
       "</table>\n",
       "</div>"
      ],
      "text/plain": [
       "           Image Observed Predicted\n",
       "0  P28462451.jpg     True      True\n",
       "1  P28462711.jpg     True      True\n",
       "2  S28464224.jpg     True      True\n",
       "3  P28462360.jpg     True      True\n",
       "4  S28464084.jpg     True      True"
      ]
     },
     "execution_count": 8,
     "metadata": {},
     "output_type": "execute_result"
    }
   ],
   "source": [
    "#make labels into an array (wash then nowash)\n",
    "nw_images = np.vstack((np.asarray(nw_images)))\n",
    "w_images = np.vstack((np.asarray(w_images)))\n",
    "all_images = np.vstack((w_images, nw_images))\n",
    "\n",
    "#make single df for image names, true class, and predicted class \n",
    "#data = np.hstack((all_labels, all_true, all_pred))\n",
    "results_df = pd.DataFrame(np.hstack((all_images, all_obs, all_pred)), columns=[\"Image\", \"Observed\", \"Predicted\"])\n",
    "results_df.head()"
   ]
  },
  {
   "cell_type": "code",
   "execution_count": 9,
   "metadata": {},
   "outputs": [],
   "source": [
    "#save the df as a csv\n",
    "#results_df.to_csv('../data/tables/VGG16_Michael_results_AL1.csv', index=False)"
   ]
  },
  {
   "cell_type": "code",
   "execution_count": null,
   "metadata": {},
   "outputs": [],
   "source": []
  }
 ],
 "metadata": {
  "kernelspec": {
   "display_name": "Python 3",
   "language": "python",
   "name": "python3"
  },
  "language_info": {
   "codemirror_mode": {
    "name": "ipython",
    "version": 3
   },
   "file_extension": ".py",
   "mimetype": "text/x-python",
   "name": "python",
   "nbconvert_exporter": "python",
   "pygments_lexer": "ipython3",
   "version": "3.8.5"
  }
 },
 "nbformat": 4,
 "nbformat_minor": 4
}
