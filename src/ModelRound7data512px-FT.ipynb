{
 "cells": [
  {
   "cell_type": "code",
   "execution_count": 1,
   "metadata": {},
   "outputs": [
    {
     "name": "stdout",
     "output_type": "stream",
     "text": [
      "TF version: 2.3.2\n"
     ]
    }
   ],
   "source": [
    "# import the general stuff\n",
    "import os\n",
    "from os import getcwd\n",
    "import matplotlib.pyplot as plt\n",
    "import pandas as pd \n",
    "import numpy as np\n",
    "from sklearn import metrics\n",
    "import math\n",
    "\n",
    "#import stuff for gradCAM\n",
    "import matplotlib.cm as cm\n",
    "from IPython.display import Image\n",
    "\n",
    "#Set GPU to use\n",
    "os.environ[\"CUDA_DEVICE_ORDER\"] = \"PCI_BUS_ID\"\n",
    "os.environ[\"CUDA_VISIBLE_DEVICES\"] = \"1\"\n",
    "\n",
    "#import the tf stuff\n",
    "import tensorflow as tf\n",
    "from tensorflow.keras import layers\n",
    "from tensorflow.keras import Model\n",
    "\n",
    "from tensorflow.keras.preprocessing.image import ImageDataGenerator\n",
    "\n",
    "#Check TensorFlow Version\n",
    "print('TF version: {}' .format(tf.__version__))"
   ]
  },
  {
   "cell_type": "code",
   "execution_count": 2,
   "metadata": {},
   "outputs": [
    {
     "name": "stdout",
     "output_type": "stream",
     "text": [
      " GPU: /device:GPU:0\n"
     ]
    }
   ],
   "source": [
    "#Check for GPU utilization\n",
    "if tf.test.gpu_device_name():\n",
    "    print(' GPU: {}'.format(tf.test.gpu_device_name()))\n",
    "else:\n",
    "    print(\"No GPU\")"
   ]
  },
  {
   "cell_type": "code",
   "execution_count": 3,
   "metadata": {},
   "outputs": [],
   "source": [
    "# define a callback\n",
    "\n",
    "callbacks = tf.keras.callbacks.EarlyStopping(monitor = 'val_loss', \n",
    "                                             patience = 10, \n",
    "                                             restore_best_weights = True)"
   ]
  },
  {
   "cell_type": "code",
   "execution_count": 4,
   "metadata": {},
   "outputs": [
    {
     "name": "stdout",
     "output_type": "stream",
     "text": [
      "Found 2741 images belonging to 2 classes.\n",
      "Found 684 images belonging to 2 classes.\n"
     ]
    }
   ],
   "source": [
    "#build data generators for training and validaton\n",
    "\n",
    "split = 0.2\n",
    "\n",
    "# Define dirs and files\n",
    "train_data_dir = '../data/pics/labelertoModel/AllRoundsSeven'\n",
    "\n",
    "# Add our data-augmentation parameters to ImageDataGenerator and split data\n",
    "train_datagen = ImageDataGenerator(rescale =1./255.,\n",
    "                                   rotation_range = 90,\n",
    "                                   width_shift_range = 0.5,\n",
    "                                   height_shift_range = 0.5,\n",
    "                                   shear_range = 0.45,\n",
    "                                   zoom_range = 0.2,\n",
    "                                   horizontal_flip = True,\n",
    "                                   vertical_flip = True,\n",
    "                                   validation_split = split)\n",
    "\n",
    "\n",
    "#set batch Size\n",
    "batch_size = 16\n",
    "\n",
    "#set Image size (RGB so imshape is 3)\n",
    "pix_dim = 512\n",
    "imsize = (pix_dim,pix_dim) \n",
    "imshape = (pix_dim,pix_dim,3)\n",
    "\n",
    "# Flow training images in batches \n",
    "train_generator = train_datagen.flow_from_directory(train_data_dir,\n",
    "                                                    batch_size = batch_size,\n",
    "                                                    class_mode = 'binary',\n",
    "                                                    target_size = imsize,\n",
    "                                                    subset='training')\n",
    "\n",
    "# Flow validation images in batches \n",
    "validation_generator =  train_datagen.flow_from_directory(train_data_dir, # same directory as training data,\n",
    "                                                        batch_size = batch_size,\n",
    "                                                        class_mode = 'binary',\n",
    "                                                        target_size = imsize,\n",
    "                                                        subset='validation')"
   ]
  },
  {
   "cell_type": "code",
   "execution_count": 5,
   "metadata": {},
   "outputs": [],
   "source": [
    "total_train = 2741\n",
    "total_val = 684"
   ]
  },
  {
   "cell_type": "code",
   "execution_count": 6,
   "metadata": {},
   "outputs": [],
   "source": [
    "# define the metrics\n",
    "acc_metric = tf.keras.metrics.BinaryAccuracy(name='acc')"
   ]
  },
  {
   "cell_type": "code",
   "execution_count": 7,
   "metadata": {},
   "outputs": [
    {
     "name": "stdout",
     "output_type": "stream",
     "text": [
      "shape of last layer is  (None, 16, 16, 512)\n",
      "Model: \"functional_1\"\n",
      "_________________________________________________________________\n",
      "Layer (type)                 Output Shape              Param #   \n",
      "=================================================================\n",
      "input_1 (InputLayer)         [(None, 512, 512, 3)]     0         \n",
      "_________________________________________________________________\n",
      "block1_conv1 (Conv2D)        (None, 512, 512, 64)      1792      \n",
      "_________________________________________________________________\n",
      "block1_conv2 (Conv2D)        (None, 512, 512, 64)      36928     \n",
      "_________________________________________________________________\n",
      "block1_pool (MaxPooling2D)   (None, 256, 256, 64)      0         \n",
      "_________________________________________________________________\n",
      "block2_conv1 (Conv2D)        (None, 256, 256, 128)     73856     \n",
      "_________________________________________________________________\n",
      "block2_conv2 (Conv2D)        (None, 256, 256, 128)     147584    \n",
      "_________________________________________________________________\n",
      "block2_pool (MaxPooling2D)   (None, 128, 128, 128)     0         \n",
      "_________________________________________________________________\n",
      "block3_conv1 (Conv2D)        (None, 128, 128, 256)     295168    \n",
      "_________________________________________________________________\n",
      "block3_conv2 (Conv2D)        (None, 128, 128, 256)     590080    \n",
      "_________________________________________________________________\n",
      "block3_conv3 (Conv2D)        (None, 128, 128, 256)     590080    \n",
      "_________________________________________________________________\n",
      "block3_pool (MaxPooling2D)   (None, 64, 64, 256)       0         \n",
      "_________________________________________________________________\n",
      "block4_conv1 (Conv2D)        (None, 64, 64, 512)       1180160   \n",
      "_________________________________________________________________\n",
      "block4_conv2 (Conv2D)        (None, 64, 64, 512)       2359808   \n",
      "_________________________________________________________________\n",
      "block4_conv3 (Conv2D)        (None, 64, 64, 512)       2359808   \n",
      "_________________________________________________________________\n",
      "block4_pool (MaxPooling2D)   (None, 32, 32, 512)       0         \n",
      "_________________________________________________________________\n",
      "block5_conv1 (Conv2D)        (None, 32, 32, 512)       2359808   \n",
      "_________________________________________________________________\n",
      "block5_conv2 (Conv2D)        (None, 32, 32, 512)       2359808   \n",
      "_________________________________________________________________\n",
      "block5_conv3 (Conv2D)        (None, 32, 32, 512)       2359808   \n",
      "_________________________________________________________________\n",
      "block5_pool (MaxPooling2D)   (None, 16, 16, 512)       0         \n",
      "_________________________________________________________________\n",
      "flatten (Flatten)            (None, 131072)            0         \n",
      "_________________________________________________________________\n",
      "dense (Dense)                (None, 1024)              134218752 \n",
      "_________________________________________________________________\n",
      "dense_1 (Dense)              (None, 1024)              1049600   \n",
      "_________________________________________________________________\n",
      "dropout (Dropout)            (None, 1024)              0         \n",
      "_________________________________________________________________\n",
      "dense_2 (Dense)              (None, 1)                 1025      \n",
      "=================================================================\n",
      "Total params: 149,984,065\n",
      "Trainable params: 135,269,377\n",
      "Non-trainable params: 14,714,688\n",
      "_________________________________________________________________\n"
     ]
    }
   ],
   "source": [
    "#load or build model\n",
    "##########\n",
    "\n",
    "#from scratch:\n",
    "#base model, no top layer, w/ imagenet weights\n",
    "base_model = tf.keras.applications.VGG16(input_shape = imshape, \n",
    "                                             include_top = False, \n",
    "                                             weights = 'imagenet')\n",
    "\n",
    "base_model.trainable = False\n",
    "# add a new classifcation layer\n",
    "\n",
    "final_layer = base_model.get_layer('block5_pool')\n",
    "print('shape of last layer is ', final_layer.output_shape)\n",
    "final_base_output = final_layer.output\n",
    "\n",
    "\n",
    "#add the last layer\n",
    "# Flatten the output layer to 1 dimension\n",
    "x = layers.Flatten()(final_base_output )\n",
    "# Add a fully connected layer with 1,024 hidden units and ReLU activation\n",
    "x = layers.Dense(1024, activation='relu', kernel_regularizer = tf.keras.regularizers.l2(1e-4))(x)\n",
    "# Add a fully connected layer with 1,024 hidden units and ReLU activation\n",
    "x = layers.Dense(1024, activation='relu', kernel_regularizer = tf.keras.regularizers.l2(1e-4))(x)\n",
    "# Add a dropout rate of 0.5\n",
    "x = layers.Dropout(0.5)(x)                  \n",
    "# Add a final sigmoid layer for classification\n",
    "x = layers.Dense(1, activation='sigmoid')(x)           \n",
    "\n",
    "model = Model(base_model.input, x) \n",
    "#############\n",
    "model.summary()"
   ]
  },
  {
   "cell_type": "code",
   "execution_count": 8,
   "metadata": {},
   "outputs": [],
   "source": [
    "#build the model\n",
    "model.compile(loss = 'binary_crossentropy',\n",
    "              optimizer = tf.keras.optimizers.RMSprop(lr = 1e-5),\n",
    "              metrics = acc_metric)"
   ]
  },
  {
   "cell_type": "code",
   "execution_count": 9,
   "metadata": {
    "scrolled": true
   },
   "outputs": [
    {
     "name": "stdout",
     "output_type": "stream",
     "text": [
      "Epoch 1/100\n",
      "171/171 [==============================] - 615s 4s/step - loss: 1.0121 - acc: 0.5237 - val_loss: 0.9338 - val_acc: 0.5387\n",
      "Epoch 2/100\n",
      "171/171 [==============================] - 601s 4s/step - loss: 0.9107 - acc: 0.5571 - val_loss: 0.8665 - val_acc: 0.5789\n",
      "Epoch 3/100\n",
      "171/171 [==============================] - 599s 4s/step - loss: 0.8371 - acc: 0.5886 - val_loss: 0.8533 - val_acc: 0.5580\n",
      "Epoch 4/100\n",
      "171/171 [==============================] - 599s 4s/step - loss: 0.8005 - acc: 0.6136 - val_loss: 0.9087 - val_acc: 0.5283\n",
      "Epoch 5/100\n",
      "171/171 [==============================] - 595s 3s/step - loss: 0.7633 - acc: 0.6319 - val_loss: 0.7935 - val_acc: 0.5744\n",
      "Epoch 6/100\n",
      "171/171 [==============================] - 598s 3s/step - loss: 0.7396 - acc: 0.6521 - val_loss: 0.7942 - val_acc: 0.5923\n",
      "Epoch 7/100\n",
      "171/171 [==============================] - 597s 3s/step - loss: 0.7221 - acc: 0.6569 - val_loss: 0.7879 - val_acc: 0.5759\n",
      "Epoch 8/100\n",
      "171/171 [==============================] - 602s 4s/step - loss: 0.7159 - acc: 0.6521 - val_loss: 0.7779 - val_acc: 0.5893\n",
      "Epoch 9/100\n",
      "171/171 [==============================] - 598s 3s/step - loss: 0.6869 - acc: 0.6774 - val_loss: 0.7585 - val_acc: 0.5997\n",
      "Epoch 10/100\n",
      "171/171 [==============================] - 597s 3s/step - loss: 0.6870 - acc: 0.6712 - val_loss: 0.7685 - val_acc: 0.5863\n",
      "Epoch 11/100\n",
      "171/171 [==============================] - 593s 3s/step - loss: 0.6779 - acc: 0.6756 - val_loss: 0.7612 - val_acc: 0.6116\n",
      "Epoch 12/100\n",
      "171/171 [==============================] - 594s 3s/step - loss: 0.6675 - acc: 0.6785 - val_loss: 0.7684 - val_acc: 0.5714\n",
      "Epoch 13/100\n",
      "171/171 [==============================] - 596s 3s/step - loss: 0.6593 - acc: 0.6793 - val_loss: 0.7843 - val_acc: 0.5625\n",
      "Epoch 14/100\n",
      "171/171 [==============================] - 597s 3s/step - loss: 0.6508 - acc: 0.6807 - val_loss: 0.7193 - val_acc: 0.6086\n",
      "Epoch 15/100\n",
      "171/171 [==============================] - 590s 3s/step - loss: 0.6423 - acc: 0.6954 - val_loss: 0.8154 - val_acc: 0.5551\n",
      "Epoch 16/100\n",
      "171/171 [==============================] - 588s 3s/step - loss: 0.6406 - acc: 0.6950 - val_loss: 0.7223 - val_acc: 0.6250\n",
      "Epoch 17/100\n",
      "171/171 [==============================] - 589s 3s/step - loss: 0.6310 - acc: 0.6884 - val_loss: 0.7301 - val_acc: 0.6116\n",
      "Epoch 18/100\n",
      "171/171 [==============================] - 588s 3s/step - loss: 0.6366 - acc: 0.6822 - val_loss: 0.7113 - val_acc: 0.6131\n",
      "Epoch 19/100\n",
      "171/171 [==============================] - 589s 3s/step - loss: 0.6185 - acc: 0.6972 - val_loss: 0.7256 - val_acc: 0.5938\n",
      "Epoch 20/100\n",
      "171/171 [==============================] - 589s 3s/step - loss: 0.6096 - acc: 0.7064 - val_loss: 0.7075 - val_acc: 0.6205\n",
      "Epoch 21/100\n",
      "171/171 [==============================] - 591s 3s/step - loss: 0.6006 - acc: 0.7138 - val_loss: 0.7160 - val_acc: 0.6235\n",
      "Epoch 22/100\n",
      "171/171 [==============================] - 587s 3s/step - loss: 0.6013 - acc: 0.7127 - val_loss: 0.7803 - val_acc: 0.5744\n",
      "Epoch 23/100\n",
      "171/171 [==============================] - 588s 3s/step - loss: 0.6084 - acc: 0.7086 - val_loss: 0.7169 - val_acc: 0.5997\n",
      "Epoch 24/100\n",
      "171/171 [==============================] - 590s 3s/step - loss: 0.5963 - acc: 0.7189 - val_loss: 0.7039 - val_acc: 0.6265\n",
      "Epoch 25/100\n",
      "171/171 [==============================] - 589s 3s/step - loss: 0.6013 - acc: 0.7028 - val_loss: 0.6978 - val_acc: 0.6131\n",
      "Epoch 26/100\n",
      "171/171 [==============================] - 586s 3s/step - loss: 0.5905 - acc: 0.7167 - val_loss: 0.7387 - val_acc: 0.5938\n",
      "Epoch 27/100\n",
      "171/171 [==============================] - 584s 3s/step - loss: 0.5910 - acc: 0.7207 - val_loss: 0.7214 - val_acc: 0.6071\n",
      "Epoch 28/100\n",
      "171/171 [==============================] - 587s 3s/step - loss: 0.5929 - acc: 0.7053 - val_loss: 0.7055 - val_acc: 0.6161\n",
      "Epoch 29/100\n",
      "171/171 [==============================] - 587s 3s/step - loss: 0.5988 - acc: 0.7035 - val_loss: 0.6996 - val_acc: 0.6473\n",
      "Epoch 30/100\n",
      "171/171 [==============================] - 586s 3s/step - loss: 0.5899 - acc: 0.7174 - val_loss: 0.7264 - val_acc: 0.6101\n",
      "Epoch 31/100\n",
      "171/171 [==============================] - 587s 3s/step - loss: 0.5863 - acc: 0.7189 - val_loss: 0.7393 - val_acc: 0.5952\n",
      "Epoch 32/100\n",
      "171/171 [==============================] - 582s 3s/step - loss: 0.5803 - acc: 0.7160 - val_loss: 0.7176 - val_acc: 0.6205\n",
      "Epoch 33/100\n",
      "171/171 [==============================] - 592s 3s/step - loss: 0.5896 - acc: 0.7226 - val_loss: 0.7133 - val_acc: 0.6146\n",
      "Epoch 34/100\n",
      "171/171 [==============================] - 597s 3s/step - loss: 0.5780 - acc: 0.7207 - val_loss: 0.7003 - val_acc: 0.6310\n",
      "Epoch 35/100\n",
      "171/171 [==============================] - 598s 3s/step - loss: 0.5791 - acc: 0.7182 - val_loss: 0.7113 - val_acc: 0.5848\n"
     ]
    }
   ],
   "source": [
    "#train the model\n",
    "history = model.fit(train_generator,\n",
    "                    steps_per_epoch = total_train // batch_size,\n",
    "                    validation_data = validation_generator,\n",
    "                    epochs= 100,\n",
    "                    validation_steps =  total_val // batch_size,\n",
    "                    callbacks =[callbacks])"
   ]
  },
  {
   "cell_type": "code",
   "execution_count": 10,
   "metadata": {},
   "outputs": [
    {
     "data": {
      "image/png": "[encoded data removed]",
      "text/plain": [
       "<Figure size 432x288 with 1 Axes>"
      ]
     },
     "metadata": {
      "needs_background": "light"
     },
     "output_type": "display_data"
    },
    {
     "data": {
      "text/plain": [
       "<Figure size 432x288 with 0 Axes>"
      ]
     },
     "metadata": {},
     "output_type": "display_data"
    },
    {
     "data": {
      "image/png": "[encoded data removed]",
      "text/plain": [
       "<Figure size 432x288 with 1 Axes>"
      ]
     },
     "metadata": {
      "needs_background": "light"
     },
     "output_type": "display_data"
    },
    {
     "data": {
      "text/plain": [
       "<Figure size 432x288 with 0 Axes>"
      ]
     },
     "metadata": {},
     "output_type": "display_data"
    }
   ],
   "source": [
    "#look at the metrics from training\n",
    "%matplotlib inline\n",
    "\n",
    "acc = history.history['acc']\n",
    "val_acc = history.history['val_acc']\n",
    "loss = history.history['loss']\n",
    "val_loss = history.history['val_loss']\n",
    "\n",
    "epochs = range(len(acc))\n",
    "\n",
    "plt.plot(epochs, acc, 'r', label='Training accuracy')\n",
    "plt.plot(epochs, val_acc, 'b', label='Validation accuracy')\n",
    "\n",
    "plt.title('Training and validation accuracy')\n",
    "plt.legend(loc=0)\n",
    "plt.figure()\n",
    "plt.show()\n",
    "\n",
    "plt.plot(epochs, loss, 'r--', label='Training loss')\n",
    "plt.plot(epochs, val_loss, 'b--', label='Validation loss')\n",
    "plt.title('Training and validation loss') \n",
    "plt.legend(loc=0)\n",
    "plt.figure()\n",
    "plt.show()"
   ]
  },
  {
   "cell_type": "code",
   "execution_count": 13,
   "metadata": {},
   "outputs": [
    {
     "name": "stdout",
     "output_type": "stream",
     "text": [
      "Epoch 1/10\n",
      "171/171 [==============================] - 603s 4s/step - loss: 0.4414 - acc: 0.7827 - val_loss: 0.6445 - val_acc: 0.6935\n",
      "Epoch 2/10\n",
      "171/171 [==============================] - 599s 4s/step - loss: 0.4369 - acc: 0.8253 - val_loss: 0.7233 - val_acc: 0.6339\n",
      "Epoch 3/10\n",
      "171/171 [==============================] - 595s 3s/step - loss: 0.4343 - acc: 0.8275 - val_loss: 0.7649 - val_acc: 0.6726\n",
      "Epoch 4/10\n",
      "171/171 [==============================] - 593s 3s/step - loss: 0.4304 - acc: 0.8183 - val_loss: 0.7428 - val_acc: 0.6607\n",
      "Epoch 5/10\n",
      "171/171 [==============================] - 594s 3s/step - loss: 0.4335 - acc: 0.8294 - val_loss: 0.6764 - val_acc: 0.6801\n",
      "Epoch 6/10\n",
      "171/171 [==============================] - 594s 3s/step - loss: 0.4202 - acc: 0.8279 - val_loss: 0.7110 - val_acc: 0.6994\n",
      "Epoch 7/10\n",
      "171/171 [==============================] - 590s 3s/step - loss: 0.4058 - acc: 0.8374 - val_loss: 0.7827 - val_acc: 0.6875\n",
      "Epoch 8/10\n",
      "171/171 [==============================] - 592s 3s/step - loss: 0.4208 - acc: 0.8341 - val_loss: 0.7258 - val_acc: 0.7098\n",
      "Epoch 9/10\n",
      "171/171 [==============================] - 594s 3s/step - loss: 0.3951 - acc: 0.8404 - val_loss: 0.7400 - val_acc: 0.6652\n",
      "Epoch 10/10\n",
      "171/171 [==============================] - 594s 3s/step - loss: 0.3916 - acc: 0.8440 - val_loss: 1.0552 - val_acc: 0.6756\n"
     ]
    },
    {
     "data": {
      "image/png": "[encoded data removed]",
      "text/plain": [
       "<Figure size 432x288 with 1 Axes>"
      ]
     },
     "metadata": {
      "needs_background": "light"
     },
     "output_type": "display_data"
    },
    {
     "data": {
      "text/plain": [
       "<Figure size 432x288 with 0 Axes>"
      ]
     },
     "metadata": {},
     "output_type": "display_data"
    },
    {
     "data": {
      "image/png": "[encoded data removed]",
      "text/plain": [
       "<Figure size 432x288 with 1 Axes>"
      ]
     },
     "metadata": {
      "needs_background": "light"
     },
     "output_type": "display_data"
    },
    {
     "data": {
      "text/plain": [
       "<Figure size 432x288 with 0 Axes>"
      ]
     },
     "metadata": {},
     "output_type": "display_data"
    }
   ],
   "source": [
    "#Full model finetune\n",
    "base_model.trainable = True\n",
    "\n",
    "#build the model\n",
    "model.compile(loss = 'binary_crossentropy',\n",
    "              optimizer = tf.keras.optimizers.RMSprop(lr = 1e-5),\n",
    "              metrics = acc_metric)\n",
    "\n",
    "#train the model\n",
    "history = model.fit(train_generator,\n",
    "                    steps_per_epoch = total_train // batch_size,\n",
    "                    validation_data = validation_generator,\n",
    "                    epochs= 20,\n",
    "                    validation_steps =  total_val // batch_size,\n",
    "                    callbacks =[callbacks])\n",
    "\n",
    "#look at the metrics from training\n",
    "%matplotlib inline\n",
    "acc = history.history['acc']\n",
    "val_acc = history.history['val_acc']\n",
    "loss = history.history['loss']\n",
    "val_loss = history.history['val_loss']\n",
    "\n",
    "epochs = range(len(acc))\n",
    "\n",
    "plt.plot(epochs, acc, 'r', label='Training accuracy')\n",
    "plt.plot(epochs, val_acc, 'b', label='Validation accuracy')\n",
    "\n",
    "plt.title('Training and validation accuracy')\n",
    "plt.legend(loc=0)\n",
    "plt.figure()\n",
    "plt.show()\n",
    "\n",
    "plt.plot(epochs, loss, 'r--', label='Training loss')\n",
    "plt.plot(epochs, val_loss, 'b--', label='Validation loss')\n",
    "plt.title('Training and validation loss') \n",
    "plt.legend(loc=0)\n",
    "plt.figure()\n",
    "plt.show()\n"
   ]
  },
  {
   "cell_type": "code",
   "execution_count": 14,
   "metadata": {},
   "outputs": [
    {
     "name": "stdout",
     "output_type": "stream",
     "text": [
      "INFO:tensorflow:Assets written to: ./models/VGG16_model_7_8020split_512px_2stepFT/assets\n"
     ]
    }
   ],
   "source": [
    "#save the model\n",
    "filepath = './models/VGG16_model_7_8020split_512px_2stepFT'\n",
    "model.save(filepath)\n",
    "\n",
    "#load model\n",
    "#model = tf.keras.models.load_model(filepath, compile = True)"
   ]
  },
  {
   "cell_type": "code",
   "execution_count": null,
   "metadata": {},
   "outputs": [],
   "source": []
  }
 ],
 "metadata": {
  "kernelspec": {
   "display_name": "Python 3",
   "language": "python",
   "name": "python3"
  },
  "language_info": {
   "codemirror_mode": {
    "name": "ipython",
    "version": 3
   },
   "file_extension": ".py",
   "mimetype": "text/x-python",
   "name": "python",
   "nbconvert_exporter": "python",
   "pygments_lexer": "ipython3",
   "version": "3.8.10"
  }
 },
 "nbformat": 4,
 "nbformat_minor": 2
}
