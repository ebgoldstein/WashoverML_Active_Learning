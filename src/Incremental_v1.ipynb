{
 "cells": [
  {
   "cell_type": "code",
   "execution_count": 1,
   "metadata": {},
   "outputs": [
    {
     "name": "stdout",
     "output_type": "stream",
     "text": [
      "TF version: 2.3.0\n"
     ]
    }
   ],
   "source": [
    "# import the general stuff\n",
    "import os\n",
    "from os import getcwd\n",
    "import matplotlib.pyplot as plt\n",
    "import pandas as pd \n",
    "import numpy as np\n",
    "from sklearn import metrics\n",
    "import math\n",
    "\n",
    "#import stuff for gradCAM\n",
    "import matplotlib.cm as cm\n",
    "from IPython.display import Image\n",
    "\n",
    "#import the tf stuff\n",
    "import tensorflow as tf\n",
    "from tensorflow.keras import layers\n",
    "from tensorflow.keras import Model\n",
    "\n",
    "from tensorflow.keras.preprocessing.image import ImageDataGenerator\n",
    "\n",
    "#Check TensorFlow Version\n",
    "print('TF version: {}' .format(tf.__version__))"
   ]
  },
  {
   "cell_type": "code",
   "execution_count": 3,
   "metadata": {},
   "outputs": [
    {
     "name": "stdout",
     "output_type": "stream",
     "text": [
      "No GPU\n"
     ]
    }
   ],
   "source": [
    "#Check for GPU utilization\n",
    "if tf.test.gpu_device_name():\n",
    "    print(' GPU: {}'.format(tf.test.gpu_device_name()))\n",
    "else:\n",
    "    print(\"No GPU\")"
   ]
  },
  {
   "cell_type": "code",
   "execution_count": 3,
   "metadata": {},
   "outputs": [],
   "source": [
    "# define a callback\n",
    "\n",
    "callbacks = tf.keras.callbacks.EarlyStopping(monitor = 'val_acc', \n",
    "                                             patience = 30, \n",
    "                                             restore_best_weights = True)"
   ]
  },
  {
   "cell_type": "code",
   "execution_count": 4,
   "metadata": {},
   "outputs": [
    {
     "name": "stdout",
     "output_type": "stream",
     "text": [
      "Found 241 images belonging to 2 classes.\n",
      "Found 59 images belonging to 2 classes.\n"
     ]
    }
   ],
   "source": [
    "#build data generators for training and validaton\n",
    "\n",
    "split = 0.2\n",
    "\n",
    "total_train = 241\n",
    "total_val = 59\n",
    "\n",
    "\n",
    "# Define dirs and files\n",
    "train_data_dir = '../data/Split2'\n",
    "\n",
    "# Add our data-augmentation parameters to ImageDataGenerator and split data\n",
    "train_datagen = ImageDataGenerator(rescale =1./255.,\n",
    "                                   rotation_range = 90,\n",
    "                                   width_shift_range = 0.5,\n",
    "                                   height_shift_range = 0.5,\n",
    "                                   shear_range = 0.45,\n",
    "                                   zoom_range = 0.2,\n",
    "                                   horizontal_flip = True,\n",
    "                                   vertical_flip = True,\n",
    "                                   validation_split = split)\n",
    "\n",
    "\n",
    "#set batch Size\n",
    "batch_size = 8\n",
    "\n",
    "#set Image size (RGB so imshape is 3)\n",
    "pix_dim = 416\n",
    "imsize = (pix_dim,pix_dim) \n",
    "imshape = (pix_dim,pix_dim,3)\n",
    "\n",
    "# Flow training images in batches \n",
    "train_generator = train_datagen.flow_from_directory(train_data_dir,\n",
    "                                                    batch_size = batch_size,\n",
    "                                                    class_mode = 'binary',\n",
    "                                                    target_size = imsize,\n",
    "                                                    subset='training')\n",
    "\n",
    "# Flow validation images in batches \n",
    "validation_generator =  train_datagen.flow_from_directory(train_data_dir, # same directory as training data,\n",
    "                                                        batch_size = batch_size,\n",
    "                                                        class_mode = 'binary',\n",
    "                                                        target_size = imsize,\n",
    "                                                        subset='validation')"
   ]
  },
  {
   "cell_type": "code",
   "execution_count": 5,
   "metadata": {},
   "outputs": [],
   "source": [
    "#weights for imbalanced data\n",
    "#https://keras.io/examples/vision/xray_classification_with_tpus/\n",
    "\n",
    "#initial_bias = np.log([total_nowash / total_wash])\n",
    "#print(\"Initial bias: {:.5f}\".format(initial_bias[0]))\n",
    "\n",
    "#total_images = total_wash + total_nowash\n",
    "#weight_for_0 = (1 / total_nowash) * (total_images) / 2.0\n",
    "#weight_for_1 = (1 / total_wash) * (total_images) / 2.0\n",
    "\n",
    "#class_weight = {0: weight_for_0, 1: weight_for_1}\n",
    "\n",
    "#print(\"Weight for class 0: {:.2f}\".format(weight_for_0))\n",
    "#print(\"Weight for class 1: {:.2f}\".format(weight_for_1))"
   ]
  },
  {
   "cell_type": "code",
   "execution_count": 6,
   "metadata": {},
   "outputs": [],
   "source": [
    "# define the metrics\n",
    "acc_metric = tf.keras.metrics.BinaryAccuracy(name='acc')"
   ]
  },
  {
   "cell_type": "code",
   "execution_count": 7,
   "metadata": {},
   "outputs": [
    {
     "name": "stdout",
     "output_type": "stream",
     "text": [
      "Model: \"functional_5\"\n",
      "_________________________________________________________________\n",
      "Layer (type)                 Output Shape              Param #   \n",
      "=================================================================\n",
      "input_3 (InputLayer)         [(None, 416, 416, 3)]     0         \n",
      "_________________________________________________________________\n",
      "block1_conv1 (Conv2D)        (None, 416, 416, 64)      1792      \n",
      "_________________________________________________________________\n",
      "block1_conv2 (Conv2D)        (None, 416, 416, 64)      36928     \n",
      "_________________________________________________________________\n",
      "block1_pool (MaxPooling2D)   (None, 208, 208, 64)      0         \n",
      "_________________________________________________________________\n",
      "block2_conv1 (Conv2D)        (None, 208, 208, 128)     73856     \n",
      "_________________________________________________________________\n",
      "block2_conv2 (Conv2D)        (None, 208, 208, 128)     147584    \n",
      "_________________________________________________________________\n",
      "block2_pool (MaxPooling2D)   (None, 104, 104, 128)     0         \n",
      "_________________________________________________________________\n",
      "block3_conv1 (Conv2D)        (None, 104, 104, 256)     295168    \n",
      "_________________________________________________________________\n",
      "block3_conv2 (Conv2D)        (None, 104, 104, 256)     590080    \n",
      "_________________________________________________________________\n",
      "block3_conv3 (Conv2D)        (None, 104, 104, 256)     590080    \n",
      "_________________________________________________________________\n",
      "block3_pool (MaxPooling2D)   (None, 52, 52, 256)       0         \n",
      "_________________________________________________________________\n",
      "block4_conv1 (Conv2D)        (None, 52, 52, 512)       1180160   \n",
      "_________________________________________________________________\n",
      "block4_conv2 (Conv2D)        (None, 52, 52, 512)       2359808   \n",
      "_________________________________________________________________\n",
      "block4_conv3 (Conv2D)        (None, 52, 52, 512)       2359808   \n",
      "_________________________________________________________________\n",
      "block4_pool (MaxPooling2D)   (None, 26, 26, 512)       0         \n",
      "_________________________________________________________________\n",
      "block5_conv1 (Conv2D)        (None, 26, 26, 512)       2359808   \n",
      "_________________________________________________________________\n",
      "block5_conv2 (Conv2D)        (None, 26, 26, 512)       2359808   \n",
      "_________________________________________________________________\n",
      "block5_conv3 (Conv2D)        (None, 26, 26, 512)       2359808   \n",
      "_________________________________________________________________\n",
      "block5_pool (MaxPooling2D)   (None, 13, 13, 512)       0         \n",
      "_________________________________________________________________\n",
      "flatten_2 (Flatten)          (None, 86528)             0         \n",
      "_________________________________________________________________\n",
      "dense_4 (Dense)              (None, 1024)              88605696  \n",
      "_________________________________________________________________\n",
      "dropout_2 (Dropout)          (None, 1024)              0         \n",
      "_________________________________________________________________\n",
      "dense_5 (Dense)              (None, 1)                 1025      \n",
      "=================================================================\n",
      "Total params: 103,321,409\n",
      "Trainable params: 103,321,409\n",
      "Non-trainable params: 0\n",
      "_________________________________________________________________\n"
     ]
    }
   ],
   "source": [
    "# load model\n",
    "\n",
    "#model path\n",
    "model_path = './saved_VGG16_retrain'\n",
    "\n",
    "#load it in to tf\n",
    "model = tf.keras.models.load_model(model_path, compile = True)\n",
    "\n",
    "model.summary()"
   ]
  },
  {
   "cell_type": "code",
   "execution_count": 8,
   "metadata": {},
   "outputs": [
    {
     "name": "stdout",
     "output_type": "stream",
     "text": [
      "Number of layers in model:  23\n"
     ]
    }
   ],
   "source": [
    "# layers in the base model\n",
    "print(\"Number of layers in model: \", len(model.layers))"
   ]
  },
  {
   "cell_type": "code",
   "execution_count": 9,
   "metadata": {},
   "outputs": [],
   "source": [
    "#finetuning\n",
    "model.trainable = True\n",
    "\n",
    "# Fine-tune from this layer onwards (16 is Block5 Conv1)\n",
    "#fine_tune_at = 20\n",
    "\n",
    "# Freeze all the layers before the `fine_tune_at` layer\n",
    "#for layer in model.layers[:fine_tune_at]:\n",
    "#  layer.trainable =  False\n"
   ]
  },
  {
   "cell_type": "code",
   "execution_count": 10,
   "metadata": {},
   "outputs": [],
   "source": [
    "#build the model\n",
    "model.compile(loss = 'binary_crossentropy',\n",
    "              optimizer = tf.keras.optimizers.RMSprop(lr = 1e-5, decay = 1e-5),\n",
    "              metrics = acc_metric)"
   ]
  },
  {
   "cell_type": "code",
   "execution_count": 11,
   "metadata": {
    "scrolled": true
   },
   "outputs": [
    {
     "name": "stdout",
     "output_type": "stream",
     "text": [
      "Epoch 1/200\n",
      " 2/30 [=>............................] - ETA: 6s - loss: 1.7142 - acc: 0.5000WARNING:tensorflow:Callbacks method `on_train_batch_end` is slow compared to the batch time (batch time: 0.1423s vs `on_train_batch_end` time: 0.3064s). Check your callbacks.\n",
      "30/30 [==============================] - 58s 2s/step - loss: 0.7862 - acc: 0.6266 - val_loss: 0.7254 - val_acc: 0.5357\n",
      "Epoch 2/200\n",
      "30/30 [==============================] - 57s 2s/step - loss: 0.6788 - acc: 0.6824 - val_loss: 0.7024 - val_acc: 0.6071\n",
      "Epoch 3/200\n",
      "30/30 [==============================] - 57s 2s/step - loss: 0.5948 - acc: 0.7039 - val_loss: 0.6834 - val_acc: 0.6429\n",
      "Epoch 4/200\n",
      "30/30 [==============================] - 57s 2s/step - loss: 0.6221 - acc: 0.7500 - val_loss: 0.6298 - val_acc: 0.6786\n",
      "Epoch 5/200\n",
      "30/30 [==============================] - 57s 2s/step - loss: 0.6404 - acc: 0.7039 - val_loss: 0.6972 - val_acc: 0.6964\n",
      "Epoch 6/200\n",
      "30/30 [==============================] - 57s 2s/step - loss: 0.6179 - acc: 0.7382 - val_loss: 0.5356 - val_acc: 0.7143\n",
      "Epoch 7/200\n",
      "30/30 [==============================] - 56s 2s/step - loss: 0.5613 - acc: 0.7639 - val_loss: 0.6839 - val_acc: 0.6786\n",
      "Epoch 8/200\n",
      "30/30 [==============================] - 56s 2s/step - loss: 0.5063 - acc: 0.7811 - val_loss: 0.7713 - val_acc: 0.6786\n",
      "Epoch 9/200\n",
      "30/30 [==============================] - 56s 2s/step - loss: 0.5042 - acc: 0.7897 - val_loss: 0.7693 - val_acc: 0.6250\n",
      "Epoch 10/200\n",
      "30/30 [==============================] - 56s 2s/step - loss: 0.4868 - acc: 0.7983 - val_loss: 0.5866 - val_acc: 0.6964\n",
      "Epoch 11/200\n",
      "30/30 [==============================] - 57s 2s/step - loss: 0.5305 - acc: 0.8155 - val_loss: 0.5548 - val_acc: 0.7321\n",
      "Epoch 12/200\n",
      "30/30 [==============================] - 56s 2s/step - loss: 0.5325 - acc: 0.7897 - val_loss: 0.6132 - val_acc: 0.6607\n",
      "Epoch 13/200\n",
      "30/30 [==============================] - 56s 2s/step - loss: 0.4406 - acc: 0.8283 - val_loss: 0.8962 - val_acc: 0.5893\n",
      "Epoch 14/200\n",
      "30/30 [==============================] - 56s 2s/step - loss: 0.4295 - acc: 0.8412 - val_loss: 0.7364 - val_acc: 0.6071\n",
      "Epoch 15/200\n",
      "30/30 [==============================] - 56s 2s/step - loss: 0.5056 - acc: 0.8283 - val_loss: 0.7985 - val_acc: 0.6429\n",
      "Epoch 16/200\n",
      "30/30 [==============================] - 56s 2s/step - loss: 0.4256 - acc: 0.8283 - val_loss: 0.5812 - val_acc: 0.7321\n",
      "Epoch 17/200\n",
      "30/30 [==============================] - 56s 2s/step - loss: 0.4534 - acc: 0.8155 - val_loss: 0.5539 - val_acc: 0.7321\n",
      "Epoch 18/200\n",
      "30/30 [==============================] - 56s 2s/step - loss: 0.4136 - acc: 0.8541 - val_loss: 0.7002 - val_acc: 0.7143\n",
      "Epoch 19/200\n",
      "30/30 [==============================] - 56s 2s/step - loss: 0.4540 - acc: 0.8112 - val_loss: 0.7599 - val_acc: 0.6429\n",
      "Epoch 20/200\n",
      "30/30 [==============================] - 56s 2s/step - loss: 0.4405 - acc: 0.8412 - val_loss: 0.6913 - val_acc: 0.6786\n",
      "Epoch 21/200\n",
      "30/30 [==============================] - 56s 2s/step - loss: 0.4775 - acc: 0.8112 - val_loss: 0.5785 - val_acc: 0.7321\n",
      "Epoch 22/200\n",
      "30/30 [==============================] - 56s 2s/step - loss: 0.4026 - acc: 0.8455 - val_loss: 0.7817 - val_acc: 0.6429\n",
      "Epoch 23/200\n",
      "30/30 [==============================] - 56s 2s/step - loss: 0.4119 - acc: 0.8283 - val_loss: 0.6939 - val_acc: 0.7321\n",
      "Epoch 24/200\n",
      "30/30 [==============================] - 56s 2s/step - loss: 0.3932 - acc: 0.8369 - val_loss: 0.6812 - val_acc: 0.7143\n",
      "Epoch 25/200\n",
      "30/30 [==============================] - 56s 2s/step - loss: 0.4136 - acc: 0.8670 - val_loss: 0.8005 - val_acc: 0.6429\n",
      "Epoch 26/200\n",
      "30/30 [==============================] - 56s 2s/step - loss: 0.3542 - acc: 0.8240 - val_loss: 1.0990 - val_acc: 0.7143\n",
      "Epoch 27/200\n",
      "30/30 [==============================] - 56s 2s/step - loss: 0.4285 - acc: 0.8412 - val_loss: 0.4887 - val_acc: 0.7857\n",
      "Epoch 28/200\n",
      "30/30 [==============================] - 56s 2s/step - loss: 0.3152 - acc: 0.8798 - val_loss: 0.7258 - val_acc: 0.7500\n",
      "Epoch 29/200\n",
      "30/30 [==============================] - 55s 2s/step - loss: 0.3561 - acc: 0.8670 - val_loss: 0.5754 - val_acc: 0.7143\n",
      "Epoch 30/200\n",
      "30/30 [==============================] - 56s 2s/step - loss: 0.4125 - acc: 0.8412 - val_loss: 0.7141 - val_acc: 0.6964\n",
      "Epoch 31/200\n",
      "30/30 [==============================] - 56s 2s/step - loss: 0.4455 - acc: 0.8412 - val_loss: 0.9486 - val_acc: 0.5357\n",
      "Epoch 32/200\n",
      "30/30 [==============================] - 57s 2s/step - loss: 0.3687 - acc: 0.8584 - val_loss: 0.9120 - val_acc: 0.6429\n",
      "Epoch 33/200\n",
      "30/30 [==============================] - 56s 2s/step - loss: 0.4011 - acc: 0.8498 - val_loss: 0.5512 - val_acc: 0.6964\n",
      "Epoch 34/200\n",
      "30/30 [==============================] - 56s 2s/step - loss: 0.3682 - acc: 0.8369 - val_loss: 1.3577 - val_acc: 0.5714\n",
      "Epoch 35/200\n",
      "30/30 [==============================] - 56s 2s/step - loss: 0.3416 - acc: 0.8455 - val_loss: 0.8117 - val_acc: 0.6786\n",
      "Epoch 36/200\n",
      "30/30 [==============================] - 56s 2s/step - loss: 0.3690 - acc: 0.8627 - val_loss: 0.8434 - val_acc: 0.6429\n",
      "Epoch 37/200\n",
      "30/30 [==============================] - 56s 2s/step - loss: 0.3664 - acc: 0.8927 - val_loss: 0.7676 - val_acc: 0.7143\n",
      "Epoch 38/200\n",
      "30/30 [==============================] - 56s 2s/step - loss: 0.3629 - acc: 0.8755 - val_loss: 1.0255 - val_acc: 0.6250\n",
      "Epoch 39/200\n",
      "30/30 [==============================] - 56s 2s/step - loss: 0.3034 - acc: 0.8841 - val_loss: 1.1774 - val_acc: 0.7321\n",
      "Epoch 40/200\n",
      "30/30 [==============================] - 55s 2s/step - loss: 0.3295 - acc: 0.8798 - val_loss: 1.1708 - val_acc: 0.6250\n",
      "Epoch 41/200\n",
      "30/30 [==============================] - 57s 2s/step - loss: 0.3571 - acc: 0.8583 - val_loss: 0.9348 - val_acc: 0.7500\n",
      "Epoch 42/200\n",
      "30/30 [==============================] - 56s 2s/step - loss: 0.3055 - acc: 0.8755 - val_loss: 1.2816 - val_acc: 0.5893\n",
      "Epoch 43/200\n",
      "30/30 [==============================] - 56s 2s/step - loss: 0.3718 - acc: 0.8755 - val_loss: 0.7759 - val_acc: 0.6786\n",
      "Epoch 44/200\n",
      "30/30 [==============================] - 56s 2s/step - loss: 0.3115 - acc: 0.8627 - val_loss: 1.5405 - val_acc: 0.6607\n",
      "Epoch 45/200\n",
      "30/30 [==============================] - 56s 2s/step - loss: 0.3662 - acc: 0.8584 - val_loss: 0.9894 - val_acc: 0.7500\n",
      "Epoch 46/200\n",
      "30/30 [==============================] - 56s 2s/step - loss: 0.2748 - acc: 0.8755 - val_loss: 0.8816 - val_acc: 0.6786\n",
      "Epoch 47/200\n",
      "30/30 [==============================] - 56s 2s/step - loss: 0.3408 - acc: 0.8670 - val_loss: 1.0303 - val_acc: 0.6071\n",
      "Epoch 48/200\n",
      "30/30 [==============================] - 56s 2s/step - loss: 0.3573 - acc: 0.8841 - val_loss: 0.5496 - val_acc: 0.6607\n",
      "Epoch 49/200\n",
      "30/30 [==============================] - 56s 2s/step - loss: 0.3101 - acc: 0.8755 - val_loss: 0.9073 - val_acc: 0.6250\n",
      "Epoch 50/200\n",
      "30/30 [==============================] - 56s 2s/step - loss: 0.2935 - acc: 0.8755 - val_loss: 1.9929 - val_acc: 0.5893\n",
      "Epoch 51/200\n",
      "30/30 [==============================] - 56s 2s/step - loss: 0.2997 - acc: 0.8670 - val_loss: 1.1823 - val_acc: 0.6786\n",
      "Epoch 52/200\n",
      "30/30 [==============================] - 56s 2s/step - loss: 0.3208 - acc: 0.8712 - val_loss: 1.1672 - val_acc: 0.5893\n",
      "Epoch 53/200\n",
      "30/30 [==============================] - 56s 2s/step - loss: 0.3706 - acc: 0.8498 - val_loss: 0.7090 - val_acc: 0.6607\n",
      "Epoch 54/200\n",
      "30/30 [==============================] - 57s 2s/step - loss: 0.2941 - acc: 0.8927 - val_loss: 1.1473 - val_acc: 0.6250\n",
      "Epoch 55/200\n",
      "30/30 [==============================] - 56s 2s/step - loss: 0.3210 - acc: 0.8927 - val_loss: 0.7216 - val_acc: 0.7321\n",
      "Epoch 56/200\n",
      "30/30 [==============================] - 56s 2s/step - loss: 0.3242 - acc: 0.8841 - val_loss: 0.8776 - val_acc: 0.6607\n",
      "Epoch 57/200\n",
      "30/30 [==============================] - 58s 2s/step - loss: 0.2869 - acc: 0.8927 - val_loss: 0.8251 - val_acc: 0.6786\n"
     ]
    }
   ],
   "source": [
    "#train the model\n",
    "history = model.fit(train_generator,\n",
    "                    steps_per_epoch = total_train // batch_size,\n",
    "                    validation_data = validation_generator,\n",
    "                    epochs= 200,\n",
    "                    validation_steps =  total_val // batch_size,\n",
    "                    callbacks =[callbacks])"
   ]
  },
  {
   "cell_type": "code",
   "execution_count": 12,
   "metadata": {},
   "outputs": [
    {
     "data": {
      "image/png": "[encoded data removed]",
      "text/plain": [
       "<Figure size 432x288 with 1 Axes>"
      ]
     },
     "metadata": {
      "needs_background": "light"
     },
     "output_type": "display_data"
    },
    {
     "data": {
      "text/plain": [
       "<Figure size 432x288 with 0 Axes>"
      ]
     },
     "metadata": {},
     "output_type": "display_data"
    },
    {
     "data": {
      "image/png": "[encoded data removed]",
      "text/plain": [
       "<Figure size 432x288 with 1 Axes>"
      ]
     },
     "metadata": {
      "needs_background": "light"
     },
     "output_type": "display_data"
    },
    {
     "data": {
      "text/plain": [
       "<Figure size 432x288 with 0 Axes>"
      ]
     },
     "metadata": {},
     "output_type": "display_data"
    }
   ],
   "source": [
    "#look at the metrics from training\n",
    "%matplotlib inline\n",
    "\n",
    "acc = history.history['acc']\n",
    "val_acc = history.history['val_acc']\n",
    "loss = history.history['loss']\n",
    "val_loss = history.history['val_loss']\n",
    "\n",
    "epochs = range(len(acc))\n",
    "\n",
    "plt.plot(epochs, acc, 'r', label='Training accuracy')\n",
    "plt.plot(epochs, val_acc, 'b', label='Validation accuracy')\n",
    "\n",
    "plt.title('Training and validation accuracy')\n",
    "plt.legend(loc=0)\n",
    "plt.figure()\n",
    "plt.show()\n",
    "\n",
    "plt.plot(epochs, loss, 'r--', label='Training loss')\n",
    "plt.plot(epochs, val_loss, 'b--', label='Validation loss')\n",
    "plt.title('Training and validation loss') \n",
    "plt.legend(loc=0)\n",
    "plt.figure()\n",
    "plt.show()"
   ]
  },
  {
   "cell_type": "code",
   "execution_count": 13,
   "metadata": {},
   "outputs": [
    {
     "name": "stdout",
     "output_type": "stream",
     "text": [
      "WARNING:tensorflow:From /usr/lib/python3/dist-packages/tensorflow/python/training/tracking/tracking.py:111: Model.state_updates (from tensorflow.python.keras.engine.training) is deprecated and will be removed in a future version.\n",
      "Instructions for updating:\n",
      "This property should not be used in TensorFlow 2.0, as updates are applied automatically.\n",
      "WARNING:tensorflow:From /usr/lib/python3/dist-packages/tensorflow/python/training/tracking/tracking.py:111: Layer.updates (from tensorflow.python.keras.engine.base_layer) is deprecated and will be removed in a future version.\n",
      "Instructions for updating:\n",
      "This property should not be used in TensorFlow 2.0, as updates are applied automatically.\n",
      "INFO:tensorflow:Assets written to: ./saved_VGG16_AL1/assets\n"
     ]
    }
   ],
   "source": [
    "#save the model\n",
    "filepath = './saved_VGG16_AL1'\n",
    "model.save(filepath)\n",
    "\n",
    "#load model\n",
    "#model = tf.keras.models.load_model(filepath, compile = True)"
   ]
  },
  {
   "cell_type": "code",
   "execution_count": null,
   "metadata": {},
   "outputs": [],
   "source": []
  }
 ],
 "metadata": {
  "kernelspec": {
   "display_name": "Python 3",
   "language": "python",
   "name": "python3"
  },
  "language_info": {
   "codemirror_mode": {
    "name": "ipython",
    "version": 3
   },
   "file_extension": ".py",
   "mimetype": "text/x-python",
   "name": "python",
   "nbconvert_exporter": "python",
   "pygments_lexer": "ipython3",
   "version": "3.8.5"
  }
 },
 "nbformat": 4,
 "nbformat_minor": 2
}
